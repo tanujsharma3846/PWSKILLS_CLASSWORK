{
 "cells": [
  {
   "cell_type": "markdown",
   "id": "545e9919",
   "metadata": {},
   "source": [
    "# BUFFERED READ AND WRITE"
   ]
  },
  {
   "cell_type": "code",
   "execution_count": 1,
   "id": "615783c4",
   "metadata": {},
   "outputs": [],
   "source": [
    "import io"
   ]
  },
  {
   "cell_type": "code",
   "execution_count": 24,
   "id": "3f060018",
   "metadata": {},
   "outputs": [],
   "source": [
    "# when we write a big file in buffer, it is written in chunks\n",
    "# io-->input output module\n",
    "# wb-->write binary\n",
    "# rb-->read binary"
   ]
  },
  {
   "cell_type": "code",
   "execution_count": 6,
   "id": "2fe0c6b1",
   "metadata": {},
   "outputs": [],
   "source": [
    "# writing buffer file"
   ]
  },
  {
   "cell_type": "code",
   "execution_count": 9,
   "id": "4479ef57",
   "metadata": {},
   "outputs": [],
   "source": [
    "with open(\"test1.txt\",\"wb\") as f:\n",
    "    file=io.BufferedWriter(f)\n",
    "    \n",
    "    file.write(b\"this is my first line\\n\")\n",
    "    file.write(b\"this is my second line\\n\")\n",
    "    file.flush()"
   ]
  },
  {
   "cell_type": "code",
   "execution_count": 10,
   "id": "76886c7f",
   "metadata": {},
   "outputs": [],
   "source": [
    "with open(\"test2.txt\",\"wb\") as f:\n",
    "    file=io.BufferedWriter(f)\n",
    "    \n",
    "    file.write(b\"Data Science Masters course is highly curated and uniquely designed according to the latest industry standards. This program instills students the skills essential to knowledge discovery efforts to identify standard, novel, and truly differentiated solutions and decision-making, including skills in managing, querying, analyzing, visualizing, and extracting meaning from extremely large data sets.\")\n",
    "    file.flush()"
   ]
  },
  {
   "cell_type": "code",
   "execution_count": 7,
   "id": "611c4a80",
   "metadata": {},
   "outputs": [],
   "source": [
    "# reading buffer file"
   ]
  },
  {
   "cell_type": "code",
   "execution_count": 12,
   "id": "38f22d77",
   "metadata": {},
   "outputs": [
    {
     "name": "stdout",
     "output_type": "stream",
     "text": [
      "b'this is my first line\\nthis is my second line\\n'\n"
     ]
    }
   ],
   "source": [
    "with open(\"test1.txt\",\"rb\") as f:\n",
    "    file=io.BufferedReader(f)\n",
    "    data=file.read()\n",
    "    print(data)"
   ]
  },
  {
   "cell_type": "code",
   "execution_count": 13,
   "id": "89e6b975",
   "metadata": {},
   "outputs": [],
   "source": [
    "# if we want to read only 10 bytes"
   ]
  },
  {
   "cell_type": "code",
   "execution_count": 14,
   "id": "44495000",
   "metadata": {},
   "outputs": [
    {
     "name": "stdout",
     "output_type": "stream",
     "text": [
      "b'this is my'\n"
     ]
    }
   ],
   "source": [
    "with open(\"test1.txt\",\"rb\") as f:\n",
    "    file=io.BufferedReader(f)\n",
    "    data=file.read(10)\n",
    "    print(data)"
   ]
  },
  {
   "cell_type": "code",
   "execution_count": 18,
   "id": "d80db6fd",
   "metadata": {},
   "outputs": [],
   "source": [
    "# if we want to read only 20 byte"
   ]
  },
  {
   "cell_type": "code",
   "execution_count": 19,
   "id": "f6409e5f",
   "metadata": {},
   "outputs": [
    {
     "name": "stdout",
     "output_type": "stream",
     "text": [
      "b'this is my first lin'\n"
     ]
    }
   ],
   "source": [
    "with open(\"test1.txt\",\"rb\") as f:\n",
    "    file=io.BufferedReader(f)\n",
    "    data=file.read(20)\n",
    "    print(data)"
   ]
  },
  {
   "cell_type": "code",
   "execution_count": 20,
   "id": "cd0f3d7d",
   "metadata": {},
   "outputs": [],
   "source": [
    "# if we want to read only 100 bytes"
   ]
  },
  {
   "cell_type": "code",
   "execution_count": 22,
   "id": "90163b4f",
   "metadata": {},
   "outputs": [
    {
     "name": "stdout",
     "output_type": "stream",
     "text": [
      "b'Data Science Masters course is highly curated and uniquely designed according to the latest industry'\n"
     ]
    }
   ],
   "source": [
    "with open(\"test2.txt\",\"rb\") as f:\n",
    "    file=io.BufferedReader(f)\n",
    "    data=file.read(100)\n",
    "    print(data)"
   ]
  },
  {
   "cell_type": "code",
   "execution_count": null,
   "id": "7d98634b",
   "metadata": {},
   "outputs": [],
   "source": []
  }
 ],
 "metadata": {
  "kernelspec": {
   "display_name": "Python 3 (ipykernel)",
   "language": "python",
   "name": "python3"
  },
  "language_info": {
   "codemirror_mode": {
    "name": "ipython",
    "version": 3
   },
   "file_extension": ".py",
   "mimetype": "text/x-python",
   "name": "python",
   "nbconvert_exporter": "python",
   "pygments_lexer": "ipython3",
   "version": "3.9.12"
  }
 },
 "nbformat": 4,
 "nbformat_minor": 5
}
