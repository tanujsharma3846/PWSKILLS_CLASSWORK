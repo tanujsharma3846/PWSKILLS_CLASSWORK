{
 "cells": [
  {
   "cell_type": "markdown",
   "id": "be805aab",
   "metadata": {},
   "source": [
    "# Reading and Writing files"
   ]
  },
  {
   "cell_type": "markdown",
   "id": "82cb2665",
   "metadata": {},
   "source": [
    "## type 1 : json file"
   ]
  },
  {
   "cell_type": "code",
   "execution_count": 1,
   "id": "e980b7ac",
   "metadata": {},
   "outputs": [],
   "source": [
    "data={\n",
    "    \"name\":\"sudh\",\n",
    "    \"mail_id\":\"sudh123@gmail.com\",\n",
    "    \"phone_number\":123455,\n",
    "    \"subject\":[\"data science\",\"big data\",\"data analysis\"]\n",
    "}"
   ]
  },
  {
   "cell_type": "code",
   "execution_count": 2,
   "id": "a9271c42",
   "metadata": {},
   "outputs": [
    {
     "data": {
      "text/plain": [
       "{'name': 'sudh',\n",
       " 'mail_id': 'sudh123@gmail.com',\n",
       " 'phone_number': 123455,\n",
       " 'subject': ['data science', 'big data', 'data analysis']}"
      ]
     },
     "execution_count": 2,
     "metadata": {},
     "output_type": "execute_result"
    }
   ],
   "source": [
    "data"
   ]
  },
  {
   "cell_type": "code",
   "execution_count": 3,
   "id": "becd5040",
   "metadata": {},
   "outputs": [],
   "source": [
    "# this data form is know as json form of data"
   ]
  },
  {
   "cell_type": "markdown",
   "id": "765b72d0",
   "metadata": {},
   "source": [
    "### writing json data in a file"
   ]
  },
  {
   "cell_type": "code",
   "execution_count": 4,
   "id": "2541b482",
   "metadata": {},
   "outputs": [],
   "source": [
    "import json"
   ]
  },
  {
   "cell_type": "code",
   "execution_count": 5,
   "id": "2d4dc0a9",
   "metadata": {},
   "outputs": [],
   "source": [
    "with open(\"data.json\",\"w\") as f:\n",
    "    json.dump(data,f)"
   ]
  },
  {
   "cell_type": "code",
   "execution_count": 6,
   "id": "a33ff4cb",
   "metadata": {},
   "outputs": [],
   "source": [
    "# json.dump() is used add data in a json file"
   ]
  },
  {
   "cell_type": "markdown",
   "id": "b206f88b",
   "metadata": {},
   "source": [
    "### reading json data in a file"
   ]
  },
  {
   "cell_type": "code",
   "execution_count": 7,
   "id": "46ba79c0",
   "metadata": {},
   "outputs": [],
   "source": [
    "with open(\"data.json\",\"r\") as f:\n",
    "    data1=json.load(f)"
   ]
  },
  {
   "cell_type": "code",
   "execution_count": 8,
   "id": "2fb89b28",
   "metadata": {},
   "outputs": [
    {
     "data": {
      "text/plain": [
       "{'name': 'sudh',\n",
       " 'mail_id': 'sudh123@gmail.com',\n",
       " 'phone_number': 123455,\n",
       " 'subject': ['data science', 'big data', 'data analysis']}"
      ]
     },
     "execution_count": 8,
     "metadata": {},
     "output_type": "execute_result"
    }
   ],
   "source": [
    "data1"
   ]
  },
  {
   "cell_type": "code",
   "execution_count": 10,
   "id": "d6375e36",
   "metadata": {},
   "outputs": [
    {
     "data": {
      "text/plain": [
       "['data science', 'big data', 'data analysis']"
      ]
     },
     "execution_count": 10,
     "metadata": {},
     "output_type": "execute_result"
    }
   ],
   "source": [
    "# access dictionary in json form\n",
    "data[\"subject\"]"
   ]
  },
  {
   "cell_type": "markdown",
   "id": "4221efbd",
   "metadata": {},
   "source": [
    "### read --> json.load()\n",
    "### write--> json.dump()"
   ]
  },
  {
   "cell_type": "markdown",
   "id": "3c8e5a90",
   "metadata": {},
   "source": [
    "## type 2 :csv format"
   ]
  },
  {
   "cell_type": "code",
   "execution_count": 11,
   "id": "0b3804ae",
   "metadata": {},
   "outputs": [],
   "source": [
    "# csv ->comma seperated value files"
   ]
  },
  {
   "cell_type": "code",
   "execution_count": 12,
   "id": "2682377c",
   "metadata": {},
   "outputs": [],
   "source": [
    "import csv"
   ]
  },
  {
   "cell_type": "code",
   "execution_count": 16,
   "id": "190ed943",
   "metadata": {},
   "outputs": [],
   "source": [
    "data=[\n",
    "     [\"name\",\"email\",\"phone\"],\n",
    "     [\"sudh\",\"sudh@gmail.com\",1234567],\n",
    "     [\"krish\",\"krish@gmail.com\",234567]\n",
    "]"
   ]
  },
  {
   "cell_type": "code",
   "execution_count": 19,
   "id": "e373fcb9",
   "metadata": {},
   "outputs": [],
   "source": [
    "with open(\"data2.csv\",\"w\") as f:\n",
    "    writer=csv.writer(f)\n",
    "    \n",
    "    for i in data:\n",
    "        writer.writerow(i)"
   ]
  },
  {
   "cell_type": "code",
   "execution_count": 20,
   "id": "aac70eff",
   "metadata": {},
   "outputs": [],
   "source": [
    "# read csv files"
   ]
  },
  {
   "cell_type": "code",
   "execution_count": 22,
   "id": "c0dcb9e4",
   "metadata": {},
   "outputs": [
    {
     "name": "stdout",
     "output_type": "stream",
     "text": [
      "['name', 'email', 'phone']\n",
      "[]\n",
      "['sudh', 'sudh@gmail.com', '1234567']\n",
      "[]\n",
      "['krish', 'krish@gmail.com', '234567']\n",
      "[]\n"
     ]
    }
   ],
   "source": [
    "with open(\"data2.csv\",\"r\") as f:\n",
    "    read_data=csv.reader(f)\n",
    "    \n",
    "    for i in read_data:\n",
    "        print(i)"
   ]
  },
  {
   "cell_type": "markdown",
   "id": "596ed45e",
   "metadata": {},
   "source": [
    "## type 3:  binary data"
   ]
  },
  {
   "cell_type": "code",
   "execution_count": 24,
   "id": "94126b6d",
   "metadata": {},
   "outputs": [],
   "source": [
    "# storing binary data in a file"
   ]
  },
  {
   "cell_type": "code",
   "execution_count": 27,
   "id": "a9839494",
   "metadata": {},
   "outputs": [],
   "source": [
    "# write in a binary file"
   ]
  },
  {
   "cell_type": "code",
   "execution_count": 26,
   "id": "b5b3703b",
   "metadata": {},
   "outputs": [],
   "source": [
    "with open(\"test4.bin\",\"wb\") as f:\n",
    "    f.write(b\"\\x01\\x02\\x03\")"
   ]
  },
  {
   "cell_type": "code",
   "execution_count": 28,
   "id": "2bc45024",
   "metadata": {},
   "outputs": [],
   "source": [
    "# read a binary file"
   ]
  },
  {
   "cell_type": "code",
   "execution_count": 29,
   "id": "ebd482f7",
   "metadata": {},
   "outputs": [
    {
     "name": "stdout",
     "output_type": "stream",
     "text": [
      "b'\\x01\\x02\\x03'\n"
     ]
    }
   ],
   "source": [
    "with open(\"test4.bin\",\"rb\") as f:\n",
    "    print(f.read())"
   ]
  },
  {
   "cell_type": "code",
   "execution_count": null,
   "id": "80b56722",
   "metadata": {},
   "outputs": [],
   "source": []
  }
 ],
 "metadata": {
  "kernelspec": {
   "display_name": "Python 3 (ipykernel)",
   "language": "python",
   "name": "python3"
  },
  "language_info": {
   "codemirror_mode": {
    "name": "ipython",
    "version": 3
   },
   "file_extension": ".py",
   "mimetype": "text/x-python",
   "name": "python",
   "nbconvert_exporter": "python",
   "pygments_lexer": "ipython3",
   "version": "3.9.12"
  }
 },
 "nbformat": 4,
 "nbformat_minor": 5
}
