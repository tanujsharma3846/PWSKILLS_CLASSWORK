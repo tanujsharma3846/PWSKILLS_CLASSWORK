{
 "cells": [
  {
   "cell_type": "markdown",
   "id": "96b60181",
   "metadata": {},
   "source": [
    "# file handling(11 feb class)"
   ]
  },
  {
   "cell_type": "markdown",
   "id": "44e4a9aa",
   "metadata": {},
   "source": [
    "## working with files"
   ]
  },
  {
   "cell_type": "code",
   "execution_count": 1,
   "id": "0f2ecfd8",
   "metadata": {},
   "outputs": [],
   "source": [
    "f=open(\"test.txt\",\"w\")"
   ]
  },
  {
   "cell_type": "code",
   "execution_count": 2,
   "id": "e781cf6f",
   "metadata": {},
   "outputs": [
    {
     "data": {
      "text/plain": [
       "'C:\\\\Users\\\\Lenovo\\\\OneDrive\\\\Desktop\\\\11feb_files'"
      ]
     },
     "execution_count": 2,
     "metadata": {},
     "output_type": "execute_result"
    }
   ],
   "source": [
    "pwd"
   ]
  },
  {
   "cell_type": "code",
   "execution_count": 3,
   "id": "d5ec9dc3",
   "metadata": {},
   "outputs": [
    {
     "name": "stdout",
     "output_type": "stream",
     "text": [
      " Volume in drive C is Windows-SSD\n",
      " Volume Serial Number is 26A4-88C8\n",
      "\n",
      " Directory of C:\\Users\\Lenovo\\OneDrive\\Desktop\\11feb_files\n",
      "\n",
      "18-02-2023  13:30    <DIR>          .\n",
      "18-02-2023  13:30    <DIR>          ..\n",
      "18-02-2023  04:28    <DIR>          .ipynb_checkpoints\n",
      "18-02-2023  13:35                 0 test.txt\n",
      "18-02-2023  13:30            12,599 Working_with_files.ipynb\n",
      "               2 File(s)         12,599 bytes\n",
      "               3 Dir(s)  11,513,376,768 bytes free\n"
     ]
    }
   ],
   "source": [
    "ls"
   ]
  },
  {
   "cell_type": "code",
   "execution_count": 4,
   "id": "655aeb17",
   "metadata": {},
   "outputs": [
    {
     "data": {
      "text/plain": [
       "30"
      ]
     },
     "execution_count": 4,
     "metadata": {},
     "output_type": "execute_result"
    }
   ],
   "source": [
    "f.write(\"this is my first file to write\")"
   ]
  },
  {
   "cell_type": "code",
   "execution_count": 5,
   "id": "7a0544cf",
   "metadata": {},
   "outputs": [],
   "source": [
    "f.close()"
   ]
  },
  {
   "cell_type": "code",
   "execution_count": 6,
   "id": "7d914cb6",
   "metadata": {},
   "outputs": [],
   "source": [
    "# ls --> tells all files present in directory"
   ]
  },
  {
   "cell_type": "code",
   "execution_count": 7,
   "id": "950866e5",
   "metadata": {},
   "outputs": [],
   "source": [
    "f=open(\"test.txt\",\"w\")"
   ]
  },
  {
   "cell_type": "code",
   "execution_count": 8,
   "id": "a48f8fc4",
   "metadata": {},
   "outputs": [
    {
     "data": {
      "text/plain": [
       "15"
      ]
     },
     "execution_count": 8,
     "metadata": {},
     "output_type": "execute_result"
    }
   ],
   "source": [
    "f.write(\"this is my file\")"
   ]
  },
  {
   "cell_type": "code",
   "execution_count": 9,
   "id": "b4818768",
   "metadata": {},
   "outputs": [],
   "source": [
    "f.close()"
   ]
  },
  {
   "cell_type": "code",
   "execution_count": 10,
   "id": "dc8bed6c",
   "metadata": {},
   "outputs": [],
   "source": [
    "f=open(\"test.txt\",\"a\")"
   ]
  },
  {
   "cell_type": "code",
   "execution_count": 11,
   "id": "1511b0cf",
   "metadata": {},
   "outputs": [
    {
     "data": {
      "text/plain": [
       "401"
      ]
     },
     "execution_count": 11,
     "metadata": {},
     "output_type": "execute_result"
    }
   ],
   "source": [
    "f.write(\" .Data Science Masters course is highly curated and uniquely designed according to the latest industry standards. This program instills students the skills essential to knowledge discovery efforts to identify standard, novel, and truly differentiated solutions and decision-making, including skills in managing, querying, analyzing, visualizing, and extracting meaning from extremely large data sets. \")"
   ]
  },
  {
   "cell_type": "code",
   "execution_count": 12,
   "id": "3d5b0e32",
   "metadata": {},
   "outputs": [],
   "source": [
    "f.close()"
   ]
  },
  {
   "cell_type": "code",
   "execution_count": 13,
   "id": "2315536f",
   "metadata": {},
   "outputs": [],
   "source": [
    "# w mode-->truncate old data and write new\n",
    "# a mode-->append new data, keep old data"
   ]
  },
  {
   "cell_type": "code",
   "execution_count": 14,
   "id": "89e304a6",
   "metadata": {},
   "outputs": [],
   "source": [
    "f=open(\"test.txt\",\"r\")"
   ]
  },
  {
   "cell_type": "code",
   "execution_count": 15,
   "id": "40ce6dec",
   "metadata": {},
   "outputs": [
    {
     "data": {
      "text/plain": [
       "'this is my file .Data Science Masters course is highly curated and uniquely designed according to the latest industry standards. This program instills students the skills essential to knowledge discovery efforts to identify standard, novel, and truly differentiated solutions and decision-making, including skills in managing, querying, analyzing, visualizing, and extracting meaning from extremely large data sets. '"
      ]
     },
     "execution_count": 15,
     "metadata": {},
     "output_type": "execute_result"
    }
   ],
   "source": [
    "f.read()"
   ]
  },
  {
   "cell_type": "code",
   "execution_count": 16,
   "id": "8e4a7178",
   "metadata": {},
   "outputs": [],
   "source": [
    "data=open(\"test.txt\",\"r\")"
   ]
  },
  {
   "cell_type": "code",
   "execution_count": 17,
   "id": "e58ce9d1",
   "metadata": {},
   "outputs": [
    {
     "data": {
      "text/plain": [
       "<_io.TextIOWrapper name='test.txt' mode='r' encoding='cp1252'>"
      ]
     },
     "execution_count": 17,
     "metadata": {},
     "output_type": "execute_result"
    }
   ],
   "source": [
    "data"
   ]
  },
  {
   "cell_type": "code",
   "execution_count": 18,
   "id": "5c68148e",
   "metadata": {},
   "outputs": [
    {
     "data": {
      "text/plain": [
       "'this is my file .Data Science Masters course is highly curated and uniquely designed according to the latest industry standards. This program instills students the skills essential to knowledge discovery efforts to identify standard, novel, and truly differentiated solutions and decision-making, including skills in managing, querying, analyzing, visualizing, and extracting meaning from extremely large data sets. '"
      ]
     },
     "execution_count": 18,
     "metadata": {},
     "output_type": "execute_result"
    }
   ],
   "source": [
    "data.read()"
   ]
  },
  {
   "cell_type": "code",
   "execution_count": 19,
   "id": "e241503a",
   "metadata": {},
   "outputs": [],
   "source": [
    "# read data line by line"
   ]
  },
  {
   "cell_type": "code",
   "execution_count": 20,
   "id": "f018e567",
   "metadata": {},
   "outputs": [
    {
     "data": {
      "text/plain": [
       "''"
      ]
     },
     "execution_count": 20,
     "metadata": {},
     "output_type": "execute_result"
    }
   ],
   "source": [
    "data.readline()\n",
    "# readline gives empty because when we did read, the pointer came to last point thus it could find anything to read. we need to place the pointer at 0 index of paragraph in order to read it."
   ]
  },
  {
   "cell_type": "code",
   "execution_count": 21,
   "id": "528c99dc",
   "metadata": {},
   "outputs": [
    {
     "data": {
      "text/plain": [
       "0"
      ]
     },
     "execution_count": 21,
     "metadata": {},
     "output_type": "execute_result"
    }
   ],
   "source": [
    "data.seek(0)\n",
    "# setting the pointer to 0 in order to read it "
   ]
  },
  {
   "cell_type": "code",
   "execution_count": 22,
   "id": "41cfba29",
   "metadata": {},
   "outputs": [
    {
     "data": {
      "text/plain": [
       "'this is my file .Data Science Masters course is highly curated and uniquely designed according to the latest industry standards. This program instills students the skills essential to knowledge discovery efforts to identify standard, novel, and truly differentiated solutions and decision-making, including skills in managing, querying, analyzing, visualizing, and extracting meaning from extremely large data sets. '"
      ]
     },
     "execution_count": 22,
     "metadata": {},
     "output_type": "execute_result"
    }
   ],
   "source": [
    "data.readline()\n",
    "# now the pointer reads from 0 to end "
   ]
  },
  {
   "cell_type": "code",
   "execution_count": 23,
   "id": "51983cbe",
   "metadata": {},
   "outputs": [
    {
     "data": {
      "text/plain": [
       "''"
      ]
     },
     "execution_count": 23,
     "metadata": {},
     "output_type": "execute_result"
    }
   ],
   "source": [
    "data.readline()"
   ]
  },
  {
   "cell_type": "code",
   "execution_count": 24,
   "id": "4966c56a",
   "metadata": {},
   "outputs": [],
   "source": [
    "# it again gets empty space because the pointer again came to last. we need to replace it again "
   ]
  },
  {
   "cell_type": "code",
   "execution_count": 25,
   "id": "5e8bf12d",
   "metadata": {},
   "outputs": [],
   "source": [
    "# we can place pointer according to our will as well"
   ]
  },
  {
   "cell_type": "code",
   "execution_count": 26,
   "id": "7db2460e",
   "metadata": {},
   "outputs": [
    {
     "data": {
      "text/plain": [
       "10"
      ]
     },
     "execution_count": 26,
     "metadata": {},
     "output_type": "execute_result"
    }
   ],
   "source": [
    "data.seek(10)"
   ]
  },
  {
   "cell_type": "code",
   "execution_count": 27,
   "id": "2210cc7e",
   "metadata": {},
   "outputs": [
    {
     "data": {
      "text/plain": [
       "' file .Data Science Masters course is highly curated and uniquely designed according to the latest industry standards. This program instills students the skills essential to knowledge discovery efforts to identify standard, novel, and truly differentiated solutions and decision-making, including skills in managing, querying, analyzing, visualizing, and extracting meaning from extremely large data sets. '"
      ]
     },
     "execution_count": 27,
     "metadata": {},
     "output_type": "execute_result"
    }
   ],
   "source": [
    "# it will read from position 10 \n",
    "data.read()"
   ]
  },
  {
   "cell_type": "code",
   "execution_count": 28,
   "id": "fd7cc596",
   "metadata": {},
   "outputs": [],
   "source": [
    "data1=open(\"test.txt\",\"r\")"
   ]
  },
  {
   "cell_type": "code",
   "execution_count": 29,
   "id": "0e656f71",
   "metadata": {},
   "outputs": [
    {
     "name": "stdout",
     "output_type": "stream",
     "text": [
      "this is my file .Data Science Masters course is highly curated and uniquely designed according to the latest industry standards. This program instills students the skills essential to knowledge discovery efforts to identify standard, novel, and truly differentiated solutions and decision-making, including skills in managing, querying, analyzing, visualizing, and extracting meaning from extremely large data sets. \n"
     ]
    }
   ],
   "source": [
    "# this will read data line by line\n",
    "for i in data1:\n",
    "    print(i)"
   ]
  },
  {
   "cell_type": "code",
   "execution_count": 30,
   "id": "fa4a0fdd",
   "metadata": {},
   "outputs": [],
   "source": [
    "# finding size of file"
   ]
  },
  {
   "cell_type": "code",
   "execution_count": 31,
   "id": "70d4401e",
   "metadata": {},
   "outputs": [],
   "source": [
    "import os"
   ]
  },
  {
   "cell_type": "code",
   "execution_count": 32,
   "id": "b85e96ab",
   "metadata": {},
   "outputs": [
    {
     "data": {
      "text/plain": [
       "416"
      ]
     },
     "execution_count": 32,
     "metadata": {},
     "output_type": "execute_result"
    }
   ],
   "source": [
    "os.path.getsize(\"test.txt\")"
   ]
  },
  {
   "cell_type": "code",
   "execution_count": 33,
   "id": "d4f59961",
   "metadata": {},
   "outputs": [],
   "source": [
    "# answer will be in bytes\n",
    "# 416 --> 416 bytes"
   ]
  },
  {
   "cell_type": "code",
   "execution_count": 34,
   "id": "146d76e6",
   "metadata": {},
   "outputs": [],
   "source": [
    "# delete file\n",
    "# os.remove(\"test.txt\")"
   ]
  },
  {
   "cell_type": "code",
   "execution_count": 35,
   "id": "334dbb7f",
   "metadata": {},
   "outputs": [],
   "source": [
    "# rename a file"
   ]
  },
  {
   "cell_type": "code",
   "execution_count": 40,
   "id": "c506134c",
   "metadata": {},
   "outputs": [],
   "source": [
    "f.close()"
   ]
  },
  {
   "cell_type": "code",
   "execution_count": 44,
   "id": "d94ccd2a",
   "metadata": {},
   "outputs": [],
   "source": [
    "# os.rename('test.txt','new.txt')"
   ]
  },
  {
   "cell_type": "code",
   "execution_count": 45,
   "id": "309b93b9",
   "metadata": {},
   "outputs": [],
   "source": [
    "# create copy of a file"
   ]
  },
  {
   "cell_type": "code",
   "execution_count": 46,
   "id": "4d47d73e",
   "metadata": {},
   "outputs": [],
   "source": [
    "# lib used to copy and create a file\n",
    "import shutil"
   ]
  },
  {
   "cell_type": "code",
   "execution_count": 48,
   "id": "0585538d",
   "metadata": {},
   "outputs": [
    {
     "data": {
      "text/plain": [
       "'copy_test.txt'"
      ]
     },
     "execution_count": 48,
     "metadata": {},
     "output_type": "execute_result"
    }
   ],
   "source": [
    "shutil.copy(\"test.txt\",\"copy_test.txt\")"
   ]
  },
  {
   "cell_type": "code",
   "execution_count": 53,
   "id": "eee0da2e",
   "metadata": {},
   "outputs": [
    {
     "name": "stdout",
     "output_type": "stream",
     "text": [
      "this is my file .Data Science Masters course is highly curated and uniquely designed according to the latest industry standards. This program instills students the skills essential to knowledge discovery efforts to identify standard, novel, and truly differentiated solutions and decision-making, including skills in managing, querying, analyzing, visualizing, and extracting meaning from extremely large data sets. \n"
     ]
    }
   ],
   "source": [
    "with open(\"test.txt\",\"r\") as f :\n",
    "    print(f.read())"
   ]
  },
  {
   "cell_type": "code",
   "execution_count": null,
   "id": "872e687c",
   "metadata": {},
   "outputs": [],
   "source": []
  }
 ],
 "metadata": {
  "kernelspec": {
   "display_name": "Python 3 (ipykernel)",
   "language": "python",
   "name": "python3"
  },
  "language_info": {
   "codemirror_mode": {
    "name": "ipython",
    "version": 3
   },
   "file_extension": ".py",
   "mimetype": "text/x-python",
   "name": "python",
   "nbconvert_exporter": "python",
   "pygments_lexer": "ipython3",
   "version": "3.9.12"
  }
 },
 "nbformat": 4,
 "nbformat_minor": 5
}
