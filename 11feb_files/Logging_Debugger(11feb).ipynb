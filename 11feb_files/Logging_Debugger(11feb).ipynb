{
 "cells": [
  {
   "cell_type": "markdown",
   "id": "121829a0",
   "metadata": {},
   "source": [
    "# Logging Debugger"
   ]
  },
  {
   "cell_type": "code",
   "execution_count": 1,
   "id": "92762a70",
   "metadata": {},
   "outputs": [],
   "source": [
    "# logging --> if we have a file to store where what is done "
   ]
  },
  {
   "cell_type": "code",
   "execution_count": 2,
   "id": "2977d092",
   "metadata": {},
   "outputs": [
    {
     "name": "stdout",
     "output_type": "stream",
     "text": [
      "this is my print\n"
     ]
    }
   ],
   "source": [
    "print(\"this is my print\")"
   ]
  },
  {
   "cell_type": "code",
   "execution_count": 3,
   "id": "1687aa55",
   "metadata": {},
   "outputs": [],
   "source": [
    "# logging -> it creates a file, we can store things for future investigation"
   ]
  },
  {
   "cell_type": "code",
   "execution_count": 4,
   "id": "008e1a18",
   "metadata": {},
   "outputs": [],
   "source": [
    "# instead of using print , use loging module"
   ]
  },
  {
   "cell_type": "code",
   "execution_count": 5,
   "id": "665a3f47",
   "metadata": {},
   "outputs": [],
   "source": [
    "import logging"
   ]
  },
  {
   "cell_type": "code",
   "execution_count": 6,
   "id": "d7fabc59",
   "metadata": {},
   "outputs": [],
   "source": [
    "logging.basicConfig(filename=\"test.log\",level=logging.INFO)"
   ]
  },
  {
   "cell_type": "code",
   "execution_count": 7,
   "id": "c9872d74",
   "metadata": {},
   "outputs": [],
   "source": [
    "logging.info(\"log this line of execution\")"
   ]
  },
  {
   "cell_type": "code",
   "execution_count": 8,
   "id": "71f17c26",
   "metadata": {},
   "outputs": [],
   "source": [
    "logging.info(\"this is my print\")"
   ]
  },
  {
   "cell_type": "markdown",
   "id": "d34ac224",
   "metadata": {},
   "source": [
    "## logging levels "
   ]
  },
  {
   "cell_type": "markdown",
   "id": "2f71b922",
   "metadata": {},
   "source": [
    "#### 1) NOTSET\n",
    "#### 2) DEBUG\n",
    "#### 3) INFO\n",
    "#### 4) WARNING\n",
    "#### 5) ERROR\n",
    "#### 6) CRITICAL"
   ]
  },
  {
   "cell_type": "code",
   "execution_count": 9,
   "id": "9e9ffaae",
   "metadata": {},
   "outputs": [],
   "source": [
    "logging.debug(\"this is my message\")\n",
    "# we have set level =INFO,so debug is above info,we will not be able to log it"
   ]
  },
  {
   "cell_type": "code",
   "execution_count": 10,
   "id": "4e0991b3",
   "metadata": {},
   "outputs": [],
   "source": [
    "# if logging level is info, then we will be able to log info and levels below info only"
   ]
  },
  {
   "cell_type": "code",
   "execution_count": 11,
   "id": "33c0ced7",
   "metadata": {},
   "outputs": [],
   "source": [
    "# we can not log levels above level decided "
   ]
  },
  {
   "cell_type": "code",
   "execution_count": 12,
   "id": "109e5b5e",
   "metadata": {},
   "outputs": [],
   "source": [
    "logging.warning(\"this is my warning message\")"
   ]
  },
  {
   "cell_type": "code",
   "execution_count": 13,
   "id": "67c7fb3c",
   "metadata": {},
   "outputs": [],
   "source": [
    "logging.error(\"this is my error\")"
   ]
  },
  {
   "cell_type": "code",
   "execution_count": 14,
   "id": "0b1b7eb2",
   "metadata": {},
   "outputs": [],
   "source": [
    "logging.critical(\"this is my critical message\")"
   ]
  },
  {
   "cell_type": "code",
   "execution_count": 15,
   "id": "16739c09",
   "metadata": {},
   "outputs": [],
   "source": [
    "logging.shutdown()"
   ]
  },
  {
   "cell_type": "code",
   "execution_count": 16,
   "id": "1025c603",
   "metadata": {},
   "outputs": [],
   "source": [
    "# print->comes to console and goes\n",
    "# logging helps in investigation, we can permanently record the process in a file"
   ]
  },
  {
   "cell_type": "code",
   "execution_count": 17,
   "id": "94816637",
   "metadata": {},
   "outputs": [],
   "source": [
    "logging.basicConfig(filename=\"raju.log\", level=logging.DEBUG , format='%(asctime)s %(message)s')"
   ]
  },
  {
   "cell_type": "code",
   "execution_count": 18,
   "id": "7e14903b",
   "metadata": {},
   "outputs": [],
   "source": [
    "logging.info(\"this is my info logging\")"
   ]
  },
  {
   "cell_type": "code",
   "execution_count": 19,
   "id": "7f7ec394",
   "metadata": {},
   "outputs": [],
   "source": [
    "logging.error(\"this is my error message\")"
   ]
  },
  {
   "cell_type": "code",
   "execution_count": 20,
   "id": "870958c5",
   "metadata": {},
   "outputs": [],
   "source": [
    "logging.critical(\"this is my critical message\")"
   ]
  },
  {
   "cell_type": "code",
   "execution_count": 21,
   "id": "dc74e09c",
   "metadata": {},
   "outputs": [],
   "source": [
    "logging.shutdown()"
   ]
  },
  {
   "cell_type": "code",
   "execution_count": null,
   "id": "3ad61e35",
   "metadata": {},
   "outputs": [],
   "source": []
  }
 ],
 "metadata": {
  "kernelspec": {
   "display_name": "Python 3 (ipykernel)",
   "language": "python",
   "name": "python3"
  },
  "language_info": {
   "codemirror_mode": {
    "name": "ipython",
    "version": 3
   },
   "file_extension": ".py",
   "mimetype": "text/x-python",
   "name": "python",
   "nbconvert_exporter": "python",
   "pygments_lexer": "ipython3",
   "version": "3.9.12"
  }
 },
 "nbformat": 4,
 "nbformat_minor": 5
}
