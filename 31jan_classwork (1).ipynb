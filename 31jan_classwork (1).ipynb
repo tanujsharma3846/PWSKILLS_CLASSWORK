{
 "cells": [
  {
   "cell_type": "markdown",
   "id": "3cb1376c-5288-44cd-b23c-29a98a1e1c39",
   "metadata": {},
   "source": [
    "# LIST TUPLE AND SET"
   ]
  },
  {
   "cell_type": "code",
   "execution_count": 7,
   "id": "3188a02c-d5fc-48b0-8337-1e3077df1656",
   "metadata": {},
   "outputs": [],
   "source": [
    "l=[1,2,3,4,True,5+7j,45.45]"
   ]
  },
  {
   "cell_type": "code",
   "execution_count": 8,
   "id": "e4e48066-2238-4dea-a597-b929923bd282",
   "metadata": {},
   "outputs": [
    {
     "data": {
      "text/plain": [
       "[1, 2, 3, 4, True, (5+7j), 45.45]"
      ]
     },
     "execution_count": 8,
     "metadata": {},
     "output_type": "execute_result"
    }
   ],
   "source": [
    "l"
   ]
  },
  {
   "cell_type": "code",
   "execution_count": null,
   "id": "1fab86d3-f1cd-4185-beeb-273eca2c0ef2",
   "metadata": {},
   "outputs": [],
   "source": []
  },
  {
   "cell_type": "code",
   "execution_count": 9,
   "id": "8c634cf5-f568-436b-b337-a5fa9377880e",
   "metadata": {},
   "outputs": [
    {
     "data": {
      "text/plain": [
       "list"
      ]
     },
     "execution_count": 9,
     "metadata": {},
     "output_type": "execute_result"
    }
   ],
   "source": [
    "type(l)"
   ]
  },
  {
   "cell_type": "code",
   "execution_count": 11,
   "id": "72ea0cfb-cb35-4a29-926f-ce1f96a661b6",
   "metadata": {},
   "outputs": [
    {
     "data": {
      "text/plain": [
       "[True, (5+7j), 45.45]"
      ]
     },
     "execution_count": 11,
     "metadata": {},
     "output_type": "execute_result"
    }
   ],
   "source": [
    "# slicing and indexing\n",
    "l[4:]"
   ]
  },
  {
   "cell_type": "code",
   "execution_count": 12,
   "id": "2c7c2a12-ad92-4da3-acce-fb7f6537365c",
   "metadata": {},
   "outputs": [
    {
     "data": {
      "text/plain": [
       "[1, 2, 3, 4, True, (5+7j), 45.45]"
      ]
     },
     "execution_count": 12,
     "metadata": {},
     "output_type": "execute_result"
    }
   ],
   "source": [
    "l[:]"
   ]
  },
  {
   "cell_type": "code",
   "execution_count": 13,
   "id": "2412cbb7-4248-4b06-bc33-856aa04bd84f",
   "metadata": {},
   "outputs": [
    {
     "data": {
      "text/plain": [
       "1"
      ]
     },
     "execution_count": 13,
     "metadata": {},
     "output_type": "execute_result"
    }
   ],
   "source": [
    "l[0]"
   ]
  },
  {
   "cell_type": "code",
   "execution_count": 14,
   "id": "57239487-4f81-480d-a06b-a3e172cff0de",
   "metadata": {},
   "outputs": [
    {
     "data": {
      "text/plain": [
       "45.45"
      ]
     },
     "execution_count": 14,
     "metadata": {},
     "output_type": "execute_result"
    }
   ],
   "source": [
    "l[6]"
   ]
  },
  {
   "cell_type": "code",
   "execution_count": 15,
   "id": "368d8f5e-5638-43b7-95d6-8d4c8f0120a9",
   "metadata": {},
   "outputs": [
    {
     "ename": "IndexError",
     "evalue": "list index out of range",
     "output_type": "error",
     "traceback": [
      "\u001b[0;31m---------------------------------------------------------------------------\u001b[0m",
      "\u001b[0;31mIndexError\u001b[0m                                Traceback (most recent call last)",
      "Cell \u001b[0;32mIn[15], line 1\u001b[0m\n\u001b[0;32m----> 1\u001b[0m \u001b[43ml\u001b[49m\u001b[43m[\u001b[49m\u001b[38;5;241;43m69\u001b[39;49m\u001b[43m]\u001b[49m\n",
      "\u001b[0;31mIndexError\u001b[0m: list index out of range"
     ]
    }
   ],
   "source": [
    "l[69]"
   ]
  },
  {
   "cell_type": "code",
   "execution_count": 16,
   "id": "6e2dcf59-bdde-4a67-92a3-4add2d725b0b",
   "metadata": {},
   "outputs": [
    {
     "data": {
      "text/plain": [
       "[1, 2, 3, 4, True, (5+7j), 45.45]"
      ]
     },
     "execution_count": 16,
     "metadata": {},
     "output_type": "execute_result"
    }
   ],
   "source": [
    "l"
   ]
  },
  {
   "cell_type": "code",
   "execution_count": 19,
   "id": "03cb2524-9385-4ee5-ad76-1d94e4496634",
   "metadata": {},
   "outputs": [
    {
     "data": {
      "text/plain": [
       "[1, 2, 3]"
      ]
     },
     "execution_count": 19,
     "metadata": {},
     "output_type": "execute_result"
    }
   ],
   "source": [
    "l[0:3]"
   ]
  },
  {
   "cell_type": "code",
   "execution_count": 20,
   "id": "f5b4b921-6fe6-4fd7-a457-a10077776406",
   "metadata": {},
   "outputs": [
    {
     "data": {
      "text/plain": [
       "45.45"
      ]
     },
     "execution_count": 20,
     "metadata": {},
     "output_type": "execute_result"
    }
   ],
   "source": [
    "l[-1]"
   ]
  },
  {
   "cell_type": "code",
   "execution_count": 21,
   "id": "de0a1d5a-03b2-488c-8c04-8e0beb579602",
   "metadata": {},
   "outputs": [
    {
     "data": {
      "text/plain": [
       "[45.45, (5+7j), True, 4, 3, 2, 1]"
      ]
     },
     "execution_count": 21,
     "metadata": {},
     "output_type": "execute_result"
    }
   ],
   "source": [
    "# reverse list\n",
    "l[::-1]"
   ]
  },
  {
   "cell_type": "code",
   "execution_count": 22,
   "id": "5a4dc1a0-6f79-44f9-afe6-813656f03650",
   "metadata": {},
   "outputs": [
    {
     "data": {
      "text/plain": [
       "[1, 3, True, 45.45]"
      ]
     },
     "execution_count": 22,
     "metadata": {},
     "output_type": "execute_result"
    }
   ],
   "source": [
    "# even indices in list\n",
    "l[::2]"
   ]
  },
  {
   "cell_type": "code",
   "execution_count": 23,
   "id": "9c7161f3-3b47-4245-adeb-df2cdf25f14b",
   "metadata": {},
   "outputs": [],
   "source": [
    "s=\"pwskills\""
   ]
  },
  {
   "cell_type": "code",
   "execution_count": 24,
   "id": "872a6b63-49e3-4e39-962d-934be2a05771",
   "metadata": {},
   "outputs": [
    {
     "ename": "TypeError",
     "evalue": "can only concatenate list (not \"str\") to list",
     "output_type": "error",
     "traceback": [
      "\u001b[0;31m---------------------------------------------------------------------------\u001b[0m",
      "\u001b[0;31mTypeError\u001b[0m                                 Traceback (most recent call last)",
      "Cell \u001b[0;32mIn[24], line 1\u001b[0m\n\u001b[0;32m----> 1\u001b[0m \u001b[43ml\u001b[49m\u001b[38;5;241;43m+\u001b[39;49m\u001b[43ms\u001b[49m\n",
      "\u001b[0;31mTypeError\u001b[0m: can only concatenate list (not \"str\") to list"
     ]
    }
   ],
   "source": [
    "# list and string can not concatenate\n",
    "l+s"
   ]
  },
  {
   "cell_type": "code",
   "execution_count": 26,
   "id": "3c40836d-9d23-4a34-b641-1c47724f9abf",
   "metadata": {},
   "outputs": [
    {
     "data": {
      "text/plain": [
       "['p', 'w', 's', 'k', 'i', 'l', 'l', 's']"
      ]
     },
     "execution_count": 26,
     "metadata": {},
     "output_type": "execute_result"
    }
   ],
   "source": [
    "# list as a function\n",
    "list(s)"
   ]
  },
  {
   "cell_type": "code",
   "execution_count": 27,
   "id": "ce146e8c-9d3b-43e4-a08a-6fcdecdd7ee8",
   "metadata": {},
   "outputs": [
    {
     "data": {
      "text/plain": [
       "['p', 'w', 's', 'k', 'i', 'l', 'l', 's', 1, 2, 3, 4, True, (5+7j), 45.45]"
      ]
     },
     "execution_count": 27,
     "metadata": {},
     "output_type": "execute_result"
    }
   ],
   "source": [
    "list(s)+l"
   ]
  },
  {
   "cell_type": "code",
   "execution_count": 30,
   "id": "a79535c8-0502-40d8-975c-151d6830dc5c",
   "metadata": {},
   "outputs": [],
   "source": [
    "l.append(\"raju\")"
   ]
  },
  {
   "cell_type": "code",
   "execution_count": 31,
   "id": "5c90c92a-2f33-441a-a2e2-83b21aabca1b",
   "metadata": {},
   "outputs": [
    {
     "data": {
      "text/plain": [
       "[1, 2, 3, 4, True, (5+7j), 45.45, 'raju']"
      ]
     },
     "execution_count": 31,
     "metadata": {},
     "output_type": "execute_result"
    }
   ],
   "source": [
    "l"
   ]
  },
  {
   "cell_type": "code",
   "execution_count": 32,
   "id": "03882edf-bec4-4b87-96fe-287885827626",
   "metadata": {},
   "outputs": [
    {
     "data": {
      "text/plain": [
       "'raju'"
      ]
     },
     "execution_count": 32,
     "metadata": {},
     "output_type": "execute_result"
    }
   ],
   "source": [
    "l[-1]"
   ]
  },
  {
   "cell_type": "code",
   "execution_count": 33,
   "id": "18ede2af-53fb-4c07-8273-bb331cb3e84b",
   "metadata": {},
   "outputs": [
    {
     "data": {
      "text/plain": [
       "str"
      ]
     },
     "execution_count": 33,
     "metadata": {},
     "output_type": "execute_result"
    }
   ],
   "source": [
    "type(l[-1])"
   ]
  },
  {
   "cell_type": "code",
   "execution_count": 34,
   "id": "783272d5-9a1b-4e28-aca4-7cb9806c4975",
   "metadata": {},
   "outputs": [
    {
     "data": {
      "text/plain": [
       "'ra'"
      ]
     },
     "execution_count": 34,
     "metadata": {},
     "output_type": "execute_result"
    }
   ],
   "source": [
    "l[-1][0:2]"
   ]
  },
  {
   "cell_type": "code",
   "execution_count": 35,
   "id": "3acf862b-c6fe-438c-bb77-7d248bd2ca4a",
   "metadata": {},
   "outputs": [
    {
     "data": {
      "text/plain": [
       "True"
      ]
     },
     "execution_count": 35,
     "metadata": {},
     "output_type": "execute_result"
    }
   ],
   "source": [
    "l[4]"
   ]
  },
  {
   "cell_type": "code",
   "execution_count": 36,
   "id": "673837d1-028d-4075-aaca-9b2b5cf2b733",
   "metadata": {},
   "outputs": [
    {
     "data": {
      "text/plain": [
       "'True'"
      ]
     },
     "execution_count": 36,
     "metadata": {},
     "output_type": "execute_result"
    }
   ],
   "source": [
    "# convert bool to string\n",
    "str(l[4])"
   ]
  },
  {
   "cell_type": "code",
   "execution_count": 37,
   "id": "2e2f4eb5-cf69-405e-94e9-9c7c6ce306b8",
   "metadata": {},
   "outputs": [
    {
     "data": {
      "text/plain": [
       "'Tr'"
      ]
     },
     "execution_count": 37,
     "metadata": {},
     "output_type": "execute_result"
    }
   ],
   "source": [
    "str(l[4])[0:2]"
   ]
  },
  {
   "cell_type": "code",
   "execution_count": 38,
   "id": "f4f6955f-fc2f-4db7-ba21-21babf724d28",
   "metadata": {},
   "outputs": [
    {
     "ename": "TypeError",
     "evalue": "can only concatenate list (not \"int\") to list",
     "output_type": "error",
     "traceback": [
      "\u001b[0;31m---------------------------------------------------------------------------\u001b[0m",
      "\u001b[0;31mTypeError\u001b[0m                                 Traceback (most recent call last)",
      "Cell \u001b[0;32mIn[38], line 1\u001b[0m\n\u001b[0;32m----> 1\u001b[0m \u001b[43ml\u001b[49m\u001b[38;5;241;43m+\u001b[39;49m\u001b[38;5;241;43m5\u001b[39;49m\n",
      "\u001b[0;31mTypeError\u001b[0m: can only concatenate list (not \"int\") to list"
     ]
    }
   ],
   "source": [
    "l+5"
   ]
  },
  {
   "cell_type": "code",
   "execution_count": 39,
   "id": "5a40b90b-3116-4175-950a-4145fcd9f3da",
   "metadata": {},
   "outputs": [],
   "source": [
    "# only 2 list can concatenate with each other"
   ]
  },
  {
   "cell_type": "code",
   "execution_count": 40,
   "id": "1fb7af16-8093-4b42-9898-dcd2a2b40e5c",
   "metadata": {},
   "outputs": [],
   "source": [
    "l1 =[3,4,5]"
   ]
  },
  {
   "cell_type": "code",
   "execution_count": 41,
   "id": "3ef4900a-2bbd-4459-a872-7edc30542567",
   "metadata": {},
   "outputs": [
    {
     "data": {
      "text/plain": [
       "[3, 4, 5]"
      ]
     },
     "execution_count": 41,
     "metadata": {},
     "output_type": "execute_result"
    }
   ],
   "source": [
    "l1"
   ]
  },
  {
   "cell_type": "code",
   "execution_count": 42,
   "id": "f3d38e55-7e3b-4b42-95fc-6c0042c69490",
   "metadata": {},
   "outputs": [
    {
     "data": {
      "text/plain": [
       "[1, 2, 3, 4, True, (5+7j), 45.45, 'raju', 3, 4, 5]"
      ]
     },
     "execution_count": 42,
     "metadata": {},
     "output_type": "execute_result"
    }
   ],
   "source": [
    "# concatenate two lists\n",
    "l+l1"
   ]
  },
  {
   "cell_type": "code",
   "execution_count": 43,
   "id": "1e5c9715-3115-45e2-85d0-23f62f7e27db",
   "metadata": {},
   "outputs": [
    {
     "data": {
      "text/plain": [
       "[3, 4, 5, 3, 4, 5, 3, 4, 5]"
      ]
     },
     "execution_count": 43,
     "metadata": {},
     "output_type": "execute_result"
    }
   ],
   "source": [
    "l1 * 3"
   ]
  },
  {
   "cell_type": "code",
   "execution_count": 44,
   "id": "fb2e83e5-0f58-4a86-a0b8-c8b60ffa8f7e",
   "metadata": {},
   "outputs": [
    {
     "data": {
      "text/plain": [
       "[1, 2, 3, 4, True, (5+7j), 45.45, 'raju']"
      ]
     },
     "execution_count": 44,
     "metadata": {},
     "output_type": "execute_result"
    }
   ],
   "source": [
    "l"
   ]
  },
  {
   "cell_type": "code",
   "execution_count": 48,
   "id": "cb9c2fd0-aac7-4ebb-bd58-734578fcc50a",
   "metadata": {},
   "outputs": [
    {
     "name": "stdout",
     "output_type": "stream",
     "text": [
      "8\n",
      "3\n"
     ]
    }
   ],
   "source": [
    "# counting number of elements in list\n",
    "print(len(l))\n",
    "print(len(l1))"
   ]
  },
  {
   "cell_type": "code",
   "execution_count": 49,
   "id": "68c759d8-6168-4168-9f5c-8f477bec1bb2",
   "metadata": {},
   "outputs": [
    {
     "data": {
      "text/plain": [
       "[1, 2, 3, 4, True, (5+7j), 45.45, 'raju']"
      ]
     },
     "execution_count": 49,
     "metadata": {},
     "output_type": "execute_result"
    }
   ],
   "source": [
    "l"
   ]
  },
  {
   "cell_type": "code",
   "execution_count": 50,
   "id": "e1d1cd87-a43d-43cd-a2e9-74d0b54cb33b",
   "metadata": {},
   "outputs": [],
   "source": [
    "#append function"
   ]
  },
  {
   "cell_type": "code",
   "execution_count": 51,
   "id": "120a3957-b07d-436b-8cd7-85ba73192adc",
   "metadata": {},
   "outputs": [],
   "source": [
    "l.append(5)"
   ]
  },
  {
   "cell_type": "code",
   "execution_count": 52,
   "id": "37dd4654-1123-48a7-859e-b80645d5e9ac",
   "metadata": {},
   "outputs": [
    {
     "data": {
      "text/plain": [
       "[1, 2, 3, 4, True, (5+7j), 45.45, 'raju', 5]"
      ]
     },
     "execution_count": 52,
     "metadata": {},
     "output_type": "execute_result"
    }
   ],
   "source": [
    "l"
   ]
  },
  {
   "cell_type": "code",
   "execution_count": 57,
   "id": "82e600f4-3372-43ee-9045-38cc49a55f01",
   "metadata": {},
   "outputs": [],
   "source": [
    "l.insert(0,69)"
   ]
  },
  {
   "cell_type": "code",
   "execution_count": 58,
   "id": "37de3ee4-a36a-4a9f-9264-953eabf5109f",
   "metadata": {},
   "outputs": [
    {
     "data": {
      "text/plain": [
       "[69, 5, 'raju', 45.45, (5+7j), True, 4, 3, 2, 1]"
      ]
     },
     "execution_count": 58,
     "metadata": {},
     "output_type": "execute_result"
    }
   ],
   "source": [
    "l"
   ]
  },
  {
   "cell_type": "code",
   "execution_count": 59,
   "id": "4465bf21-ef5a-428c-a321-f4ec2bf217e2",
   "metadata": {},
   "outputs": [
    {
     "data": {
      "text/plain": [
       "[1, 2, 3, 4, True, (5+7j), 45.45, 'raju', 5, 69]"
      ]
     },
     "execution_count": 59,
     "metadata": {},
     "output_type": "execute_result"
    }
   ],
   "source": [
    "l.reverse()\n",
    "l"
   ]
  },
  {
   "cell_type": "code",
   "execution_count": 104,
   "id": "61ab7faa-ddcb-4c69-827c-8279d99416ee",
   "metadata": {},
   "outputs": [],
   "source": [
    "# use tab and shit+tab to kknow functions"
   ]
  },
  {
   "cell_type": "code",
   "execution_count": null,
   "id": "2ea4e3fa-32ee-47ef-b35b-506fe335727b",
   "metadata": {},
   "outputs": [],
   "source": [
    "# shit+tab used to find syntax \n",
    "# tab is used find total functions"
   ]
  },
  {
   "cell_type": "code",
   "execution_count": 61,
   "id": "d1a02475-c1e7-4d54-80c2-8d63f40259e6",
   "metadata": {},
   "outputs": [],
   "source": [
    "# store list inside in a list\n"
   ]
  },
  {
   "cell_type": "code",
   "execution_count": 62,
   "id": "62b342d1-a57b-4715-a3ba-f1e7063b4853",
   "metadata": {},
   "outputs": [],
   "source": [
    "l.append(l1)"
   ]
  },
  {
   "cell_type": "code",
   "execution_count": 63,
   "id": "6dc57df5-7c08-4e83-9d15-ac6bc70a72c6",
   "metadata": {},
   "outputs": [
    {
     "data": {
      "text/plain": [
       "[1, 2, 3, 4, True, (5+7j), 45.45, 'raju', 5, 69, [3, 4, 5]]"
      ]
     },
     "execution_count": 63,
     "metadata": {},
     "output_type": "execute_result"
    }
   ],
   "source": [
    "l"
   ]
  },
  {
   "cell_type": "code",
   "execution_count": 65,
   "id": "6b90b8ee-e448-4f38-9b8c-83aa86da6b06",
   "metadata": {},
   "outputs": [
    {
     "data": {
      "text/plain": [
       "4"
      ]
     },
     "execution_count": 65,
     "metadata": {},
     "output_type": "execute_result"
    }
   ],
   "source": [
    "l[-1][1]"
   ]
  },
  {
   "cell_type": "code",
   "execution_count": 66,
   "id": "3d620608-2346-4a7f-992d-35e0abe54e5d",
   "metadata": {},
   "outputs": [],
   "source": [
    "# extend fucntion"
   ]
  },
  {
   "cell_type": "code",
   "execution_count": 67,
   "id": "670fb637-e89e-439d-9451-59582eeeef8c",
   "metadata": {},
   "outputs": [
    {
     "data": {
      "text/plain": [
       "[1, 2, 3, 4, True, (5+7j), 45.45, 'raju', 5, 69, [3, 4, 5]]"
      ]
     },
     "execution_count": 67,
     "metadata": {},
     "output_type": "execute_result"
    }
   ],
   "source": [
    "l"
   ]
  },
  {
   "cell_type": "code",
   "execution_count": 68,
   "id": "84c30f80-a8d7-4689-a9f4-ab3d0bf4a74c",
   "metadata": {},
   "outputs": [],
   "source": [
    "# append add element at end of list\n",
    "# extend add strings at end after breaking the string"
   ]
  },
  {
   "cell_type": "code",
   "execution_count": 69,
   "id": "81f91487-c7df-4dd5-b65e-6d0edbc9fadf",
   "metadata": {},
   "outputs": [],
   "source": [
    "l.extend(\"raju\")"
   ]
  },
  {
   "cell_type": "code",
   "execution_count": 70,
   "id": "6b0ea3c3-73db-4c39-9632-5dd8d625d973",
   "metadata": {},
   "outputs": [
    {
     "data": {
      "text/plain": [
       "[1, 2, 3, 4, True, (5+7j), 45.45, 'raju', 5, 69, [3, 4, 5], 'r', 'a', 'j', 'u']"
      ]
     },
     "execution_count": 70,
     "metadata": {},
     "output_type": "execute_result"
    }
   ],
   "source": [
    "l"
   ]
  },
  {
   "cell_type": "code",
   "execution_count": 71,
   "id": "7047f372-eadc-4d27-bf14-b29f17e9c317",
   "metadata": {},
   "outputs": [
    {
     "ename": "TypeError",
     "evalue": "'int' object is not iterable",
     "output_type": "error",
     "traceback": [
      "\u001b[0;31m---------------------------------------------------------------------------\u001b[0m",
      "\u001b[0;31mTypeError\u001b[0m                                 Traceback (most recent call last)",
      "Cell \u001b[0;32mIn[71], line 1\u001b[0m\n\u001b[0;32m----> 1\u001b[0m \u001b[43ml\u001b[49m\u001b[38;5;241;43m.\u001b[39;49m\u001b[43mextend\u001b[49m\u001b[43m(\u001b[49m\u001b[38;5;241;43m4\u001b[39;49m\u001b[43m)\u001b[49m\n",
      "\u001b[0;31mTypeError\u001b[0m: 'int' object is not iterable"
     ]
    }
   ],
   "source": [
    "l.extend(4)"
   ]
  },
  {
   "cell_type": "code",
   "execution_count": 72,
   "id": "883719f5-1aff-4e74-bd9c-90417cecc715",
   "metadata": {},
   "outputs": [],
   "source": [
    "# extend wants to pass data which is iterable (which can be iterated) like strings............integer is not breakable so it is not iterable"
   ]
  },
  {
   "cell_type": "code",
   "execution_count": 73,
   "id": "fcdbc6ae-55f9-4331-8da2-f7817dfc2e5a",
   "metadata": {},
   "outputs": [
    {
     "data": {
      "text/plain": [
       "[1, 2, 3, 4, True, (5+7j), 45.45, 'raju', 5, 69, [3, 4, 5], 'r', 'a', 'j', 'u']"
      ]
     },
     "execution_count": 73,
     "metadata": {},
     "output_type": "execute_result"
    }
   ],
   "source": [
    "l"
   ]
  },
  {
   "cell_type": "code",
   "execution_count": 76,
   "id": "cc710cc0-f5b6-4894-81a5-c42e437dea34",
   "metadata": {},
   "outputs": [],
   "source": [
    "l.extend([3,4,5,6])"
   ]
  },
  {
   "cell_type": "code",
   "execution_count": 77,
   "id": "8e708230-5579-4a0d-badc-7aa6a64a3950",
   "metadata": {},
   "outputs": [
    {
     "data": {
      "text/plain": [
       "[1,\n",
       " 2,\n",
       " 3,\n",
       " 4,\n",
       " True,\n",
       " (5+7j),\n",
       " 45.45,\n",
       " 'raju',\n",
       " 5,\n",
       " 69,\n",
       " [3, 4, 5],\n",
       " 'r',\n",
       " 'a',\n",
       " 'j',\n",
       " 'u',\n",
       " 3,\n",
       " 4,\n",
       " 5,\n",
       " 6]"
      ]
     },
     "execution_count": 77,
     "metadata": {},
     "output_type": "execute_result"
    }
   ],
   "source": [
    "l"
   ]
  },
  {
   "cell_type": "code",
   "execution_count": 78,
   "id": "49404f5b-b206-40f8-88e9-1e4e9bc467c1",
   "metadata": {},
   "outputs": [],
   "source": [
    "# append adds the data as it is\n",
    "\n",
    "# extends break the data/unwrap the data\n",
    "# for extend function\n",
    "# 1) string ---> charaters \n",
    "# 2) list ---->take out single characters"
   ]
  },
  {
   "cell_type": "code",
   "execution_count": 79,
   "id": "a1d532e4-0c2e-4f7d-91e9-8bfc7123a5d7",
   "metadata": {},
   "outputs": [
    {
     "data": {
      "text/plain": [
       "[3, 4, 5]"
      ]
     },
     "execution_count": 79,
     "metadata": {},
     "output_type": "execute_result"
    }
   ],
   "source": [
    "l1"
   ]
  },
  {
   "cell_type": "code",
   "execution_count": 80,
   "id": "23ece2b1-c694-4d11-b122-b419ca8ed610",
   "metadata": {},
   "outputs": [],
   "source": [
    "l1.append(6)"
   ]
  },
  {
   "cell_type": "code",
   "execution_count": 81,
   "id": "4c028269-c907-4966-8767-36344ddb67de",
   "metadata": {},
   "outputs": [
    {
     "data": {
      "text/plain": [
       "[3, 4, 5, 6]"
      ]
     },
     "execution_count": 81,
     "metadata": {},
     "output_type": "execute_result"
    }
   ],
   "source": [
    "l1"
   ]
  },
  {
   "cell_type": "code",
   "execution_count": 82,
   "id": "7bd317bd-0560-4d19-8ab0-2f16464d4729",
   "metadata": {},
   "outputs": [
    {
     "data": {
      "text/plain": [
       "[3, 4, 5, 6, 1, 2, 3]"
      ]
     },
     "execution_count": 82,
     "metadata": {},
     "output_type": "execute_result"
    }
   ],
   "source": [
    "l1.extend([1,2,3])\n",
    "l1"
   ]
  },
  {
   "cell_type": "code",
   "execution_count": 83,
   "id": "f389d30c-15a8-44c6-8563-e7e7aea69786",
   "metadata": {},
   "outputs": [],
   "source": [
    "# both appennd and extends add data at last position"
   ]
  },
  {
   "cell_type": "code",
   "execution_count": 84,
   "id": "2c767cc6-80e5-4931-93f2-adfafcd47873",
   "metadata": {},
   "outputs": [],
   "source": [
    "# inserting data at first posiion of list\n",
    "# insert() function"
   ]
  },
  {
   "cell_type": "code",
   "execution_count": 91,
   "id": "48d6ea10-3829-434c-b157-32f6f0d28691",
   "metadata": {},
   "outputs": [
    {
     "data": {
      "text/plain": [
       "[3, 4, 5, 0, 6, 1, 2, 3, 0]"
      ]
     },
     "execution_count": 91,
     "metadata": {},
     "output_type": "execute_result"
    }
   ],
   "source": [
    "l1"
   ]
  },
  {
   "cell_type": "code",
   "execution_count": 92,
   "id": "723cbbbd-3c95-4f2e-88e2-8e2349f0f54a",
   "metadata": {},
   "outputs": [],
   "source": [
    "l1.insert(1,\"sudh\")"
   ]
  },
  {
   "cell_type": "markdown",
   "id": "7eac3b65-969a-4be7-b05f-ff5ad1a90bea",
   "metadata": {},
   "source": [
    "l1"
   ]
  },
  {
   "cell_type": "code",
   "execution_count": 93,
   "id": "2c8fb7a8-401d-4bff-9b8d-dfaee1cc9309",
   "metadata": {},
   "outputs": [
    {
     "data": {
      "text/plain": [
       "[3, 'sudh', 4, 5, 0, 6, 1, 2, 3, 0]"
      ]
     },
     "execution_count": 93,
     "metadata": {},
     "output_type": "execute_result"
    }
   ],
   "source": [
    "l1"
   ]
  },
  {
   "cell_type": "code",
   "execution_count": 94,
   "id": "e317ed4b-cb71-4f96-add8-691412b5ec2a",
   "metadata": {},
   "outputs": [],
   "source": [
    "l1.insert(2,[2,3,4])"
   ]
  },
  {
   "cell_type": "code",
   "execution_count": 95,
   "id": "681f77e4-2f6e-48a3-b52c-e0211e230f84",
   "metadata": {},
   "outputs": [
    {
     "data": {
      "text/plain": [
       "[3, 'sudh', [2, 3, 4], 4, 5, 0, 6, 1, 2, 3, 0]"
      ]
     },
     "execution_count": 95,
     "metadata": {},
     "output_type": "execute_result"
    }
   ],
   "source": [
    "l1"
   ]
  },
  {
   "cell_type": "code",
   "execution_count": 96,
   "id": "54b57aed-83b5-48d6-9ddd-8de6b554bfe3",
   "metadata": {},
   "outputs": [],
   "source": [
    "# syntax\n",
    "# listname.insert(index,value)"
   ]
  },
  {
   "cell_type": "code",
   "execution_count": 97,
   "id": "5d940063-b8d8-40aa-b751-88825ecc1c95",
   "metadata": {},
   "outputs": [],
   "source": [
    "l1.insert(-1,45)"
   ]
  },
  {
   "cell_type": "code",
   "execution_count": 98,
   "id": "c5ee82a9-3c31-4ac8-8c47-47eeca89857e",
   "metadata": {},
   "outputs": [
    {
     "data": {
      "text/plain": [
       "[3, 'sudh', [2, 3, 4], 4, 5, 0, 6, 1, 2, 3, 45, 0]"
      ]
     },
     "execution_count": 98,
     "metadata": {},
     "output_type": "execute_result"
    }
   ],
   "source": [
    "l1"
   ]
  },
  {
   "cell_type": "code",
   "execution_count": null,
   "id": "8deb8859-54de-4de5-a364-547625539796",
   "metadata": {},
   "outputs": [],
   "source": [
    "# pop() is used to delete last element from list"
   ]
  },
  {
   "cell_type": "code",
   "execution_count": 100,
   "id": "f0061307-ac94-4568-a906-a351130a4ecb",
   "metadata": {},
   "outputs": [
    {
     "data": {
      "text/plain": [
       "0"
      ]
     },
     "execution_count": 100,
     "metadata": {},
     "output_type": "execute_result"
    }
   ],
   "source": [
    "l1.pop()"
   ]
  },
  {
   "cell_type": "code",
   "execution_count": 101,
   "id": "a62b5f33-a3e7-45d1-8703-3a437afd92bf",
   "metadata": {},
   "outputs": [
    {
     "data": {
      "text/plain": [
       "[3, 'sudh', [2, 3, 4], 4, 5, 0, 6, 1, 2, 3, 45]"
      ]
     },
     "execution_count": 101,
     "metadata": {},
     "output_type": "execute_result"
    }
   ],
   "source": [
    "l1"
   ]
  },
  {
   "cell_type": "code",
   "execution_count": 102,
   "id": "e8a365ac-cbf3-4deb-88c0-691c9f3d9148",
   "metadata": {},
   "outputs": [
    {
     "data": {
      "text/plain": [
       "[2, 3, 4]"
      ]
     },
     "execution_count": 102,
     "metadata": {},
     "output_type": "execute_result"
    }
   ],
   "source": [
    "# pop(index number) \n",
    "# it will remove element at that  index\n",
    "l1.pop(2)"
   ]
  },
  {
   "cell_type": "code",
   "execution_count": 103,
   "id": "81637dca-f1a0-4e64-9d4c-3739e7e0a12c",
   "metadata": {},
   "outputs": [
    {
     "data": {
      "text/plain": [
       "[3, 'sudh', 4, 5, 0, 6, 1, 2, 3, 45]"
      ]
     },
     "execution_count": 103,
     "metadata": {},
     "output_type": "execute_result"
    }
   ],
   "source": [
    "l1"
   ]
  },
  {
   "cell_type": "code",
   "execution_count": 105,
   "id": "5ed6b9be-7dd6-4246-8af8-b1d0c29de516",
   "metadata": {},
   "outputs": [
    {
     "data": {
      "text/plain": [
       "45"
      ]
     },
     "execution_count": 105,
     "metadata": {},
     "output_type": "execute_result"
    }
   ],
   "source": [
    "l1.pop()"
   ]
  },
  {
   "cell_type": "code",
   "execution_count": 107,
   "id": "71fbe84f-a956-4fff-8067-83530770b7d6",
   "metadata": {},
   "outputs": [
    {
     "data": {
      "text/plain": [
       "[3, 'sudh', 4, 5, 0, 6, 1, 2, 3]"
      ]
     },
     "execution_count": 107,
     "metadata": {},
     "output_type": "execute_result"
    }
   ],
   "source": [
    "l1"
   ]
  },
  {
   "cell_type": "code",
   "execution_count": 108,
   "id": "62db6bca-5aef-4a6d-b29e-b87c28cec6e6",
   "metadata": {},
   "outputs": [],
   "source": [
    "#  listname.remove(value) -- Remove first occurrence of value."
   ]
  },
  {
   "cell_type": "code",
   "execution_count": null,
   "id": "586ad031-6762-46c6-89d0-26f2b767d4bf",
   "metadata": {},
   "outputs": [],
   "source": [
    "# syntax -- l1.remove(value)"
   ]
  },
  {
   "cell_type": "code",
   "execution_count": 109,
   "id": "82748746-fb5c-4e4f-9477-06b88651eed2",
   "metadata": {},
   "outputs": [],
   "source": [
    "l1.remove(3)"
   ]
  },
  {
   "cell_type": "code",
   "execution_count": 110,
   "id": "a74ab284-60a8-4b83-b27b-c009df19c923",
   "metadata": {},
   "outputs": [
    {
     "data": {
      "text/plain": [
       "['sudh', 4, 5, 0, 6, 1, 2, 3]"
      ]
     },
     "execution_count": 110,
     "metadata": {},
     "output_type": "execute_result"
    }
   ],
   "source": [
    "l1"
   ]
  },
  {
   "cell_type": "code",
   "execution_count": 111,
   "id": "afb0418d-107f-4388-beb4-8e119ac8a7f9",
   "metadata": {},
   "outputs": [
    {
     "data": {
      "text/plain": [
       "['sudh', 4, 5, 0, 6, 1, 2, 3, [1, 2, 3]]"
      ]
     },
     "execution_count": 111,
     "metadata": {},
     "output_type": "execute_result"
    }
   ],
   "source": [
    "l1.append([1,2,3])\n",
    "l1"
   ]
  },
  {
   "cell_type": "code",
   "execution_count": 112,
   "id": "967d416a-6042-4c2e-8e79-8ffcdefb5969",
   "metadata": {},
   "outputs": [],
   "source": [
    "l1[-1].remove(3)"
   ]
  },
  {
   "cell_type": "code",
   "execution_count": 113,
   "id": "c8f49148-8e87-4346-9ec7-bd84d3e3d8e0",
   "metadata": {},
   "outputs": [
    {
     "data": {
      "text/plain": [
       "['sudh', 4, 5, 0, 6, 1, 2, 3, [1, 2]]"
      ]
     },
     "execution_count": 113,
     "metadata": {},
     "output_type": "execute_result"
    }
   ],
   "source": [
    "l1"
   ]
  },
  {
   "cell_type": "code",
   "execution_count": 116,
   "id": "1227e864-e06b-4da7-868c-8bb997128cdd",
   "metadata": {},
   "outputs": [
    {
     "ename": "AttributeError",
     "evalue": "'str' object has no attribute 'remove'",
     "output_type": "error",
     "traceback": [
      "\u001b[0;31m---------------------------------------------------------------------------\u001b[0m",
      "\u001b[0;31mAttributeError\u001b[0m                            Traceback (most recent call last)",
      "Cell \u001b[0;32mIn[116], line 1\u001b[0m\n\u001b[0;32m----> 1\u001b[0m \u001b[43ml1\u001b[49m\u001b[43m[\u001b[49m\u001b[38;5;241;43m0\u001b[39;49m\u001b[43m]\u001b[49m\u001b[38;5;241;43m.\u001b[39;49m\u001b[43mremove\u001b[49m(\u001b[38;5;124m\"\u001b[39m\u001b[38;5;124mdh\u001b[39m\u001b[38;5;124m\"\u001b[39m)\n",
      "\u001b[0;31mAttributeError\u001b[0m: 'str' object has no attribute 'remove'"
     ]
    }
   ],
   "source": [
    "l1[0].remove(\"dh\")\n",
    "# list is mutalbe\n",
    "# string is immutable object"
   ]
  },
  {
   "cell_type": "code",
   "execution_count": 118,
   "id": "51a76260-afca-479e-99dd-47743db80d98",
   "metadata": {},
   "outputs": [],
   "source": [
    "l1.append(4)"
   ]
  },
  {
   "cell_type": "code",
   "execution_count": 119,
   "id": "d7a77069-9592-4bf5-80f2-62d52329bccc",
   "metadata": {},
   "outputs": [
    {
     "data": {
      "text/plain": [
       "['sudh', 4, 5, 0, 6, 1, 2, 3, [1, 2], 4]"
      ]
     },
     "execution_count": 119,
     "metadata": {},
     "output_type": "execute_result"
    }
   ],
   "source": [
    "l1"
   ]
  },
  {
   "cell_type": "code",
   "execution_count": 120,
   "id": "1844af41-d8c9-4fcf-af0f-a35b6a91a0ef",
   "metadata": {},
   "outputs": [],
   "source": [
    "l1.remove(4)"
   ]
  },
  {
   "cell_type": "code",
   "execution_count": 121,
   "id": "0faaa0e8-364a-4b29-8530-7ef66b7bcd94",
   "metadata": {},
   "outputs": [
    {
     "data": {
      "text/plain": [
       "['sudh', 5, 0, 6, 1, 2, 3, [1, 2], 4]"
      ]
     },
     "execution_count": 121,
     "metadata": {},
     "output_type": "execute_result"
    }
   ],
   "source": [
    "l1"
   ]
  },
  {
   "cell_type": "code",
   "execution_count": 122,
   "id": "7600b1f0-4a82-4a65-8ecc-15e345ac359d",
   "metadata": {},
   "outputs": [
    {
     "data": {
      "text/plain": [
       "[4, [1, 2], 3, 2, 1, 6, 0, 5, 'sudh']"
      ]
     },
     "execution_count": 122,
     "metadata": {},
     "output_type": "execute_result"
    }
   ],
   "source": [
    "# it is a temporary method\n",
    "# not permanent method\n",
    "l1[::-1]"
   ]
  },
  {
   "cell_type": "code",
   "execution_count": 123,
   "id": "b2c817d3-961e-41bc-a8e1-d5bced89c7d5",
   "metadata": {},
   "outputs": [],
   "source": [
    "# .reverse() is a permanent method\n",
    "\n",
    "l1.reverse()"
   ]
  },
  {
   "cell_type": "code",
   "execution_count": 124,
   "id": "ba90051b-f243-4bb5-a22a-640439e18edc",
   "metadata": {},
   "outputs": [
    {
     "data": {
      "text/plain": [
       "[4, [1, 2], 3, 2, 1, 6, 0, 5, 'sudh']"
      ]
     },
     "execution_count": 124,
     "metadata": {},
     "output_type": "execute_result"
    }
   ],
   "source": [
    "l1"
   ]
  },
  {
   "cell_type": "code",
   "execution_count": null,
   "id": "1365f26a-4f3b-4c64-8293-cd91cc3d40c3",
   "metadata": {},
   "outputs": [],
   "source": [
    "# .sort() used to sort int values in lsit"
   ]
  },
  {
   "cell_type": "code",
   "execution_count": 126,
   "id": "497e6b5e-9958-4b12-b2d9-3180e5a4e1ba",
   "metadata": {},
   "outputs": [],
   "source": [
    "l2=[2,5,7,1,3]\n",
    "l2.sort()"
   ]
  },
  {
   "cell_type": "code",
   "execution_count": 127,
   "id": "25485f57-1c76-4b52-8843-d56252c6bce5",
   "metadata": {},
   "outputs": [
    {
     "data": {
      "text/plain": [
       "[1, 2, 3, 5, 7]"
      ]
     },
     "execution_count": 127,
     "metadata": {},
     "output_type": "execute_result"
    }
   ],
   "source": [
    "l2"
   ]
  },
  {
   "cell_type": "code",
   "execution_count": 128,
   "id": "ba45cca2-525e-4b0c-946a-edb65a96fb83",
   "metadata": {},
   "outputs": [
    {
     "ename": "TypeError",
     "evalue": "'<' not supported between instances of 'str' and 'int'",
     "output_type": "error",
     "traceback": [
      "\u001b[0;31m---------------------------------------------------------------------------\u001b[0m",
      "\u001b[0;31mTypeError\u001b[0m                                 Traceback (most recent call last)",
      "Cell \u001b[0;32mIn[128], line 2\u001b[0m\n\u001b[1;32m      1\u001b[0m l3\u001b[38;5;241m=\u001b[39m[\u001b[38;5;241m34\u001b[39m,\u001b[38;5;124m'\u001b[39m\u001b[38;5;124msudh\u001b[39m\u001b[38;5;124m'\u001b[39m,\u001b[38;5;241m45\u001b[39m,\u001b[38;5;241m12\u001b[39m,\u001b[38;5;124m'\u001b[39m\u001b[38;5;124mkumar\u001b[39m\u001b[38;5;124m'\u001b[39m]\n\u001b[0;32m----> 2\u001b[0m \u001b[43ml3\u001b[49m\u001b[38;5;241;43m.\u001b[39;49m\u001b[43msort\u001b[49m\u001b[43m(\u001b[49m\u001b[43m)\u001b[49m\n",
      "\u001b[0;31mTypeError\u001b[0m: '<' not supported between instances of 'str' and 'int'"
     ]
    }
   ],
   "source": [
    "l3=[34,'sudh',45,12,'kumar']\n",
    "l3.sort()"
   ]
  },
  {
   "cell_type": "code",
   "execution_count": 129,
   "id": "fe86ab77-a33e-4155-bded-b809775411e5",
   "metadata": {},
   "outputs": [],
   "source": [
    "# sorting only with same type of data only"
   ]
  },
  {
   "cell_type": "code",
   "execution_count": 130,
   "id": "fece8094-797d-4081-8b22-1bdcf5c95e4e",
   "metadata": {},
   "outputs": [],
   "source": [
    "l4=[\"sudh\",\"kumar\",\"pwskills\",\"datascuence\"]\n"
   ]
  },
  {
   "cell_type": "code",
   "execution_count": 131,
   "id": "fb6d865f-e096-41c4-a1a1-ec44ee6e1386",
   "metadata": {},
   "outputs": [],
   "source": [
    "l4.sort()"
   ]
  },
  {
   "cell_type": "code",
   "execution_count": 132,
   "id": "5d7e098d-3572-412d-a717-79a0cebf8603",
   "metadata": {},
   "outputs": [
    {
     "data": {
      "text/plain": [
       "['datascuence', 'kumar', 'pwskills', 'sudh']"
      ]
     },
     "execution_count": 132,
     "metadata": {},
     "output_type": "execute_result"
    }
   ],
   "source": [
    "l4"
   ]
  },
  {
   "cell_type": "code",
   "execution_count": 133,
   "id": "8bb1f339-975d-448e-9310-c2f265237be2",
   "metadata": {},
   "outputs": [],
   "source": [
    "# sort in descending order\n",
    "l4.sort(reverse=True)"
   ]
  },
  {
   "cell_type": "code",
   "execution_count": 134,
   "id": "4bd3f132-9806-4deb-bbcf-d18b4ed92f8e",
   "metadata": {},
   "outputs": [
    {
     "data": {
      "text/plain": [
       "['sudh', 'pwskills', 'kumar', 'datascuence']"
      ]
     },
     "execution_count": 134,
     "metadata": {},
     "output_type": "execute_result"
    }
   ],
   "source": [
    "l4"
   ]
  },
  {
   "cell_type": "code",
   "execution_count": 135,
   "id": "fc31a45a-62bb-4c7f-adc0-5881d76593ed",
   "metadata": {},
   "outputs": [
    {
     "data": {
      "text/plain": [
       "0"
      ]
     },
     "execution_count": 135,
     "metadata": {},
     "output_type": "execute_result"
    }
   ],
   "source": [
    "# .index(item) tells index of value \n",
    "l4.index(\"sudh\")"
   ]
  },
  {
   "cell_type": "code",
   "execution_count": 136,
   "id": "aa616e3e-c924-4d83-affb-0b8ebbc0ee7d",
   "metadata": {},
   "outputs": [
    {
     "data": {
      "text/plain": [
       "1"
      ]
     },
     "execution_count": 136,
     "metadata": {},
     "output_type": "execute_result"
    }
   ],
   "source": [
    "# .count() tells how many times an element comes in a list\n",
    "l4.count(\"sudh\")"
   ]
  },
  {
   "cell_type": "code",
   "execution_count": 137,
   "id": "017723ec-9579-441c-8b35-f8b26e0d75a8",
   "metadata": {},
   "outputs": [],
   "source": [
    "l5=[3,4,5,6]"
   ]
  },
  {
   "cell_type": "code",
   "execution_count": 138,
   "id": "2f5e178f-d8ed-4152-84f5-76c1e0da36e3",
   "metadata": {},
   "outputs": [],
   "source": [
    "s=\"sudh\""
   ]
  },
  {
   "cell_type": "code",
   "execution_count": 139,
   "id": "2d727665-daf7-414e-bb12-29855357b038",
   "metadata": {},
   "outputs": [
    {
     "data": {
      "text/plain": [
       "'s'"
      ]
     },
     "execution_count": 139,
     "metadata": {},
     "output_type": "execute_result"
    }
   ],
   "source": [
    "s[0]"
   ]
  },
  {
   "cell_type": "code",
   "execution_count": 140,
   "id": "b7244109-5701-4618-a832-4d7179c29c2f",
   "metadata": {},
   "outputs": [
    {
     "ename": "TypeError",
     "evalue": "'str' object does not support item assignment",
     "output_type": "error",
     "traceback": [
      "\u001b[0;31m---------------------------------------------------------------------------\u001b[0m",
      "\u001b[0;31mTypeError\u001b[0m                                 Traceback (most recent call last)",
      "Cell \u001b[0;32mIn[140], line 1\u001b[0m\n\u001b[0;32m----> 1\u001b[0m \u001b[43ms\u001b[49m\u001b[43m[\u001b[49m\u001b[38;5;241;43m0\u001b[39;49m\u001b[43m]\u001b[49m\u001b[38;5;241m=\u001b[39m\u001b[38;5;124m\"\u001b[39m\u001b[38;5;124ma\u001b[39m\u001b[38;5;124m\"\u001b[39m\n",
      "\u001b[0;31mTypeError\u001b[0m: 'str' object does not support item assignment"
     ]
    }
   ],
   "source": [
    "s[0]=\"a\""
   ]
  },
  {
   "cell_type": "code",
   "execution_count": 141,
   "id": "298ff0a7-b335-45e2-8eed-a8039007c034",
   "metadata": {},
   "outputs": [
    {
     "data": {
      "text/plain": [
       "3"
      ]
     },
     "execution_count": 141,
     "metadata": {},
     "output_type": "execute_result"
    }
   ],
   "source": [
    "l5[0]"
   ]
  },
  {
   "cell_type": "code",
   "execution_count": 142,
   "id": "0b9d5c55-8f75-4108-8f1e-4b3c9361b4d8",
   "metadata": {},
   "outputs": [],
   "source": [
    "l5[0]=30"
   ]
  },
  {
   "cell_type": "code",
   "execution_count": 143,
   "id": "9b173a6e-4361-4f3c-85af-55f1c0f01f32",
   "metadata": {},
   "outputs": [
    {
     "data": {
      "text/plain": [
       "[30, 4, 5, 6]"
      ]
     },
     "execution_count": 143,
     "metadata": {},
     "output_type": "execute_result"
    }
   ],
   "source": [
    "l5"
   ]
  },
  {
   "cell_type": "code",
   "execution_count": 144,
   "id": "f3f78a19-a37a-4b49-8504-5b42ff0d6e98",
   "metadata": {},
   "outputs": [],
   "source": [
    "# mutability --> agar aap usko kisi bhi index ke upar kisi element ko change kar sakte ho"
   ]
  },
  {
   "cell_type": "code",
   "execution_count": null,
   "id": "f54aadb3-30eb-490d-910a-40023ff1712b",
   "metadata": {},
   "outputs": [],
   "source": [
    "# list->mutable\n",
    "# string->immuntable"
   ]
  },
  {
   "cell_type": "code",
   "execution_count": 146,
   "id": "dbf7b4e8-aa8d-473b-beac-b2ac4f310bc1",
   "metadata": {},
   "outputs": [],
   "source": [
    "# tuples"
   ]
  },
  {
   "cell_type": "code",
   "execution_count": 148,
   "id": "95934780-5fc8-4500-bed8-f7a5a07efe76",
   "metadata": {},
   "outputs": [],
   "source": [
    "t=(1,2,3,4,\"sudh\",45.56,False,45+56j)"
   ]
  },
  {
   "cell_type": "code",
   "execution_count": 149,
   "id": "ebde71c7-a335-4d58-93ad-b79832c24070",
   "metadata": {},
   "outputs": [
    {
     "data": {
      "text/plain": [
       "(1, 2, 3, 4, 'sudh', 45.56, False, (45+56j))"
      ]
     },
     "execution_count": 149,
     "metadata": {},
     "output_type": "execute_result"
    }
   ],
   "source": [
    "t"
   ]
  },
  {
   "cell_type": "code",
   "execution_count": 150,
   "id": "ca44f7bb-1c1b-43d9-99bf-b2bb1d7b82ce",
   "metadata": {},
   "outputs": [],
   "source": [
    "# tuple is a collection of data"
   ]
  },
  {
   "cell_type": "code",
   "execution_count": 151,
   "id": "d423064b-2b9a-49f2-9b67-2f7e3eadc7fc",
   "metadata": {},
   "outputs": [
    {
     "data": {
      "text/plain": [
       "tuple"
      ]
     },
     "execution_count": 151,
     "metadata": {},
     "output_type": "execute_result"
    }
   ],
   "source": [
    "type(t)"
   ]
  },
  {
   "cell_type": "code",
   "execution_count": 152,
   "id": "f4ed76ae-27c3-42a4-9a86-af004792d091",
   "metadata": {},
   "outputs": [
    {
     "data": {
      "text/plain": [
       "8"
      ]
     },
     "execution_count": 152,
     "metadata": {},
     "output_type": "execute_result"
    }
   ],
   "source": [
    "len(t)"
   ]
  },
  {
   "cell_type": "code",
   "execution_count": 153,
   "id": "08e149e7-330b-42b4-bc07-15059d082da1",
   "metadata": {},
   "outputs": [
    {
     "data": {
      "text/plain": [
       "1"
      ]
     },
     "execution_count": 153,
     "metadata": {},
     "output_type": "execute_result"
    }
   ],
   "source": [
    "t[0]"
   ]
  },
  {
   "cell_type": "code",
   "execution_count": 154,
   "id": "17878d88-3467-4ffa-9c42-51217797ed25",
   "metadata": {},
   "outputs": [
    {
     "data": {
      "text/plain": [
       "(45+56j)"
      ]
     },
     "execution_count": 154,
     "metadata": {},
     "output_type": "execute_result"
    }
   ],
   "source": [
    "t[-1]"
   ]
  },
  {
   "cell_type": "code",
   "execution_count": 155,
   "id": "50919273-14c3-4b36-bac3-744a815f61b9",
   "metadata": {},
   "outputs": [
    {
     "data": {
      "text/plain": [
       "((45+56j), False, 45.56, 'sudh', 4, 3, 2, 1)"
      ]
     },
     "execution_count": 155,
     "metadata": {},
     "output_type": "execute_result"
    }
   ],
   "source": [
    "t[::-1]"
   ]
  },
  {
   "cell_type": "code",
   "execution_count": 156,
   "id": "81a11553-edfc-498a-b0b7-c0994eb7ce54",
   "metadata": {},
   "outputs": [
    {
     "data": {
      "text/plain": [
       "['sudh', 'pwskills', 'kumar', 'datascuence']"
      ]
     },
     "execution_count": 156,
     "metadata": {},
     "output_type": "execute_result"
    }
   ],
   "source": [
    "l4"
   ]
  },
  {
   "cell_type": "code",
   "execution_count": 157,
   "id": "1e383b14-1d24-4974-b1f3-ef5febaa4cf0",
   "metadata": {},
   "outputs": [],
   "source": [
    "l4[0]=345"
   ]
  },
  {
   "cell_type": "code",
   "execution_count": 158,
   "id": "a4bb9a2b-811d-49ad-be21-9daf4db9e466",
   "metadata": {},
   "outputs": [
    {
     "data": {
      "text/plain": [
       "[345, 'pwskills', 'kumar', 'datascuence']"
      ]
     },
     "execution_count": 158,
     "metadata": {},
     "output_type": "execute_result"
    }
   ],
   "source": [
    "l4\n",
    "# list is mutable, we can change elements"
   ]
  },
  {
   "cell_type": "code",
   "execution_count": 159,
   "id": "c7b65343-ae7f-4573-be6c-c93853b6198a",
   "metadata": {},
   "outputs": [
    {
     "data": {
      "text/plain": [
       "(1, 2, 3, 4, 'sudh', 45.56, False, (45+56j))"
      ]
     },
     "execution_count": 159,
     "metadata": {},
     "output_type": "execute_result"
    }
   ],
   "source": [
    "t"
   ]
  },
  {
   "cell_type": "code",
   "execution_count": 160,
   "id": "4df92de8-0aea-49b0-9437-13967419a920",
   "metadata": {},
   "outputs": [
    {
     "ename": "TypeError",
     "evalue": "'tuple' object does not support item assignment",
     "output_type": "error",
     "traceback": [
      "\u001b[0;31m---------------------------------------------------------------------------\u001b[0m",
      "\u001b[0;31mTypeError\u001b[0m                                 Traceback (most recent call last)",
      "Cell \u001b[0;32mIn[160], line 1\u001b[0m\n\u001b[0;32m----> 1\u001b[0m \u001b[43mt\u001b[49m\u001b[43m[\u001b[49m\u001b[38;5;241;43m0\u001b[39;49m\u001b[43m]\u001b[49m\u001b[38;5;241m=\u001b[39m\u001b[38;5;124m\"\u001b[39m\u001b[38;5;124msudh\u001b[39m\u001b[38;5;124m\"\u001b[39m\n",
      "\u001b[0;31mTypeError\u001b[0m: 'tuple' object does not support item assignment"
     ]
    }
   ],
   "source": [
    "t[0]=\"sudh\"\n",
    "# tuples are immutable, we cannot change them"
   ]
  },
  {
   "cell_type": "code",
   "execution_count": 161,
   "id": "c1b89f85-56a7-4638-9d3a-435d343e8311",
   "metadata": {},
   "outputs": [],
   "source": [
    "# tuple is immutable\n",
    "# string is immutable\n",
    "\n",
    "# list is mutable"
   ]
  },
  {
   "cell_type": "code",
   "execution_count": 162,
   "id": "54c670fa-6128-4e5c-85f6-8b054be94dd5",
   "metadata": {},
   "outputs": [
    {
     "data": {
      "text/plain": [
       "((45+56j), False, 45.56, 'sudh', 4, 3, 2, 1)"
      ]
     },
     "execution_count": 162,
     "metadata": {},
     "output_type": "execute_result"
    }
   ],
   "source": [
    "t[::-1]"
   ]
  },
  {
   "cell_type": "code",
   "execution_count": 164,
   "id": "ff988e63-f19d-4236-8fb9-922b9aa92338",
   "metadata": {},
   "outputs": [],
   "source": [
    "# mutablilty is at same index"
   ]
  },
  {
   "cell_type": "code",
   "execution_count": null,
   "id": "356ceeda-42f8-4e71-af75-05370ab43b5c",
   "metadata": {},
   "outputs": [],
   "source": [
    "# functions in tuples\n",
    "# 1)count\n",
    "# 2)index"
   ]
  },
  {
   "cell_type": "code",
   "execution_count": 165,
   "id": "a1b34df5-725a-420d-82a5-8d9a343ddf2f",
   "metadata": {},
   "outputs": [
    {
     "data": {
      "text/plain": [
       "1"
      ]
     },
     "execution_count": 165,
     "metadata": {},
     "output_type": "execute_result"
    }
   ],
   "source": [
    "t.count(3)"
   ]
  },
  {
   "cell_type": "code",
   "execution_count": 166,
   "id": "dff6c6ad-cc14-4cbd-855d-6c1fd7956ed4",
   "metadata": {},
   "outputs": [
    {
     "data": {
      "text/plain": [
       "0"
      ]
     },
     "execution_count": 166,
     "metadata": {},
     "output_type": "execute_result"
    }
   ],
   "source": [
    "t.count(69)"
   ]
  },
  {
   "cell_type": "code",
   "execution_count": 167,
   "id": "8367e426-f639-42f6-9b58-b5a2f76e0f1a",
   "metadata": {},
   "outputs": [
    {
     "data": {
      "text/plain": [
       "2"
      ]
     },
     "execution_count": 167,
     "metadata": {},
     "output_type": "execute_result"
    }
   ],
   "source": [
    "t.index(3)"
   ]
  },
  {
   "cell_type": "code",
   "execution_count": 168,
   "id": "ce16c74c-65e0-436a-b801-13f78e664169",
   "metadata": {},
   "outputs": [
    {
     "data": {
      "text/plain": [
       "(1, 2, 3, 4, 'sudh', 45.56, False, (45+56j))"
      ]
     },
     "execution_count": 168,
     "metadata": {},
     "output_type": "execute_result"
    }
   ],
   "source": [
    "t"
   ]
  },
  {
   "cell_type": "code",
   "execution_count": 169,
   "id": "28d47244-3225-4595-8815-56803627233b",
   "metadata": {},
   "outputs": [
    {
     "data": {
      "text/plain": [
       "1"
      ]
     },
     "execution_count": 169,
     "metadata": {},
     "output_type": "execute_result"
    }
   ],
   "source": [
    "t.index(2)"
   ]
  },
  {
   "cell_type": "code",
   "execution_count": 170,
   "id": "56297883-0710-42fe-a394-8cf75755d293",
   "metadata": {},
   "outputs": [
    {
     "data": {
      "text/plain": [
       "6"
      ]
     },
     "execution_count": 170,
     "metadata": {},
     "output_type": "execute_result"
    }
   ],
   "source": [
    "t.index(False)"
   ]
  },
  {
   "cell_type": "markdown",
   "id": "1f0fb358-bfe9-4395-870d-45f260e8157b",
   "metadata": {},
   "source": [
    "# set"
   ]
  },
  {
   "cell_type": "code",
   "execution_count": 172,
   "id": "56a37c06-c3d4-483c-9201-966792744295",
   "metadata": {},
   "outputs": [],
   "source": [
    "s1={}"
   ]
  },
  {
   "cell_type": "code",
   "execution_count": 173,
   "id": "24c44852-14bf-4c1c-8196-b9ce81c4b20e",
   "metadata": {},
   "outputs": [
    {
     "data": {
      "text/plain": [
       "dict"
      ]
     },
     "execution_count": 173,
     "metadata": {},
     "output_type": "execute_result"
    }
   ],
   "source": [
    "type(s1)\n"
   ]
  },
  {
   "cell_type": "code",
   "execution_count": 175,
   "id": "95bf30b3-6d36-4883-89f3-ccd0ac002e95",
   "metadata": {},
   "outputs": [],
   "source": [
    "s2={1,2,3,4}"
   ]
  },
  {
   "cell_type": "code",
   "execution_count": 177,
   "id": "8804b5c7-0805-4839-99a4-259e45c65c43",
   "metadata": {},
   "outputs": [
    {
     "data": {
      "text/plain": [
       "set"
      ]
     },
     "execution_count": 177,
     "metadata": {},
     "output_type": "execute_result"
    }
   ],
   "source": [
    "type(s2)"
   ]
  },
  {
   "cell_type": "code",
   "execution_count": 179,
   "id": "581c8324-8968-42ac-a486-31dbc54b3632",
   "metadata": {},
   "outputs": [],
   "source": [
    "s3={324,456,456,\"sudh\",45+45j,34.456,(2,3,4)}"
   ]
  },
  {
   "cell_type": "code",
   "execution_count": 180,
   "id": "5aff559c-f468-44d5-b848-6a69e3c6afa5",
   "metadata": {},
   "outputs": [
    {
     "data": {
      "text/plain": [
       "{(2, 3, 4), (45+45j), 324, 34.456, 456, 'sudh'}"
      ]
     },
     "execution_count": 180,
     "metadata": {},
     "output_type": "execute_result"
    }
   ],
   "source": [
    "s3"
   ]
  },
  {
   "cell_type": "code",
   "execution_count": 181,
   "id": "1bba88a2-f951-461e-a7e2-e43be79a9c03",
   "metadata": {},
   "outputs": [],
   "source": [
    "# when is set used??\n",
    "# -->used to remove duplicates"
   ]
  },
  {
   "cell_type": "code",
   "execution_count": 183,
   "id": "01876924-0d19-40e5-9c05-6e25843805cc",
   "metadata": {},
   "outputs": [
    {
     "data": {
      "text/plain": [
       "{1, 2, 3, 4, 5, 6, 7, 8, 9}"
      ]
     },
     "execution_count": 183,
     "metadata": {},
     "output_type": "execute_result"
    }
   ],
   "source": [
    "s4={2,3,4,5,6,7,8,9,1,2,3,4,4,5,6,6,7,8,8}\n",
    "s4"
   ]
  },
  {
   "cell_type": "code",
   "execution_count": 184,
   "id": "897e20be-aebd-4dd2-9c89-c5e08fef11ef",
   "metadata": {},
   "outputs": [
    {
     "data": {
      "text/plain": [
       "{1, 2, 3, 'Sudh', 'sudh'}"
      ]
     },
     "execution_count": 184,
     "metadata": {},
     "output_type": "execute_result"
    }
   ],
   "source": [
    "s4={1,2,3,\"sudh\",\"Sudh\"}\n",
    "s4"
   ]
  },
  {
   "cell_type": "code",
   "execution_count": 186,
   "id": "77b8f0fe-caa2-4c56-8930-f173c45e1084",
   "metadata": {},
   "outputs": [],
   "source": [
    "l6=[1,2,3,4,5,6,67,7,8,8,999]"
   ]
  },
  {
   "cell_type": "code",
   "execution_count": 187,
   "id": "040d6ea2-d660-4660-8b89-13bdc12765b2",
   "metadata": {},
   "outputs": [],
   "source": [
    "l6=set(l6)"
   ]
  },
  {
   "cell_type": "code",
   "execution_count": 188,
   "id": "1efd66c3-bd1f-47b1-ae0a-12e112fb5c16",
   "metadata": {},
   "outputs": [
    {
     "data": {
      "text/plain": [
       "{1, 2, 3, 4, 5, 6, 7, 8, 67, 999}"
      ]
     },
     "execution_count": 188,
     "metadata": {},
     "output_type": "execute_result"
    }
   ],
   "source": [
    "l6"
   ]
  },
  {
   "cell_type": "code",
   "execution_count": 192,
   "id": "faea836f-b0b4-4530-b614-7fe35ba89a4f",
   "metadata": {},
   "outputs": [],
   "source": [
    "l6=list(l6)"
   ]
  },
  {
   "cell_type": "code",
   "execution_count": 193,
   "id": "a6677dba-3887-4ff0-98f7-7d36a878dab8",
   "metadata": {},
   "outputs": [
    {
     "data": {
      "text/plain": [
       "[1, 2, 3, 4, 5, 6, 67, 7, 8, 999]"
      ]
     },
     "execution_count": 193,
     "metadata": {},
     "output_type": "execute_result"
    }
   ],
   "source": [
    "l6"
   ]
  },
  {
   "cell_type": "code",
   "execution_count": 194,
   "id": "e606494b-0c78-4aef-8a66-f0cae68a58a5",
   "metadata": {},
   "outputs": [],
   "source": [
    "# -->set does not arrange in some order\n",
    "# -->it only remove duplicates"
   ]
  },
  {
   "cell_type": "code",
   "execution_count": 195,
   "id": "5990f981-176d-44a7-92e6-bcf8c2a1d18d",
   "metadata": {},
   "outputs": [
    {
     "data": {
      "text/plain": [
       "{12, 23, 234, 345, 45, 456, 567, 'abc'}"
      ]
     },
     "execution_count": 195,
     "metadata": {},
     "output_type": "execute_result"
    }
   ],
   "source": [
    "s5={234,45,23,12,567,345,\"abc\",456}\n",
    "s5"
   ]
  },
  {
   "cell_type": "code",
   "execution_count": 196,
   "id": "3d2bc5a8-60fc-495c-8698-a0a68946aed0",
   "metadata": {},
   "outputs": [
    {
     "ename": "TypeError",
     "evalue": "'set' object is not subscriptable",
     "output_type": "error",
     "traceback": [
      "\u001b[0;31m---------------------------------------------------------------------------\u001b[0m",
      "\u001b[0;31mTypeError\u001b[0m                                 Traceback (most recent call last)",
      "Cell \u001b[0;32mIn[196], line 1\u001b[0m\n\u001b[0;32m----> 1\u001b[0m \u001b[43ms5\u001b[49m\u001b[43m[\u001b[49m\u001b[38;5;241;43m0\u001b[39;49m\u001b[43m]\u001b[49m\n",
      "\u001b[0;31mTypeError\u001b[0m: 'set' object is not subscriptable"
     ]
    }
   ],
   "source": [
    "s5[0]"
   ]
  },
  {
   "cell_type": "code",
   "execution_count": 197,
   "id": "a000ce87-7f1b-40ab-bd27-6f6833a71b5f",
   "metadata": {},
   "outputs": [
    {
     "ename": "TypeError",
     "evalue": "'set' object is not subscriptable",
     "output_type": "error",
     "traceback": [
      "\u001b[0;31m---------------------------------------------------------------------------\u001b[0m",
      "\u001b[0;31mTypeError\u001b[0m                                 Traceback (most recent call last)",
      "Cell \u001b[0;32mIn[197], line 1\u001b[0m\n\u001b[0;32m----> 1\u001b[0m \u001b[43ms5\u001b[49m\u001b[43m[\u001b[49m\u001b[43m:\u001b[49m\u001b[43m:\u001b[49m\u001b[38;5;241;43m-\u001b[39;49m\u001b[38;5;241;43m1\u001b[39;49m\u001b[43m]\u001b[49m\n",
      "\u001b[0;31mTypeError\u001b[0m: 'set' object is not subscriptable"
     ]
    }
   ],
   "source": [
    "s5[::-1]"
   ]
  },
  {
   "cell_type": "code",
   "execution_count": 198,
   "id": "6c763818-4ce4-4976-85ad-fa10b1e26a0e",
   "metadata": {},
   "outputs": [],
   "source": [
    "# indexiing and slicing not possible in sets\n"
   ]
  },
  {
   "cell_type": "code",
   "execution_count": 200,
   "id": "5e3733f5-1310-4424-ba78-e9505c8e5d72",
   "metadata": {},
   "outputs": [],
   "source": [
    "s5.add(4)"
   ]
  },
  {
   "cell_type": "code",
   "execution_count": 201,
   "id": "4d5946a3-608b-419d-aa0f-60461e1b3828",
   "metadata": {},
   "outputs": [
    {
     "data": {
      "text/plain": [
       "{12, 23, 234, 345, 4, 45, 456, 567, 'abc'}"
      ]
     },
     "execution_count": 201,
     "metadata": {},
     "output_type": "execute_result"
    }
   ],
   "source": [
    "s5"
   ]
  },
  {
   "cell_type": "code",
   "execution_count": 202,
   "id": "56de2cd0-1276-4b32-b51b-cc09986f1563",
   "metadata": {},
   "outputs": [],
   "source": [
    "# add when number is not present only"
   ]
  },
  {
   "cell_type": "code",
   "execution_count": 203,
   "id": "3a1354d1-c897-4ef0-8e0f-29de3dc75131",
   "metadata": {},
   "outputs": [],
   "source": [
    "# set has hashing not indexing"
   ]
  },
  {
   "cell_type": "code",
   "execution_count": 205,
   "id": "f7bb61e9-3884-4d0a-8dde-0ad8315faa50",
   "metadata": {},
   "outputs": [],
   "source": [
    "s5.remove(12)"
   ]
  },
  {
   "cell_type": "code",
   "execution_count": 206,
   "id": "a6f7ee0d-ec97-4bc3-8945-048751806303",
   "metadata": {},
   "outputs": [
    {
     "data": {
      "text/plain": [
       "{23, 234, 345, 4, 45, 456, 567, 'abc'}"
      ]
     },
     "execution_count": 206,
     "metadata": {},
     "output_type": "execute_result"
    }
   ],
   "source": [
    "s5"
   ]
  },
  {
   "cell_type": "code",
   "execution_count": null,
   "id": "b33e9e5a-0898-4c9b-924b-c134c1b851ef",
   "metadata": {},
   "outputs": [],
   "source": []
  }
 ],
 "metadata": {
  "kernelspec": {
   "display_name": "Python 3 (ipykernel)",
   "language": "python",
   "name": "python3"
  },
  "language_info": {
   "codemirror_mode": {
    "name": "ipython",
    "version": 3
   },
   "file_extension": ".py",
   "mimetype": "text/x-python",
   "name": "python",
   "nbconvert_exporter": "python",
   "pygments_lexer": "ipython3",
   "version": "3.10.8"
  }
 },
 "nbformat": 4,
 "nbformat_minor": 5
}
