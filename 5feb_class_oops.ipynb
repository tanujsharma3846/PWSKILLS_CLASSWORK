{
 "cells": [
  {
   "cell_type": "markdown",
   "id": "18d7d1ac-a132-461a-8fe9-76226b105727",
   "metadata": {},
   "source": [
    "# oops part1"
   ]
  },
  {
   "cell_type": "code",
   "execution_count": 1,
   "id": "6721a51b-a809-4571-a6c0-f775c5a1fa5f",
   "metadata": {},
   "outputs": [],
   "source": [
    "# object oriented programming "
   ]
  },
  {
   "cell_type": "code",
   "execution_count": 2,
   "id": "51bdc367-d509-448a-8cf8-ccdf97eb4da0",
   "metadata": {},
   "outputs": [],
   "source": [
    "a=1"
   ]
  },
  {
   "cell_type": "code",
   "execution_count": 3,
   "id": "d7b101e2-9083-4865-b8e6-b01708b18c7f",
   "metadata": {},
   "outputs": [
    {
     "name": "stdout",
     "output_type": "stream",
     "text": [
      "<class 'int'>\n"
     ]
    }
   ],
   "source": [
    "print(type(a))"
   ]
  },
  {
   "cell_type": "code",
   "execution_count": 4,
   "id": "5cee137b-412f-4ac2-b2a8-d1304cff5453",
   "metadata": {},
   "outputs": [
    {
     "name": "stdout",
     "output_type": "stream",
     "text": [
      "<class 'str'>\n"
     ]
    }
   ],
   "source": [
    "print(type(\"pwskills\"))"
   ]
  },
  {
   "cell_type": "code",
   "execution_count": 5,
   "id": "39dc71c3-7fff-4f6e-bd4a-48cf9d4a7c07",
   "metadata": {},
   "outputs": [],
   "source": [
    "# class -->blueprint/skeleton"
   ]
  },
  {
   "cell_type": "code",
   "execution_count": 6,
   "id": "03405e4f-d891-4760-9129-799a2b64ac7e",
   "metadata": {},
   "outputs": [],
   "source": [
    "# car-->blueprint(wheel,body,door,window etc)\n",
    "# class->classify real world enetity"
   ]
  },
  {
   "cell_type": "code",
   "execution_count": 8,
   "id": "70249218-2f9d-466f-b9bd-568b75cf9256",
   "metadata": {},
   "outputs": [],
   "source": [
    "class test:\n",
    "    pass"
   ]
  },
  {
   "cell_type": "code",
   "execution_count": 9,
   "id": "3a1fed1f-547f-49e4-8300-e0f953408e2f",
   "metadata": {},
   "outputs": [],
   "source": [
    "# class uses \n",
    "# 1) give structure to code  \n",
    "# 2) heirarchy \n",
    "# 3) make code reusable\n"
   ]
  },
  {
   "cell_type": "code",
   "execution_count": 10,
   "id": "0aa69830-d609-4454-b39c-280fbb62e977",
   "metadata": {},
   "outputs": [],
   "source": [
    "a=test()"
   ]
  },
  {
   "cell_type": "code",
   "execution_count": 11,
   "id": "ca237c3e-dd28-4e35-86c9-10acd71e2e6d",
   "metadata": {},
   "outputs": [
    {
     "data": {
      "text/plain": [
       "__main__.test"
      ]
     },
     "execution_count": 11,
     "metadata": {},
     "output_type": "execute_result"
    }
   ],
   "source": [
    "type(a)"
   ]
  },
  {
   "cell_type": "code",
   "execution_count": 12,
   "id": "60fce9da-8f2d-459d-a620-a49d43130244",
   "metadata": {},
   "outputs": [
    {
     "name": "stdout",
     "output_type": "stream",
     "text": [
      "<class '__main__.test'>\n"
     ]
    }
   ],
   "source": [
    "print(type(a))"
   ]
  },
  {
   "cell_type": "code",
   "execution_count": 17,
   "id": "b8f88ead-fe1e-46b8-950b-886510852321",
   "metadata": {},
   "outputs": [],
   "source": [
    "class pwskills:\n",
    "    \n",
    "    def welcome_msg(self):# self is used to bind the class properties to class\n",
    "        print(\"welcome to pwskills\")"
   ]
  },
  {
   "cell_type": "code",
   "execution_count": 18,
   "id": "a8dad6b1-382d-4924-9a64-fb0eb145c16b",
   "metadata": {},
   "outputs": [],
   "source": [
    "rohan=pwskills() # class ka object/instane"
   ]
  },
  {
   "cell_type": "code",
   "execution_count": 15,
   "id": "01f7ae5f-6aef-4bc3-88d0-618a0da03403",
   "metadata": {},
   "outputs": [
    {
     "name": "stdout",
     "output_type": "stream",
     "text": [
      "<class '__main__.pwskills'>\n"
     ]
    }
   ],
   "source": [
    "print(type(rohan))"
   ]
  },
  {
   "cell_type": "code",
   "execution_count": 19,
   "id": "a2d8fc54-68b4-45dc-a4c9-79c77beaa18d",
   "metadata": {},
   "outputs": [
    {
     "name": "stdout",
     "output_type": "stream",
     "text": [
      "welcome to pwskills\n"
     ]
    }
   ],
   "source": [
    "rohan.welcome_msg()"
   ]
  },
  {
   "cell_type": "code",
   "execution_count": 20,
   "id": "72104d46-b200-44a9-a85a-7b87f9a0f9d1",
   "metadata": {},
   "outputs": [],
   "source": [
    "gaurav=pwskills()"
   ]
  },
  {
   "cell_type": "code",
   "execution_count": 21,
   "id": "7427b9fa-be38-4a2c-8b2f-271717e9bb41",
   "metadata": {},
   "outputs": [
    {
     "name": "stdout",
     "output_type": "stream",
     "text": [
      "welcome to pwskills\n"
     ]
    }
   ],
   "source": [
    "gaurav.welcome_msg()"
   ]
  },
  {
   "cell_type": "code",
   "execution_count": 22,
   "id": "49acb19f-f53b-4a1d-a07f-e4e4fd4edf7d",
   "metadata": {},
   "outputs": [],
   "source": [
    "# passing specific details of class into object"
   ]
  },
  {
   "cell_type": "code",
   "execution_count": 24,
   "id": "ccb06fb1-2a37-4fe8-a761-90da3f9a2e93",
   "metadata": {},
   "outputs": [],
   "source": [
    "class pwskills1:\n",
    "    def __init__(self,phone_number, email_id,student_id):\n",
    "        self.phone_number=phone_number\n",
    "        self.email_id=email_id\n",
    "        self.student_id=student_id\n",
    "    def return_student_details(self):\n",
    "        return  self.phone_number, self.email_id,self.student_id\n",
    "    "
   ]
  },
  {
   "cell_type": "code",
   "execution_count": 27,
   "id": "8a2827be-7f4b-4f73-98dc-b7804662189c",
   "metadata": {},
   "outputs": [],
   "source": [
    "rohan=pwskills1(6969696969,\"rohan69@gmail.com\",101)"
   ]
  },
  {
   "cell_type": "code",
   "execution_count": 32,
   "id": "6889946d-5582-41eb-94cd-a2ceee8b572b",
   "metadata": {},
   "outputs": [
    {
     "data": {
      "text/plain": [
       "(6969696969, 'rohan69@gmail.com', 101)"
      ]
     },
     "execution_count": 32,
     "metadata": {},
     "output_type": "execute_result"
    }
   ],
   "source": [
    "rohan.return_student_details()\n"
   ]
  },
  {
   "cell_type": "code",
   "execution_count": 34,
   "id": "d38e5450-64eb-43dd-ba18-2345f7b4d33b",
   "metadata": {},
   "outputs": [],
   "source": [
    "gaurav=pwskills1(12345667,\"gaurav69@gmail.com\",69)"
   ]
  },
  {
   "cell_type": "code",
   "execution_count": 36,
   "id": "ec56216c-004b-4c9f-ae84-14a6e7bffb53",
   "metadata": {},
   "outputs": [
    {
     "data": {
      "text/plain": [
       "(12345667, 'gaurav69@gmail.com', 69)"
      ]
     },
     "execution_count": 36,
     "metadata": {},
     "output_type": "execute_result"
    }
   ],
   "source": [
    "gaurav.return_student_details()"
   ]
  },
  {
   "cell_type": "code",
   "execution_count": 59,
   "id": "f3ae6443-a0de-4da6-ade2-33b7d29a42ce",
   "metadata": {},
   "outputs": [],
   "source": [
    "class pwskills2:\n",
    "    def __init__(self,phone_number, email_id,student_id):\n",
    "        self.phone_number1=phone_number\n",
    "        self.email_id1=email_id\n",
    "        self.student_id1=student_id\n",
    "    def return_student_details(self):\n",
    "        return  self.phone_number1, self.email_id1,self.student_id1\n",
    "    "
   ]
  },
  {
   "cell_type": "code",
   "execution_count": 60,
   "id": "01e71810-4945-4ca4-8068-31ff4b90c48f",
   "metadata": {},
   "outputs": [],
   "source": [
    "sudh=pwskills2(123456789,\"sudh@gmail.com\",123)"
   ]
  },
  {
   "cell_type": "code",
   "execution_count": 61,
   "id": "e64743e8-5c8b-47b2-96c0-230d77c2a951",
   "metadata": {},
   "outputs": [
    {
     "data": {
      "text/plain": [
       "<__main__.pwskills2 at 0x7f7f2010e860>"
      ]
     },
     "execution_count": 61,
     "metadata": {},
     "output_type": "execute_result"
    }
   ],
   "source": [
    "sudh"
   ]
  },
  {
   "cell_type": "code",
   "execution_count": 62,
   "id": "73df7813-7449-4640-97fa-80f104181fbe",
   "metadata": {},
   "outputs": [
    {
     "ename": "AttributeError",
     "evalue": "'pwskills2' object has no attribute 'phone_number'",
     "output_type": "error",
     "traceback": [
      "\u001b[0;31m---------------------------------------------------------------------------\u001b[0m",
      "\u001b[0;31mAttributeError\u001b[0m                            Traceback (most recent call last)",
      "Cell \u001b[0;32mIn[62], line 1\u001b[0m\n\u001b[0;32m----> 1\u001b[0m \u001b[43msudh\u001b[49m\u001b[38;5;241;43m.\u001b[39;49m\u001b[43mphone_number\u001b[49m\n",
      "\u001b[0;31mAttributeError\u001b[0m: 'pwskills2' object has no attribute 'phone_number'"
     ]
    }
   ],
   "source": [
    "sudh.phone_number"
   ]
  },
  {
   "cell_type": "code",
   "execution_count": 66,
   "id": "6b82240a-8168-4372-b3c7-ff327e66370d",
   "metadata": {},
   "outputs": [],
   "source": [
    "# class can undderstand only .self ke saath wala varible"
   ]
  },
  {
   "cell_type": "code",
   "execution_count": 63,
   "id": "02ba75a0-2537-40b3-aa7d-168835c23da3",
   "metadata": {},
   "outputs": [
    {
     "data": {
      "text/plain": [
       "123456789"
      ]
     },
     "execution_count": 63,
     "metadata": {},
     "output_type": "execute_result"
    }
   ],
   "source": [
    "sudh.phone_number1"
   ]
  },
  {
   "cell_type": "code",
   "execution_count": 64,
   "id": "e179b5ab-a25c-47b2-8b76-271a03e2c4be",
   "metadata": {},
   "outputs": [
    {
     "data": {
      "text/plain": [
       "'sudh@gmail.com'"
      ]
     },
     "execution_count": 64,
     "metadata": {},
     "output_type": "execute_result"
    }
   ],
   "source": [
    "sudh.email_id1"
   ]
  },
  {
   "cell_type": "code",
   "execution_count": 56,
   "id": "4e97851b-3b36-4cef-b2c6-5999dc0473f5",
   "metadata": {},
   "outputs": [
    {
     "data": {
      "text/plain": [
       "123"
      ]
     },
     "execution_count": 56,
     "metadata": {},
     "output_type": "execute_result"
    }
   ],
   "source": [
    "sudh.student_id1"
   ]
  },
  {
   "cell_type": "code",
   "execution_count": 65,
   "id": "badaf31e-e58f-47e9-93cc-8a65d35b18f3",
   "metadata": {},
   "outputs": [
    {
     "data": {
      "text/plain": [
       "(123456789, 'sudh@gmail.com', 123)"
      ]
     },
     "execution_count": 65,
     "metadata": {},
     "output_type": "execute_result"
    }
   ],
   "source": [
    "sudh.return_student_details()"
   ]
  },
  {
   "cell_type": "code",
   "execution_count": 67,
   "id": "1e1da9b8-62b4-4f87-9c04-7df95a817236",
   "metadata": {},
   "outputs": [],
   "source": [
    "# def __init__ is basically a constructor\n",
    "# it is used to initialise the values in const"
   ]
  },
  {
   "cell_type": "code",
   "execution_count": 68,
   "id": "1d10b45e-4936-4a17-a3cb-e19453f2bc29",
   "metadata": {},
   "outputs": [],
   "source": [
    "class pwskills3:\n",
    "    def __init__(sudh,phone_number, email_id,student_id):\n",
    "        sudh.phone_number1=phone_number\n",
    "        sudh.email_id1=email_id\n",
    "        sudh.student_id1=student_id\n",
    "    def return_student_details(sudh):\n",
    "        return  sudh.phone_number1, sudh.email_id1,sudh.student_id1"
   ]
  },
  {
   "cell_type": "code",
   "execution_count": 70,
   "id": "794075f9-bf1e-4c91-b4e6-ea4065d8686f",
   "metadata": {},
   "outputs": [],
   "source": [
    "rohan=pwskills3(3456788,\"rohan@gmail.com\",345)"
   ]
  },
  {
   "cell_type": "code",
   "execution_count": 71,
   "id": "006355b4-f212-4f47-ab7e-5a0ccda1e064",
   "metadata": {},
   "outputs": [
    {
     "data": {
      "text/plain": [
       "(3456788, 'rohan@gmail.com', 345)"
      ]
     },
     "execution_count": 71,
     "metadata": {},
     "output_type": "execute_result"
    }
   ],
   "source": [
    "rohan.return_student_details()"
   ]
  },
  {
   "cell_type": "code",
   "execution_count": null,
   "id": "5ada936f-5ca2-462e-8d06-047976aa19fc",
   "metadata": {},
   "outputs": [],
   "source": []
  }
 ],
 "metadata": {
  "kernelspec": {
   "display_name": "Python 3 (ipykernel)",
   "language": "python",
   "name": "python3"
  },
  "language_info": {
   "codemirror_mode": {
    "name": "ipython",
    "version": 3
   },
   "file_extension": ".py",
   "mimetype": "text/x-python",
   "name": "python",
   "nbconvert_exporter": "python",
   "pygments_lexer": "ipython3",
   "version": "3.10.8"
  }
 },
 "nbformat": 4,
 "nbformat_minor": 5
}
