{
 "cells": [
  {
   "cell_type": "code",
   "execution_count": 1,
   "id": "c161ad71-669c-423f-aca5-97e58618eb51",
   "metadata": {},
   "outputs": [],
   "source": [
    "# while loop"
   ]
  },
  {
   "cell_type": "code",
   "execution_count": 2,
   "id": "a95f9b9a-3308-43ca-b485-3c7c22824672",
   "metadata": {},
   "outputs": [
    {
     "name": "stdout",
     "output_type": "stream",
     "text": [
      "1\n",
      "2\n",
      "3\n",
      "4\n",
      "5\n",
      "6\n",
      "7\n",
      "8\n",
      "9\n",
      "10\n"
     ]
    }
   ],
   "source": [
    "a=1\n",
    "while a<=10:\n",
    "    print(a)\n",
    "    a=a+1"
   ]
  },
  {
   "cell_type": "code",
   "execution_count": 3,
   "id": "b1c73698-d557-4bec-a9cf-70be718c046c",
   "metadata": {},
   "outputs": [],
   "source": [
    "# sum the number till some point"
   ]
  },
  {
   "cell_type": "code",
   "execution_count": 1,
   "id": "3835a4b6-dbfc-4f16-af77-4915e47cad95",
   "metadata": {},
   "outputs": [
    {
     "name": "stdin",
     "output_type": "stream",
     "text": [
      "number:  5\n"
     ]
    },
    {
     "name": "stdout",
     "output_type": "stream",
     "text": [
      "15\n"
     ]
    }
   ],
   "source": [
    "i=0\n",
    "sum=0\n",
    "n=int(input(\"number: \"))\n",
    "while(i<=n):\n",
    "    sum=sum+i\n",
    "    i=i+1\n",
    "print(sum)"
   ]
  },
  {
   "cell_type": "code",
   "execution_count": null,
   "id": "7986f421-c8fe-4733-8d51-8f72fc6279b4",
   "metadata": {},
   "outputs": [],
   "source": [
    "# finding factorial"
   ]
  },
  {
   "cell_type": "code",
   "execution_count": 3,
   "id": "f40f946a-c2fb-4b36-877d-52d6c39b921a",
   "metadata": {},
   "outputs": [
    {
     "name": "stdin",
     "output_type": "stream",
     "text": [
      "enter your number 5\n"
     ]
    },
    {
     "data": {
      "text/plain": [
       "120"
      ]
     },
     "execution_count": 3,
     "metadata": {},
     "output_type": "execute_result"
    }
   ],
   "source": [
    "number=int(input(\"enter your number\"))\n",
    "factorial=1\n",
    "while number>0:\n",
    "    factorial=factorial*number\n",
    "    number=number-1\n",
    "factorial"
   ]
  },
  {
   "cell_type": "code",
   "execution_count": 4,
   "id": "4483ca5f-9582-4fd1-a079-a8b571b8b5ee",
   "metadata": {},
   "outputs": [],
   "source": [
    "# fibonacci series"
   ]
  },
  {
   "cell_type": "code",
   "execution_count": 6,
   "id": "4ea83a17-186e-4f03-91bd-f5052189dc79",
   "metadata": {},
   "outputs": [],
   "source": [
    "# 0 1 1 2 3 5 8 13 21 34 55............."
   ]
  },
  {
   "cell_type": "code",
   "execution_count": 1,
   "id": "f673013c-2bce-427c-a2a4-3c84ff53bd97",
   "metadata": {},
   "outputs": [
    {
     "name": "stdin",
     "output_type": "stream",
     "text": [
      "enter number of elements in fibo series 10\n"
     ]
    },
    {
     "name": "stdout",
     "output_type": "stream",
     "text": [
      "0\n",
      "1\n",
      "1\n",
      "2\n",
      "3\n",
      "5\n",
      "8\n",
      "13\n",
      "21\n",
      "34\n"
     ]
    }
   ],
   "source": [
    "num=int(input(\"enter number of elements in fibo series\"))\n",
    "a=0\n",
    "b=1\n",
    "counter=0\n",
    "while counter<num:\n",
    "    print(a)\n",
    "    c=a+b\n",
    "    a=b\n",
    "    b=c\n",
    "    counter=counter+1"
   ]
  },
  {
   "cell_type": "code",
   "execution_count": 12,
   "id": "179408b6-a9ba-40ec-be85-b028e5911430",
   "metadata": {},
   "outputs": [
    {
     "name": "stdout",
     "output_type": "stream",
     "text": [
      "hello\n"
     ]
    }
   ],
   "source": [
    "print(\"hello\")"
   ]
  },
  {
   "cell_type": "code",
   "execution_count": 2,
   "id": "104b4d7f-730d-4d4c-9752-99115f731883",
   "metadata": {},
   "outputs": [
    {
     "name": "stdout",
     "output_type": "stream",
     "text": [
      "0\n",
      "1\n",
      "1\n",
      "2\n",
      "3\n",
      "5\n",
      "8\n",
      "13\n",
      "21\n",
      "34\n"
     ]
    }
   ],
   "source": [
    "# for loop fibo\n",
    "a=0\n",
    "b=1\n",
    "for i in range(10):\n",
    "    print(a)\n",
    "    c=a+b\n",
    "    a=b\n",
    "    b=c\n",
    "    "
   ]
  },
  {
   "cell_type": "code",
   "execution_count": 3,
   "id": "00eeafdf-0f88-46e6-9027-5263e5054b8a",
   "metadata": {},
   "outputs": [],
   "source": [
    "s=\"sudh\""
   ]
  },
  {
   "cell_type": "code",
   "execution_count": 4,
   "id": "a64e76e5-c334-4078-90af-da0b065806da",
   "metadata": {},
   "outputs": [
    {
     "data": {
      "text/plain": [
       "'sudh'"
      ]
     },
     "execution_count": 4,
     "metadata": {},
     "output_type": "execute_result"
    }
   ],
   "source": [
    "s"
   ]
  },
  {
   "cell_type": "code",
   "execution_count": 5,
   "id": "43e121c1-45de-47db-8f06-3f6ccc1e1114",
   "metadata": {},
   "outputs": [
    {
     "data": {
      "text/plain": [
       "'hdus'"
      ]
     },
     "execution_count": 5,
     "metadata": {},
     "output_type": "execute_result"
    }
   ],
   "source": [
    "s[::-1]"
   ]
  },
  {
   "cell_type": "code",
   "execution_count": null,
   "id": "2342f461-01f8-4800-9f9d-764f01a6bd3a",
   "metadata": {},
   "outputs": [],
   "source": [
    "# reverse string using while loop"
   ]
  },
  {
   "cell_type": "code",
   "execution_count": 8,
   "id": "6ab9751e-0033-4653-b7f7-9c8c4bd273f6",
   "metadata": {},
   "outputs": [
    {
     "name": "stdin",
     "output_type": "stream",
     "text": [
      "enter string for reverse raju\n"
     ]
    },
    {
     "name": "stdout",
     "output_type": "stream",
     "text": [
      "ujar\n"
     ]
    }
   ],
   "source": [
    "word=input(\"enter string for reverse\")\n",
    "reverse=\"\"\n",
    "length=len(word)\n",
    "while length>0:\n",
    "    reverse=reverse+word[length-1]\n",
    "    length=length-1\n",
    "print(reverse)"
   ]
  },
  {
   "cell_type": "code",
   "execution_count": 9,
   "id": "3fb657a9-3999-495b-b227-ef2bf5317d21",
   "metadata": {},
   "outputs": [],
   "source": [
    "# print table of numbers"
   ]
  },
  {
   "cell_type": "code",
   "execution_count": 11,
   "id": "2a7cbb37-8745-42b6-ab6b-295ae66d39cc",
   "metadata": {},
   "outputs": [
    {
     "name": "stdin",
     "output_type": "stream",
     "text": [
      "enter you number 4\n"
     ]
    },
    {
     "name": "stdout",
     "output_type": "stream",
     "text": [
      "4\n",
      "8\n",
      "12\n",
      "16\n",
      "20\n",
      "24\n",
      "28\n",
      "32\n",
      "36\n",
      "40\n"
     ]
    }
   ],
   "source": [
    "n=int(input(\"enter you number\"))\n",
    "i=1\n",
    "while i<=10:\n",
    "    print(n*i)\n",
    "    i=i+1"
   ]
  },
  {
   "cell_type": "code",
   "execution_count": 14,
   "id": "5a31f4f0-2768-4289-8ad9-17fa65f23b16",
   "metadata": {},
   "outputs": [
    {
     "name": "stdout",
     "output_type": "stream",
     "text": [
      "1\n",
      "2\n",
      "3\n"
     ]
    }
   ],
   "source": [
    "n=5\n",
    "i=1\n",
    "while i<n:\n",
    "    print(i)\n",
    "    if i==3:\n",
    "        break\n",
    "    i=i+1\n",
    "else:\n",
    "    print(\"this will be executed once while loop is completed sucessfully\")"
   ]
  },
  {
   "cell_type": "markdown",
   "id": "6293f5f2-d047-4870-8e41-403a9b0a0d77",
   "metadata": {},
   "source": [
    "# comprehension operation"
   ]
  },
  {
   "cell_type": "code",
   "execution_count": 15,
   "id": "b438465c-0179-4071-8037-e97724fb14a6",
   "metadata": {},
   "outputs": [],
   "source": [
    "# short form of loop"
   ]
  },
  {
   "cell_type": "code",
   "execution_count": 16,
   "id": "4ac5215b-5846-4580-a872-eda753c21b4b",
   "metadata": {},
   "outputs": [],
   "source": [
    "l=[1,2,3,4,5]"
   ]
  },
  {
   "cell_type": "code",
   "execution_count": 17,
   "id": "f2bc17cd-5919-482e-98ec-20539036c8c7",
   "metadata": {},
   "outputs": [
    {
     "data": {
      "text/plain": [
       "[1, 2, 3, 4, 5]"
      ]
     },
     "execution_count": 17,
     "metadata": {},
     "output_type": "execute_result"
    }
   ],
   "source": [
    "l"
   ]
  },
  {
   "cell_type": "code",
   "execution_count": 18,
   "id": "d10e0e4e-e80c-45f8-91ab-5a709c274b98",
   "metadata": {},
   "outputs": [],
   "source": [
    "l1=[]"
   ]
  },
  {
   "cell_type": "code",
   "execution_count": 19,
   "id": "ea7d98df-ad20-4cb2-aa55-252711e3ddd5",
   "metadata": {},
   "outputs": [],
   "source": [
    "for i in l:\n",
    "    l1.append(i**2)"
   ]
  },
  {
   "cell_type": "code",
   "execution_count": 20,
   "id": "059d4ca1-bd43-4958-a2d1-2cf33bd5e682",
   "metadata": {},
   "outputs": [
    {
     "data": {
      "text/plain": [
       "[1, 4, 9, 16, 25]"
      ]
     },
     "execution_count": 20,
     "metadata": {},
     "output_type": "execute_result"
    }
   ],
   "source": [
    "l1"
   ]
  },
  {
   "cell_type": "code",
   "execution_count": 22,
   "id": "a6a27931-3368-4963-8509-22c6f33b2e3a",
   "metadata": {},
   "outputs": [
    {
     "data": {
      "text/plain": [
       "[1, 4, 9, 16, 25]"
      ]
     },
     "execution_count": 22,
     "metadata": {},
     "output_type": "execute_result"
    }
   ],
   "source": [
    "[ i**2 for i in l]"
   ]
  },
  {
   "cell_type": "code",
   "execution_count": 24,
   "id": "dd558b2a-7625-4be3-875d-4c3b94c70ff7",
   "metadata": {},
   "outputs": [
    {
     "data": {
      "text/plain": [
       "[2, 4]"
      ]
     },
     "execution_count": 24,
     "metadata": {},
     "output_type": "execute_result"
    }
   ],
   "source": [
    "[i for i in l if i%2==0]"
   ]
  },
  {
   "cell_type": "code",
   "execution_count": 25,
   "id": "5a596392-f517-4df1-9f2f-5aede9b9df02",
   "metadata": {},
   "outputs": [],
   "source": [
    "l1=[\"sudh\",\"pwskills\",\"kumar\",\"data science masters\"]"
   ]
  },
  {
   "cell_type": "code",
   "execution_count": 26,
   "id": "3fdbaf08-1e52-489b-b5bd-3cf3e27be9e5",
   "metadata": {},
   "outputs": [
    {
     "data": {
      "text/plain": [
       "['sudh', 'pwskills', 'kumar', 'data science masters']"
      ]
     },
     "execution_count": 26,
     "metadata": {},
     "output_type": "execute_result"
    }
   ],
   "source": [
    "l1"
   ]
  },
  {
   "cell_type": "code",
   "execution_count": 27,
   "id": "b7e46365-998a-4b40-b360-1b309b7f71c2",
   "metadata": {},
   "outputs": [
    {
     "data": {
      "text/plain": [
       "['SUDH', 'PWSKILLS', 'KUMAR', 'DATA SCIENCE MASTERS']"
      ]
     },
     "execution_count": 27,
     "metadata": {},
     "output_type": "execute_result"
    }
   ],
   "source": [
    "[i.upper() for i in l1]"
   ]
  },
  {
   "cell_type": "code",
   "execution_count": 28,
   "id": "cd4c3a63-d9c8-4123-8648-489207f2f0f6",
   "metadata": {},
   "outputs": [
    {
     "data": {
      "text/plain": [
       "[1, 2, 3, 4, 5]"
      ]
     },
     "execution_count": 28,
     "metadata": {},
     "output_type": "execute_result"
    }
   ],
   "source": [
    "l"
   ]
  },
  {
   "cell_type": "code",
   "execution_count": 29,
   "id": "1d6a45bc-69c1-4820-a95b-afeef7a3ed13",
   "metadata": {},
   "outputs": [],
   "source": [
    "# tuple comprehension"
   ]
  },
  {
   "cell_type": "code",
   "execution_count": 32,
   "id": "637ef499-7461-4b52-8973-c0ed24655662",
   "metadata": {},
   "outputs": [
    {
     "data": {
      "text/plain": [
       "[1, 4, 9, 16, 25]"
      ]
     },
     "execution_count": 32,
     "metadata": {},
     "output_type": "execute_result"
    }
   ],
   "source": [
    "list(i**2 for i in l)"
   ]
  },
  {
   "cell_type": "code",
   "execution_count": 33,
   "id": "e4fa2f28-9b49-4d89-9bda-05b90a2ee12b",
   "metadata": {},
   "outputs": [],
   "source": [
    "d={\"key1\":1,\"key2\":2,\"key3\":3,\"key4\":4}"
   ]
  },
  {
   "cell_type": "code",
   "execution_count": 34,
   "id": "ce7fb478-623f-4d49-b42f-5ecd774602d2",
   "metadata": {},
   "outputs": [
    {
     "data": {
      "text/plain": [
       "{'key1': 1, 'key2': 2, 'key3': 3, 'key4': 4}"
      ]
     },
     "execution_count": 34,
     "metadata": {},
     "output_type": "execute_result"
    }
   ],
   "source": [
    "d"
   ]
  },
  {
   "cell_type": "code",
   "execution_count": 37,
   "id": "a6f3a74c-9f05-480b-9eaa-11d854a7f16b",
   "metadata": {},
   "outputs": [
    {
     "data": {
      "text/plain": [
       "{'key1': 1, 'key2': 4, 'key3': 9, 'key4': 16}"
      ]
     },
     "execution_count": 37,
     "metadata": {},
     "output_type": "execute_result"
    }
   ],
   "source": [
    "{k:v**2 for k, v in d.items()}"
   ]
  },
  {
   "cell_type": "code",
   "execution_count": 36,
   "id": "71c4f264-1bf2-489f-8c54-494e63adebf9",
   "metadata": {},
   "outputs": [
    {
     "data": {
      "text/plain": [
       "dict_items([('key1', 1), ('key2', 2), ('key3', 3), ('key4', 4)])"
      ]
     },
     "execution_count": 36,
     "metadata": {},
     "output_type": "execute_result"
    }
   ],
   "source": [
    "d.items()"
   ]
  },
  {
   "cell_type": "code",
   "execution_count": 38,
   "id": "6279da8d-dc94-489a-b375-22e6e43551ea",
   "metadata": {},
   "outputs": [
    {
     "data": {
      "text/plain": [
       "{'key1': 1, 'key2': 2, 'key3': 3, 'key4': 4}"
      ]
     },
     "execution_count": 38,
     "metadata": {},
     "output_type": "execute_result"
    }
   ],
   "source": [
    "d"
   ]
  },
  {
   "cell_type": "code",
   "execution_count": 42,
   "id": "c0d07402-2cc0-4d0a-8e18-5dde842e93fd",
   "metadata": {},
   "outputs": [],
   "source": [
    "# for values of v where value>1"
   ]
  },
  {
   "cell_type": "code",
   "execution_count": 41,
   "id": "dac63a4c-8da2-4b29-ae4a-a58b7a17e814",
   "metadata": {},
   "outputs": [
    {
     "data": {
      "text/plain": [
       "{'key2': 2, 'key3': 3, 'key4': 4}"
      ]
     },
     "execution_count": 41,
     "metadata": {},
     "output_type": "execute_result"
    }
   ],
   "source": [
    "{k:v for k,v in d.items() if v>1}"
   ]
  },
  {
   "cell_type": "markdown",
   "id": "0313054c-cd35-4fc4-aa7c-78eee1eb1d01",
   "metadata": {},
   "source": [
    "# functions part 1"
   ]
  },
  {
   "cell_type": "code",
   "execution_count": 44,
   "id": "3dd4a7ad-c82f-4c60-b257-89b42ba179ef",
   "metadata": {},
   "outputs": [],
   "source": [
    "def test():\n",
    "    pass"
   ]
  },
  {
   "cell_type": "code",
   "execution_count": 45,
   "id": "56d07612-ae25-4c3b-aa3c-485a38f863b5",
   "metadata": {},
   "outputs": [],
   "source": [
    "def test1():\n",
    "    print(\"this is my first function\")"
   ]
  },
  {
   "cell_type": "code",
   "execution_count": 46,
   "id": "36644356-ad93-4230-b5dc-e5bffd80c3ed",
   "metadata": {},
   "outputs": [
    {
     "name": "stdout",
     "output_type": "stream",
     "text": [
      "this is my first function\n"
     ]
    }
   ],
   "source": [
    "test1()"
   ]
  },
  {
   "cell_type": "code",
   "execution_count": 47,
   "id": "dbcb4ddb-96e2-4f8c-ba3b-1d925b9a04f6",
   "metadata": {},
   "outputs": [],
   "source": [
    "def test2():\n",
    "    return \"this is my first return\""
   ]
  },
  {
   "cell_type": "code",
   "execution_count": 48,
   "id": "e94c678c-bc93-42fa-bcb1-c00cfa98639b",
   "metadata": {},
   "outputs": [
    {
     "data": {
      "text/plain": [
       "'this is my first return'"
      ]
     },
     "execution_count": 48,
     "metadata": {},
     "output_type": "execute_result"
    }
   ],
   "source": [
    "test2()"
   ]
  },
  {
   "cell_type": "code",
   "execution_count": 49,
   "id": "2931a7bc-7dbf-4646-9577-81ea4179d84e",
   "metadata": {},
   "outputs": [
    {
     "name": "stdout",
     "output_type": "stream",
     "text": [
      "this is my first function\n"
     ]
    },
    {
     "data": {
      "text/plain": [
       "NoneType"
      ]
     },
     "execution_count": 49,
     "metadata": {},
     "output_type": "execute_result"
    }
   ],
   "source": [
    "type(test1())"
   ]
  },
  {
   "cell_type": "code",
   "execution_count": 50,
   "id": "166c7c72-eb14-4be4-b048-043415429a14",
   "metadata": {},
   "outputs": [
    {
     "data": {
      "text/plain": [
       "str"
      ]
     },
     "execution_count": 50,
     "metadata": {},
     "output_type": "execute_result"
    }
   ],
   "source": [
    "type(test2())"
   ]
  },
  {
   "cell_type": "markdown",
   "id": "418702c3-cb32-4335-b8de-8559b18a75ae",
   "metadata": {},
   "source": [
    "#### print --> return NoneType value\n",
    "#### return -->return string,int,gloat etc"
   ]
  },
  {
   "cell_type": "code",
   "execution_count": 70,
   "id": "96dea885-db4b-453e-bfd1-2359e9e9d473",
   "metadata": {},
   "outputs": [],
   "source": [
    "def test3():\n",
    "    return \"this\",23,34.45,69.6969,[1,2,3,4]"
   ]
  },
  {
   "cell_type": "code",
   "execution_count": 62,
   "id": "d99d3084-e3c3-4148-8f9c-5d11c99907d2",
   "metadata": {},
   "outputs": [
    {
     "data": {
      "text/plain": [
       "('this', 23, 34.45, 69.6969, [1, 2, 3, 4])"
      ]
     },
     "execution_count": 62,
     "metadata": {},
     "output_type": "execute_result"
    }
   ],
   "source": [
    "test3()"
   ]
  },
  {
   "cell_type": "code",
   "execution_count": 63,
   "id": "f33f6e7f-f9b0-4b9a-8b6a-43222e036451",
   "metadata": {},
   "outputs": [
    {
     "data": {
      "text/plain": [
       "function"
      ]
     },
     "execution_count": 63,
     "metadata": {},
     "output_type": "execute_result"
    }
   ],
   "source": [
    "type(test3)"
   ]
  },
  {
   "cell_type": "code",
   "execution_count": 71,
   "id": "07aa6189-73f2-43e7-8dbc-a0a2e058dcc8",
   "metadata": {},
   "outputs": [],
   "source": [
    "a,b,c,d,e = test3()"
   ]
  },
  {
   "cell_type": "code",
   "execution_count": 67,
   "id": "95ee4750-fb73-41b9-b484-5da51bcafc2a",
   "metadata": {},
   "outputs": [
    {
     "data": {
      "text/plain": [
       "'this'"
      ]
     },
     "execution_count": 67,
     "metadata": {},
     "output_type": "execute_result"
    }
   ],
   "source": [
    "a"
   ]
  },
  {
   "cell_type": "code",
   "execution_count": 68,
   "id": "31ccc4d7-0f85-4674-a0a0-b8b231927737",
   "metadata": {},
   "outputs": [
    {
     "data": {
      "text/plain": [
       "23"
      ]
     },
     "execution_count": 68,
     "metadata": {},
     "output_type": "execute_result"
    }
   ],
   "source": [
    "b"
   ]
  },
  {
   "cell_type": "code",
   "execution_count": 69,
   "id": "1c7dee7b-83a2-4a4c-bc65-bef6ad981942",
   "metadata": {},
   "outputs": [
    {
     "data": {
      "text/plain": [
       "34.45"
      ]
     },
     "execution_count": 69,
     "metadata": {},
     "output_type": "execute_result"
    }
   ],
   "source": [
    "c"
   ]
  },
  {
   "cell_type": "code",
   "execution_count": 72,
   "id": "968c7b6c-c8bd-42b2-932c-89246f2d8635",
   "metadata": {},
   "outputs": [
    {
     "data": {
      "text/plain": [
       "69.6969"
      ]
     },
     "execution_count": 72,
     "metadata": {},
     "output_type": "execute_result"
    }
   ],
   "source": [
    "d"
   ]
  },
  {
   "cell_type": "code",
   "execution_count": 73,
   "id": "2367f0ee-07a1-4bf7-967e-dbd9d2249398",
   "metadata": {},
   "outputs": [
    {
     "data": {
      "text/plain": [
       "[1, 2, 3, 4]"
      ]
     },
     "execution_count": 73,
     "metadata": {},
     "output_type": "execute_result"
    }
   ],
   "source": [
    "e"
   ]
  },
  {
   "cell_type": "code",
   "execution_count": 78,
   "id": "e239740c-7c18-4347-8fa7-2ab4f1e93a87",
   "metadata": {},
   "outputs": [],
   "source": [
    "a=1\n",
    "b=3"
   ]
  },
  {
   "cell_type": "code",
   "execution_count": 79,
   "id": "d5b055fe-2050-4662-8a59-29a00bcdd036",
   "metadata": {},
   "outputs": [
    {
     "data": {
      "text/plain": [
       "(1, 3)"
      ]
     },
     "execution_count": 79,
     "metadata": {},
     "output_type": "execute_result"
    }
   ],
   "source": [
    "a,b"
   ]
  },
  {
   "cell_type": "code",
   "execution_count": 75,
   "id": "1cbd5afb-72af-45f1-ba37-56e8518239cd",
   "metadata": {},
   "outputs": [],
   "source": [
    "a,b=1,4"
   ]
  },
  {
   "cell_type": "code",
   "execution_count": 76,
   "id": "b3ea4e83-e1e6-45ff-b6c4-8a3e1245d169",
   "metadata": {},
   "outputs": [
    {
     "data": {
      "text/plain": [
       "(1, 4)"
      ]
     },
     "execution_count": 76,
     "metadata": {},
     "output_type": "execute_result"
    }
   ],
   "source": [
    "a,b"
   ]
  },
  {
   "cell_type": "code",
   "execution_count": 82,
   "id": "c5b479e2-6ef8-46d1-a2ba-29295509f675",
   "metadata": {},
   "outputs": [],
   "source": [
    "def test4():\n",
    "    a=5+6/7\n",
    "    return a"
   ]
  },
  {
   "cell_type": "code",
   "execution_count": 84,
   "id": "ae5e1716-9196-44fa-9804-2ad584ad389b",
   "metadata": {},
   "outputs": [
    {
     "data": {
      "text/plain": [
       "5.857142857142857"
      ]
     },
     "execution_count": 84,
     "metadata": {},
     "output_type": "execute_result"
    }
   ],
   "source": [
    "test4()"
   ]
  },
  {
   "cell_type": "code",
   "execution_count": 86,
   "id": "e2f408ac-3f34-40ab-8a13-0a5e1678d34f",
   "metadata": {},
   "outputs": [],
   "source": [
    "def test5(a,b,c):\n",
    "    d=a+b/c\n",
    "    return d\n",
    "    "
   ]
  },
  {
   "cell_type": "code",
   "execution_count": 87,
   "id": "89298ba5-b0fd-423e-84be-917a4c5ec1ad",
   "metadata": {},
   "outputs": [
    {
     "data": {
      "text/plain": [
       "2.75"
      ]
     },
     "execution_count": 87,
     "metadata": {},
     "output_type": "execute_result"
    }
   ],
   "source": [
    "test5(2,3,4)"
   ]
  },
  {
   "cell_type": "code",
   "execution_count": 88,
   "id": "4aae4f5a-98be-4628-a5c4-3a0ed95f88c7",
   "metadata": {},
   "outputs": [],
   "source": [
    "def test6(a,b):\n",
    "    return a+b"
   ]
  },
  {
   "cell_type": "code",
   "execution_count": 89,
   "id": "f6d50d58-259e-4f45-b3dd-23d0211f6d93",
   "metadata": {},
   "outputs": [
    {
     "data": {
      "text/plain": [
       "11"
      ]
     },
     "execution_count": 89,
     "metadata": {},
     "output_type": "execute_result"
    }
   ],
   "source": [
    "test6(5,6)"
   ]
  },
  {
   "cell_type": "code",
   "execution_count": 91,
   "id": "29733730-4b81-4d9e-a8c1-76f7b50d0b4a",
   "metadata": {},
   "outputs": [
    {
     "data": {
      "text/plain": [
       "'sudhkumar'"
      ]
     },
     "execution_count": 91,
     "metadata": {},
     "output_type": "execute_result"
    }
   ],
   "source": [
    "test6(\"sudh\",\"kumar\")"
   ]
  },
  {
   "cell_type": "code",
   "execution_count": 94,
   "id": "e7425801-9a3b-4295-b0ed-21db688c3d5f",
   "metadata": {},
   "outputs": [
    {
     "data": {
      "text/plain": [
       "[1, 2, 3, 4, 4, 5, 6, 7]"
      ]
     },
     "execution_count": 94,
     "metadata": {},
     "output_type": "execute_result"
    }
   ],
   "source": [
    "test6([1,2,3,4],[4,5,6,7])"
   ]
  },
  {
   "cell_type": "code",
   "execution_count": 3,
   "id": "6d002603-219c-4978-a633-93c5ec5635ee",
   "metadata": {},
   "outputs": [],
   "source": [
    "l=[12,3,4,\"sudh\",\"kumar\",[1,2,3,4,5,6]]"
   ]
  },
  {
   "cell_type": "code",
   "execution_count": 4,
   "id": "55a99173-b20f-4e5a-aaf4-579e4e53e456",
   "metadata": {},
   "outputs": [
    {
     "data": {
      "text/plain": [
       "[12, 3, 4, 'sudh', 'kumar', [1, 2, 3, 4, 5, 6]]"
      ]
     },
     "execution_count": 4,
     "metadata": {},
     "output_type": "execute_result"
    }
   ],
   "source": [
    "l"
   ]
  },
  {
   "cell_type": "code",
   "execution_count": 122,
   "id": "b134ea83-ba48-4e39-8c0b-f1ecd874efb9",
   "metadata": {},
   "outputs": [],
   "source": [
    "l1=[]\n",
    "for i in l:\n",
    "    if type(i)==int or type(i)==float:\n",
    "        l1.append(i)"
   ]
  },
  {
   "cell_type": "code",
   "execution_count": 134,
   "id": "7341649d-f3e2-43c5-8c20-c33240c184be",
   "metadata": {},
   "outputs": [
    {
     "data": {
      "text/plain": [
       "list"
      ]
     },
     "execution_count": 134,
     "metadata": {},
     "output_type": "execute_result"
    }
   ],
   "source": [
    "type(l1)"
   ]
  },
  {
   "cell_type": "code",
   "execution_count": 128,
   "id": "b6498271-4c33-4a66-8b50-544e5b695070",
   "metadata": {},
   "outputs": [],
   "source": [
    "def test7(l):\n",
    "    l2=[]\n",
    "    for i in l:\n",
    "        if type(i)==int or type(i)==float:\n",
    "             l1.append(i)\n",
    "    return l1 \n",
    "        "
   ]
  },
  {
   "cell_type": "code",
   "execution_count": 131,
   "id": "3fd491d3-8a02-452e-8427-a7c91dfca6b4",
   "metadata": {},
   "outputs": [
    {
     "data": {
      "text/plain": [
       "[12, 3, 4, 12, 3, 4, 12, 3, 4, 12, 3, 4, 12, 3, 4]"
      ]
     },
     "execution_count": 131,
     "metadata": {},
     "output_type": "execute_result"
    }
   ],
   "source": [
    "test7(l)"
   ]
  },
  {
   "cell_type": "code",
   "execution_count": 141,
   "id": "9975356f-138d-4007-aae1-149a051926f8",
   "metadata": {},
   "outputs": [],
   "source": [
    "def test8(l):\n",
    "    l3=[]\n",
    "    for i in l:\n",
    "        if type(i)==list:\n",
    "            l3.append(i)\n",
    "    return l3"
   ]
  },
  {
   "cell_type": "code",
   "execution_count": 142,
   "id": "77d80edd-3503-4a7a-a8de-59045bd94c81",
   "metadata": {},
   "outputs": [
    {
     "data": {
      "text/plain": [
       "[[1, 2, 3, 4, 5, 6]]"
      ]
     },
     "execution_count": 142,
     "metadata": {},
     "output_type": "execute_result"
    }
   ],
   "source": [
    "test8(l)"
   ]
  },
  {
   "cell_type": "code",
   "execution_count": 5,
   "id": "c34a270a-90d8-4bcd-b918-bc462c73aab7",
   "metadata": {},
   "outputs": [],
   "source": [
    "def test8(l):\n",
    "    l3=[]\n",
    "    for i in l:\n",
    "        if type(i)==list:\n",
    "            l3.append(i)\n",
    "        else:\n",
    "            if type(i)==int or type(i)==float:\n",
    "                l.append(i)\n",
    "    return l3"
   ]
  },
  {
   "cell_type": "code",
   "execution_count": null,
   "id": "147b5f64-3d09-479e-9a24-c1b75ca0aa6f",
   "metadata": {},
   "outputs": [],
   "source": [
    "test8(l)"
   ]
  },
  {
   "cell_type": "code",
   "execution_count": 5,
   "id": "b5d82dc3-9c5c-42cc-aa2e-936201ac475f",
   "metadata": {},
   "outputs": [],
   "source": [
    "def test9(a):\n",
    "    '''this is my function to extract num data from list'''\n",
    "    \n",
    "    l=[]\n",
    "    for i in a:\n",
    "        if type(i)==list:\n",
    "            for j in i:\n",
    "                l.append(j)\n",
    "        else:\n",
    "            if type(i)==int or type(i)==float:\n",
    "                l.append(i)\n",
    "        return l"
   ]
  },
  {
   "cell_type": "code",
   "execution_count": 7,
   "id": "21491997-ec6e-4604-b048-f31602a0b4ea",
   "metadata": {},
   "outputs": [
    {
     "ename": "TypeError",
     "evalue": "test9() missing 1 required positional argument: 'a'",
     "output_type": "error",
     "traceback": [
      "\u001b[0;31m---------------------------------------------------------------------------\u001b[0m",
      "\u001b[0;31mTypeError\u001b[0m                                 Traceback (most recent call last)",
      "Cell \u001b[0;32mIn[7], line 1\u001b[0m\n\u001b[0;32m----> 1\u001b[0m \u001b[43mtest9\u001b[49m\u001b[43m(\u001b[49m\u001b[43m)\u001b[49m\n",
      "\u001b[0;31mTypeError\u001b[0m: test9() missing 1 required positional argument: 'a'"
     ]
    }
   ],
   "source": [
    "test9()"
   ]
  },
  {
   "cell_type": "code",
   "execution_count": 8,
   "id": "2f10bdfb-4930-4f78-892e-7bc0c5863667",
   "metadata": {},
   "outputs": [],
   "source": [
    "def test10(a,b):\n",
    "    return a+b"
   ]
  },
  {
   "cell_type": "code",
   "execution_count": 2,
   "id": "f11b114f-5a07-4831-a1c4-490fa48dd994",
   "metadata": {},
   "outputs": [],
   "source": [
    "def test11(*args):\n",
    "    return args"
   ]
  },
  {
   "cell_type": "code",
   "execution_count": 3,
   "id": "a3fd3bf8-fb1a-4962-a7b3-3988be3c4425",
   "metadata": {},
   "outputs": [
    {
     "data": {
      "text/plain": [
       "()"
      ]
     },
     "execution_count": 3,
     "metadata": {},
     "output_type": "execute_result"
    }
   ],
   "source": [
    "test11()"
   ]
  },
  {
   "cell_type": "code",
   "execution_count": 11,
   "id": "80b2075e-211e-4ee3-a3e1-ec062ce17a18",
   "metadata": {},
   "outputs": [
    {
     "data": {
      "text/plain": [
       "tuple"
      ]
     },
     "execution_count": 11,
     "metadata": {},
     "output_type": "execute_result"
    }
   ],
   "source": [
    "type(test11())"
   ]
  },
  {
   "cell_type": "code",
   "execution_count": 4,
   "id": "3b180c30-3416-4976-b97d-665c4e9a5a83",
   "metadata": {},
   "outputs": [
    {
     "data": {
      "text/plain": [
       "(1, 2, 3, 4)"
      ]
     },
     "execution_count": 4,
     "metadata": {},
     "output_type": "execute_result"
    }
   ],
   "source": [
    "test11(1,2,3,4)"
   ]
  },
  {
   "cell_type": "code",
   "execution_count": 5,
   "id": "74184341-a2fa-4be4-ab14-a04d77c0ba4f",
   "metadata": {},
   "outputs": [],
   "source": [
    "# * n number of arguments you can pass in an argument"
   ]
  },
  {
   "cell_type": "code",
   "execution_count": 6,
   "id": "fc322028-315c-43b3-880b-928ba303f712",
   "metadata": {},
   "outputs": [],
   "source": [
    "# args not a key word, can be replaced also\n",
    "# args is just a convention"
   ]
  },
  {
   "cell_type": "code",
   "execution_count": 7,
   "id": "29375394-e8df-4f7a-a274-455a6bff244e",
   "metadata": {},
   "outputs": [],
   "source": [
    "def test12(*sudh):\n",
    "    return sudh"
   ]
  },
  {
   "cell_type": "code",
   "execution_count": 8,
   "id": "b3b130bc-6305-489d-a497-91d89367ad6c",
   "metadata": {},
   "outputs": [
    {
     "data": {
      "text/plain": [
       "(1, 2, 3, 4)"
      ]
     },
     "execution_count": 8,
     "metadata": {},
     "output_type": "execute_result"
    }
   ],
   "source": [
    "test12(1,2,3,4)"
   ]
  },
  {
   "cell_type": "code",
   "execution_count": 9,
   "id": "6f375c13-8937-4299-bcae-29e92abf80f1",
   "metadata": {},
   "outputs": [],
   "source": [
    "def test13(*args,a):\n",
    "    return args,a"
   ]
  },
  {
   "cell_type": "code",
   "execution_count": 11,
   "id": "08f72684-60f2-4dfc-a5d7-f00f4c0ae366",
   "metadata": {},
   "outputs": [
    {
     "data": {
      "text/plain": [
       "((1, 2, 3, 4), 69)"
      ]
     },
     "execution_count": 11,
     "metadata": {},
     "output_type": "execute_result"
    }
   ],
   "source": [
    "test13(1,2,3,4, a=69)"
   ]
  },
  {
   "cell_type": "code",
   "execution_count": 15,
   "id": "ff6ad90e-7a53-418b-9ace-0b98af112a8e",
   "metadata": {},
   "outputs": [],
   "source": [
    "def test14(c,d,a=23,b=1):\n",
    "    return a,b,c,d\n",
    "    "
   ]
  },
  {
   "cell_type": "code",
   "execution_count": 17,
   "id": "59b355c1-96cb-4461-80c3-97bc3596307c",
   "metadata": {},
   "outputs": [
    {
     "data": {
      "text/plain": [
       "(23, 1, 3, 4)"
      ]
     },
     "execution_count": 17,
     "metadata": {},
     "output_type": "execute_result"
    }
   ],
   "source": [
    "test14(3,4)"
   ]
  },
  {
   "cell_type": "code",
   "execution_count": 18,
   "id": "dbffa4b2-0d3d-4a59-be1a-aa69fbdf2f54",
   "metadata": {},
   "outputs": [
    {
     "data": {
      "text/plain": [
       "(69, 1, 2, 5)"
      ]
     },
     "execution_count": 18,
     "metadata": {},
     "output_type": "execute_result"
    }
   ],
   "source": [
    "test14(2,5,a=69)"
   ]
  },
  {
   "cell_type": "code",
   "execution_count": 19,
   "id": "76dcde9e-c2b7-4337-9fa6-42f5b92ae794",
   "metadata": {},
   "outputs": [],
   "source": [
    "# number of data in dictionary form"
   ]
  },
  {
   "cell_type": "code",
   "execution_count": 20,
   "id": "9e11d2f8-7971-46e6-b409-0723fb43713c",
   "metadata": {},
   "outputs": [],
   "source": [
    "def test15(**kwargs):\n",
    "    return kwargs"
   ]
  },
  {
   "cell_type": "code",
   "execution_count": 21,
   "id": "6a659d64-a604-49cc-aec4-d4666473b6c8",
   "metadata": {},
   "outputs": [
    {
     "data": {
      "text/plain": [
       "{}"
      ]
     },
     "execution_count": 21,
     "metadata": {},
     "output_type": "execute_result"
    }
   ],
   "source": [
    "test15()"
   ]
  },
  {
   "cell_type": "code",
   "execution_count": 22,
   "id": "eceb82d7-d075-41b8-ad5e-d106733825d5",
   "metadata": {},
   "outputs": [
    {
     "data": {
      "text/plain": [
       "dict"
      ]
     },
     "execution_count": 22,
     "metadata": {},
     "output_type": "execute_result"
    }
   ],
   "source": [
    "type(test15())"
   ]
  },
  {
   "cell_type": "code",
   "execution_count": 24,
   "id": "24c27979-2d72-4067-8640-aa02b87eb343",
   "metadata": {},
   "outputs": [
    {
     "data": {
      "text/plain": [
       "{'a': [1, 2, 3, 4], 'b': 'sudh', 'c': 69.69}"
      ]
     },
     "execution_count": 24,
     "metadata": {},
     "output_type": "execute_result"
    }
   ],
   "source": [
    "test15(a=[1,2,3,4],b=\"sudh\",c=69.69)"
   ]
  },
  {
   "cell_type": "code",
   "execution_count": null,
   "id": "5f5b36b4-3238-4e13-8cb5-17bd4afb75fb",
   "metadata": {},
   "outputs": [],
   "source": []
  }
 ],
 "metadata": {
  "kernelspec": {
   "display_name": "Python 3 (ipykernel)",
   "language": "python",
   "name": "python3"
  },
  "language_info": {
   "codemirror_mode": {
    "name": "ipython",
    "version": 3
   },
   "file_extension": ".py",
   "mimetype": "text/x-python",
   "name": "python",
   "nbconvert_exporter": "python",
   "pygments_lexer": "ipython3",
   "version": "3.10.8"
  }
 },
 "nbformat": 4,
 "nbformat_minor": 5
}
