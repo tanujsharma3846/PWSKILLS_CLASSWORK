{
 "cells": [
  {
   "cell_type": "markdown",
   "id": "3dc9422f-ef42-4ea4-a78b-bfee57b391c5",
   "metadata": {},
   "source": [
    "# dictionary "
   ]
  },
  {
   "cell_type": "code",
   "execution_count": 2,
   "id": "8d117210-494b-4a86-9d0f-a4b4410bb282",
   "metadata": {},
   "outputs": [],
   "source": [
    "d={}"
   ]
  },
  {
   "cell_type": "code",
   "execution_count": 3,
   "id": "f55ffce4-55a1-4242-ba71-d3458f368e1c",
   "metadata": {},
   "outputs": [
    {
     "data": {
      "text/plain": [
       "dict"
      ]
     },
     "execution_count": 3,
     "metadata": {},
     "output_type": "execute_result"
    }
   ],
   "source": [
    "type(d)"
   ]
  },
  {
   "cell_type": "raw",
   "id": "2ddcbd17-a44f-4616-9693-b6a28f2baf5b",
   "metadata": {},
   "source": [
    "# dict={'key':value}\n",
    "# key should be unique"
   ]
  },
  {
   "cell_type": "code",
   "execution_count": 4,
   "id": "db966a7b-3070-4b09-9889-90b9b2291025",
   "metadata": {},
   "outputs": [],
   "source": [
    "d1={\"key\":\"raju\"}"
   ]
  },
  {
   "cell_type": "code",
   "execution_count": 5,
   "id": "188f9da5-82c3-4b07-9b48-7af5c1b976d3",
   "metadata": {},
   "outputs": [
    {
     "data": {
      "text/plain": [
       "{'key': 'raju'}"
      ]
     },
     "execution_count": 5,
     "metadata": {},
     "output_type": "execute_result"
    }
   ],
   "source": [
    "d1"
   ]
  },
  {
   "cell_type": "code",
   "execution_count": 6,
   "id": "8205c1d9-8ebf-4373-a34f-d686dc297e9e",
   "metadata": {},
   "outputs": [],
   "source": [
    "d2={\"name\":\"raju\",\"email\":\"raju69@gmail.com\",\"number\":69696969}"
   ]
  },
  {
   "cell_type": "code",
   "execution_count": 7,
   "id": "7b8a7426-5c06-4eea-9907-6b0014cc4823",
   "metadata": {},
   "outputs": [
    {
     "data": {
      "text/plain": [
       "{'name': 'raju', 'email': 'raju69@gmail.com', 'number': 69696969}"
      ]
     },
     "execution_count": 7,
     "metadata": {},
     "output_type": "execute_result"
    }
   ],
   "source": [
    "d2"
   ]
  },
  {
   "cell_type": "code",
   "execution_count": 2,
   "id": "a7b379c7-09b1-4bcb-85c9-a787e6c4f308",
   "metadata": {},
   "outputs": [
    {
     "data": {
      "text/plain": [
       "{123: 'sudh', 'var': 'kumar', True: 3455}"
      ]
     },
     "execution_count": 2,
     "metadata": {},
     "output_type": "execute_result"
    }
   ],
   "source": [
    "d3={123:\"sudh\",\"var\":\"kumar\",True:3455}\n",
    "d3"
   ]
  },
  {
   "cell_type": "markdown",
   "id": "d947d9ae-15c0-43e5-ae18-70a8c71f3a35",
   "metadata": {},
   "source": [
    "### key ->numeric,bool,string are allowed\n",
    "### special case character not allowed\n",
    "### example below "
   ]
  },
  {
   "cell_type": "code",
   "execution_count": 15,
   "id": "4aabed45-8d83-4d48-b2d9-a758bde008f3",
   "metadata": {},
   "outputs": [
    {
     "ename": "SyntaxError",
     "evalue": "unterminated string literal (detected at line 1) (2294490912.py, line 1)",
     "output_type": "error",
     "traceback": [
      "\u001b[0;36m  Cell \u001b[0;32mIn[15], line 1\u001b[0;36m\u001b[0m\n\u001b[0;31m    d3={123:\"sudh\",@%var\":\"kumar\",True:3455}\u001b[0m\n\u001b[0m                                ^\u001b[0m\n\u001b[0;31mSyntaxError\u001b[0m\u001b[0;31m:\u001b[0m unterminated string literal (detected at line 1)\n"
     ]
    }
   ],
   "source": [
    "d3={123:\"sudh\",@%var\":\"kumar\",True:3455}\n",
    "d3"
   ]
  },
  {
   "cell_type": "code",
   "execution_count": 3,
   "id": "aabd48ba-2da1-4cba-bbfd-66e1910193e0",
   "metadata": {},
   "outputs": [
    {
     "data": {
      "text/plain": [
       "'sudh'"
      ]
     },
     "execution_count": 3,
     "metadata": {},
     "output_type": "execute_result"
    }
   ],
   "source": [
    "d3[123]"
   ]
  },
  {
   "cell_type": "code",
   "execution_count": 4,
   "id": "44884a7f-7c5f-4efd-a686-781ee27f9314",
   "metadata": {},
   "outputs": [
    {
     "data": {
      "text/plain": [
       "3455"
      ]
     },
     "execution_count": 4,
     "metadata": {},
     "output_type": "execute_result"
    }
   ],
   "source": [
    "d3[True]"
   ]
  },
  {
   "cell_type": "code",
   "execution_count": 5,
   "id": "c06f93b0-03c9-45e8-86ab-af8123fe4f7b",
   "metadata": {},
   "outputs": [
    {
     "data": {
      "text/plain": [
       "3455"
      ]
     },
     "execution_count": 5,
     "metadata": {},
     "output_type": "execute_result"
    }
   ],
   "source": [
    "d3[1]"
   ]
  },
  {
   "cell_type": "code",
   "execution_count": 6,
   "id": "3906b751-5d3f-4299-83fb-1c267b64cd19",
   "metadata": {},
   "outputs": [],
   "source": [
    "# True = 1\n",
    "# we can access True value in dict with 1"
   ]
  },
  {
   "cell_type": "code",
   "execution_count": 10,
   "id": "a036b3ac-c4b3-49db-8766-995d89d32f21",
   "metadata": {},
   "outputs": [],
   "source": [
    "d4={\"name\":\"sudh\" , \"mail\":\"sudh@gmail.com\" , \"name\":\"sudhanshu\"}"
   ]
  },
  {
   "cell_type": "code",
   "execution_count": 11,
   "id": "e3f04ce4-c940-45a3-b59b-54c850d203c2",
   "metadata": {},
   "outputs": [
    {
     "data": {
      "text/plain": [
       "{'name': 'sudhanshu', 'mail': 'sudh@gmail.com'}"
      ]
     },
     "execution_count": 11,
     "metadata": {},
     "output_type": "execute_result"
    }
   ],
   "source": [
    "d4"
   ]
  },
  {
   "cell_type": "code",
   "execution_count": 12,
   "id": "27575583-30dc-4ff9-b4e0-544f40d8da8b",
   "metadata": {},
   "outputs": [
    {
     "data": {
      "text/plain": [
       "'sudhanshu'"
      ]
     },
     "execution_count": 12,
     "metadata": {},
     "output_type": "execute_result"
    }
   ],
   "source": [
    "d4[\"name\"]"
   ]
  },
  {
   "cell_type": "markdown",
   "id": "99caea1e-eb49-4c22-b6b4-88e8f82b93a8",
   "metadata": {},
   "source": [
    "#### key should always be unique\n",
    "#### if key is not unique, it will be overright by new value\n"
   ]
  },
  {
   "cell_type": "code",
   "execution_count": 16,
   "id": "e8dad4f2-1dfb-4cb4-8587-ad9dcbd1784f",
   "metadata": {},
   "outputs": [],
   "source": [
    "# keeping list as value \n",
    "d5={\"company\":\"pwskills\",\"course\":[\"ml\",\"ai\",\"webdev\",\"frontend\",\"ui/ux\"]}"
   ]
  },
  {
   "cell_type": "code",
   "execution_count": 17,
   "id": "d34afa51-d725-4bb2-9090-9595c68b3127",
   "metadata": {},
   "outputs": [
    {
     "data": {
      "text/plain": [
       "{'company': 'pwskills', 'course': ['ml', 'ai', 'webdev', 'frontend', 'ui/ux']}"
      ]
     },
     "execution_count": 17,
     "metadata": {},
     "output_type": "execute_result"
    }
   ],
   "source": [
    "d5"
   ]
  },
  {
   "cell_type": "code",
   "execution_count": 18,
   "id": "28aae648-fdac-4b2c-87de-3312dde33e2a",
   "metadata": {},
   "outputs": [
    {
     "data": {
      "text/plain": [
       "['ml', 'ai', 'webdev', 'frontend', 'ui/ux']"
      ]
     },
     "execution_count": 18,
     "metadata": {},
     "output_type": "execute_result"
    }
   ],
   "source": [
    "d5['course']"
   ]
  },
  {
   "cell_type": "code",
   "execution_count": 21,
   "id": "92953d1e-a656-4368-ad09-2fe0316ba28e",
   "metadata": {},
   "outputs": [
    {
     "data": {
      "text/plain": [
       "'webdev'"
      ]
     },
     "execution_count": 21,
     "metadata": {},
     "output_type": "execute_result"
    }
   ],
   "source": [
    "d5['course'][2]"
   ]
  },
  {
   "cell_type": "code",
   "execution_count": 5,
   "id": "8018a31a-8c69-4f53-8db7-aa2b0eaf4240",
   "metadata": {},
   "outputs": [],
   "source": [
    "d6={\n",
    "    # list input\n",
    "    \"number\":[1,2,3,4,5],\n",
    "    # tuple input\n",
    "    \"assignment\":(1,2,3,4,5,6),\n",
    "    # set input\n",
    "    \"luanch_date\":{1,2,3,4},\n",
    "    # dict input\n",
    "    \"class_time\":{\"web_dev\":8,\"java\":9,\"data_sci\":10}\n",
    "}"
   ]
  },
  {
   "cell_type": "code",
   "execution_count": 6,
   "id": "8d32702c-465b-4e40-a23b-d993640dad83",
   "metadata": {},
   "outputs": [
    {
     "data": {
      "text/plain": [
       "{'number': [1, 2, 3, 4, 5],\n",
       " 'assignment': (1, 2, 3, 4, 5, 6),\n",
       " 'luanch_date': {1, 2, 3, 4},\n",
       " 'class_time': {'web_dev': 8, 'java': 9, 'data_sci': 10}}"
      ]
     },
     "execution_count": 6,
     "metadata": {},
     "output_type": "execute_result"
    }
   ],
   "source": [
    "d6"
   ]
  },
  {
   "cell_type": "markdown",
   "id": "f5c6d9ea-96a6-4d78-95b6-9f46ff7548cc",
   "metadata": {},
   "source": [
    "##### number -->list input \n",
    "##### assignment-->tuple input\n",
    "##### launch_date-->set input\n",
    "##### class_time-->dict input"
   ]
  },
  {
   "cell_type": "code",
   "execution_count": 7,
   "id": "714571bb-6c6c-4705-9c06-26b0ac48d09e",
   "metadata": {},
   "outputs": [
    {
     "data": {
      "text/plain": [
       "9"
      ]
     },
     "execution_count": 7,
     "metadata": {},
     "output_type": "execute_result"
    }
   ],
   "source": [
    "d6[\"class_time\"][\"java\"]"
   ]
  },
  {
   "cell_type": "markdown",
   "id": "6d07d42f-1dd7-4e24-897f-c05a209de38b",
   "metadata": {},
   "source": [
    "##### adding a new key in dictinary d6"
   ]
  },
  {
   "cell_type": "code",
   "execution_count": 6,
   "id": "df9a25ae-4f5c-4ae0-901f-4245228bca48",
   "metadata": {},
   "outputs": [],
   "source": [
    "# mentor is a key with list data type value\n",
    "d6['mentor']=['sudanshu','krish','anurag','hayder']"
   ]
  },
  {
   "cell_type": "code",
   "execution_count": 34,
   "id": "85cbd482-62e8-4f44-9024-ddd88cdba6be",
   "metadata": {},
   "outputs": [
    {
     "data": {
      "text/plain": [
       "{'number': [1, 2, 3, 4, 5],\n",
       " 'assignment': (1, 2, 3, 4, 5, 6),\n",
       " 'luanch_date': {1, 2, 3, 4},\n",
       " 'class_time': {'web_dev': 8, 'java': 9, 'data_sci': 10},\n",
       " 'mentor': ['sudanshu', 'krish', 'anurag', 'hayder']}"
      ]
     },
     "execution_count": 34,
     "metadata": {},
     "output_type": "execute_result"
    }
   ],
   "source": [
    "d6"
   ]
  },
  {
   "cell_type": "code",
   "execution_count": 36,
   "id": "e48df71d-b702-4b18-aaca-cb598ad01256",
   "metadata": {},
   "outputs": [],
   "source": [
    "# jai sia ram\n",
    "# jai bajrang bali\n",
    "# har har mahadev"
   ]
  },
  {
   "cell_type": "markdown",
   "id": "03f42c34-32b1-4b51-b545-8f1aaf0d5814",
   "metadata": {},
   "source": [
    "# delete a key from dict"
   ]
  },
  {
   "cell_type": "code",
   "execution_count": 37,
   "id": "aa690a5f-cb76-45ed-a63f-966c5a85d497",
   "metadata": {},
   "outputs": [],
   "source": [
    "del d6['number']"
   ]
  },
  {
   "cell_type": "code",
   "execution_count": 8,
   "id": "21284986-29e6-4271-9915-55d6cfff1672",
   "metadata": {},
   "outputs": [
    {
     "data": {
      "text/plain": [
       "{'number': [1, 2, 3, 4, 5],\n",
       " 'assignment': (1, 2, 3, 4, 5, 6),\n",
       " 'luanch_date': {1, 2, 3, 4},\n",
       " 'class_time': {'web_dev': 8, 'java': 9, 'data_sci': 10}}"
      ]
     },
     "execution_count": 8,
     "metadata": {},
     "output_type": "execute_result"
    }
   ],
   "source": [
    "d6"
   ]
  },
  {
   "cell_type": "markdown",
   "id": "10583703-280a-4a91-ad7d-4a3419cc6ff4",
   "metadata": {},
   "source": [
    "#### finding all keys in a dict"
   ]
  },
  {
   "cell_type": "code",
   "execution_count": 39,
   "id": "f8f011d4-05d2-4bd9-9b66-51dcb053d76d",
   "metadata": {},
   "outputs": [
    {
     "data": {
      "text/plain": [
       "dict_keys(['assignment', 'luanch_date', 'class_time', 'mentor'])"
      ]
     },
     "execution_count": 39,
     "metadata": {},
     "output_type": "execute_result"
    }
   ],
   "source": [
    "d6.keys()"
   ]
  },
  {
   "cell_type": "code",
   "execution_count": 40,
   "id": "3aad9c05-6a98-477c-85ff-b2776121d166",
   "metadata": {},
   "outputs": [
    {
     "data": {
      "text/plain": [
       "['assignment', 'luanch_date', 'class_time', 'mentor']"
      ]
     },
     "execution_count": 40,
     "metadata": {},
     "output_type": "execute_result"
    }
   ],
   "source": [
    "list(d6.keys())"
   ]
  },
  {
   "cell_type": "markdown",
   "id": "8b363aba-3ac1-4261-9caf-d745b36e9627",
   "metadata": {},
   "source": [
    "#### finding all values"
   ]
  },
  {
   "cell_type": "code",
   "execution_count": 41,
   "id": "faf67879-0b20-48d8-8336-473bfa986668",
   "metadata": {},
   "outputs": [
    {
     "data": {
      "text/plain": [
       "[(1, 2, 3, 4, 5, 6),\n",
       " {1, 2, 3, 4},\n",
       " {'web_dev': 8, 'java': 9, 'data_sci': 10},\n",
       " ['sudanshu', 'krish', 'anurag', 'hayder']]"
      ]
     },
     "execution_count": 41,
     "metadata": {},
     "output_type": "execute_result"
    }
   ],
   "source": [
    "list(d6.values())"
   ]
  },
  {
   "cell_type": "code",
   "execution_count": 8,
   "id": "c1825f0a-ff66-4f17-9a97-004fca49c283",
   "metadata": {},
   "outputs": [
    {
     "data": {
      "text/plain": [
       "[('number', [1, 2, 3, 4, 5]),\n",
       " ('assignment', (1, 2, 3, 4, 5, 6)),\n",
       " ('luanch_date', {1, 2, 3, 4}),\n",
       " ('class_time', {'web_dev': 8, 'java': 9, 'data_sci': 10}),\n",
       " ('mentor', ['sudanshu', 'krish', 'anurag', 'hayder'])]"
      ]
     },
     "execution_count": 8,
     "metadata": {},
     "output_type": "execute_result"
    }
   ],
   "source": [
    "list(d6.items())"
   ]
  },
  {
   "cell_type": "code",
   "execution_count": 9,
   "id": "1defdc0c-cb49-4c6d-b1f1-1349e2014fb4",
   "metadata": {},
   "outputs": [
    {
     "data": {
      "text/plain": [
       "(1, 2, 3, 4, 5, 6)"
      ]
     },
     "execution_count": 9,
     "metadata": {},
     "output_type": "execute_result"
    }
   ],
   "source": [
    "d6.pop(\"assignment\")"
   ]
  },
  {
   "cell_type": "code",
   "execution_count": 10,
   "id": "5409f30f-9591-423c-8ab7-be65e29e899f",
   "metadata": {},
   "outputs": [
    {
     "data": {
      "text/plain": [
       "{'number': [1, 2, 3, 4, 5],\n",
       " 'luanch_date': {1, 2, 3, 4},\n",
       " 'class_time': {'web_dev': 8, 'java': 9, 'data_sci': 10}}"
      ]
     },
     "execution_count": 10,
     "metadata": {},
     "output_type": "execute_result"
    }
   ],
   "source": [
    "d6"
   ]
  },
  {
   "cell_type": "markdown",
   "id": "9415d4cf-d88f-4763-8ff5-f7f01e76aa08",
   "metadata": {},
   "source": [
    "# conditons"
   ]
  },
  {
   "cell_type": "code",
   "execution_count": 11,
   "id": "b9d5fd8d-c59c-44c4-aae8-5ab3bb094435",
   "metadata": {},
   "outputs": [
    {
     "name": "stdout",
     "output_type": "stream",
     "text": [
      "you will be part of a1 batch\n"
     ]
    }
   ],
   "source": [
    "marks=69\n",
    "if marks>=80:\n",
    "    print(\"you will be part of a0 batch\")\n",
    "elif marks>=60 and marks<80:\n",
    "    print(\"you will be part of a1 batch\")\n",
    "elif marks>=40 and marks<60:\n",
    "    print(\"you will be part of a2 batch\")\n",
    "else:\n",
    "    print(\"you will be part of a3 batch\")"
   ]
  },
  {
   "cell_type": "code",
   "execution_count": 1,
   "id": "d4febdcd-6dad-43d2-b324-06ba7dd38dc3",
   "metadata": {},
   "outputs": [
    {
     "data": {
      "text/plain": [
       "False"
      ]
     },
     "execution_count": 1,
     "metadata": {},
     "output_type": "execute_result"
    }
   ],
   "source": [
    "10>=100"
   ]
  },
  {
   "cell_type": "code",
   "execution_count": 2,
   "id": "a55e28ad-6a09-4481-83e8-7d0db31e20da",
   "metadata": {},
   "outputs": [],
   "source": [
    "# taking input from user"
   ]
  },
  {
   "cell_type": "markdown",
   "id": "ba35ebd7-6762-4bc3-86b0-a4b91944f506",
   "metadata": {},
   "source": [
    "marks=int(input(\"enter marks\"))\n",
    "if marks>=80:\n",
    "    print(\"you will be part of a0 batch\")\n",
    "elif marks>=60 and marks<80:\n",
    "    print(\"you will be part of a1 batch\")\n",
    "elif marks>=40 and marks<60:\n",
    "    print(\"you will be part of a2 batch\")\n",
    "else:\n",
    "    print(\"you will be part of a3 batch\")"
   ]
  },
  {
   "cell_type": "code",
   "execution_count": 4,
   "id": "5940c92c-0b23-434d-90ee-6901cbef2bb0",
   "metadata": {},
   "outputs": [
    {
     "data": {
      "text/plain": [
       "int"
      ]
     },
     "execution_count": 4,
     "metadata": {},
     "output_type": "execute_result"
    }
   ],
   "source": [
    "type(marks)"
   ]
  },
  {
   "cell_type": "code",
   "execution_count": 5,
   "id": "b52e50d9-f9dc-4270-855e-34f3fbbd2748",
   "metadata": {},
   "outputs": [
    {
     "name": "stdin",
     "output_type": "stream",
     "text": [
      "enter marks 69.69\n"
     ]
    },
    {
     "name": "stdout",
     "output_type": "stream",
     "text": [
      "you will be part of a1 batch\n"
     ]
    }
   ],
   "source": [
    "marks=float(input(\"enter marks\"))\n",
    "if marks>=80:\n",
    "    print(\"you will be part of a0 batch\")\n",
    "elif marks>=60 and marks<80:\n",
    "    print(\"you will be part of a1 batch\")\n",
    "elif marks>=40 and marks<60:\n",
    "    print(\"you will be part of a2 batch\")\n",
    "else:\n",
    "    print(\"you will be part of a3 batch\")"
   ]
  },
  {
   "cell_type": "code",
   "execution_count": 6,
   "id": "897b95ac-8736-4f24-9346-4e26d36889a1",
   "metadata": {},
   "outputs": [
    {
     "data": {
      "text/plain": [
       "float"
      ]
     },
     "execution_count": 6,
     "metadata": {},
     "output_type": "execute_result"
    }
   ],
   "source": [
    "type(marks)"
   ]
  },
  {
   "cell_type": "code",
   "execution_count": 7,
   "id": "277207fc-9a2a-4425-9206-5acfdc3a0637",
   "metadata": {},
   "outputs": [
    {
     "data": {
      "text/plain": [
       "69.69"
      ]
     },
     "execution_count": 7,
     "metadata": {},
     "output_type": "execute_result"
    }
   ],
   "source": [
    "marks"
   ]
  },
  {
   "cell_type": "code",
   "execution_count": 8,
   "id": "12a82430-22f6-4e2e-aeb7-68e5a8355ddf",
   "metadata": {},
   "outputs": [
    {
     "name": "stdin",
     "output_type": "stream",
     "text": [
      " 50000\n"
     ]
    },
    {
     "name": "stdout",
     "output_type": "stream",
     "text": [
      "i will purchase\n"
     ]
    }
   ],
   "source": [
    "price=int(input())\n",
    "if price>1000:\n",
    "    print(\"i will purchase\")\n",
    "else:\n",
    "    print(\"i will not purchase\")"
   ]
  },
  {
   "cell_type": "code",
   "execution_count": 10,
   "id": "e209b718-0be8-4e42-8dcf-54e7615e2583",
   "metadata": {},
   "outputs": [
    {
     "name": "stdin",
     "output_type": "stream",
     "text": [
      "enter price:  4000\n"
     ]
    },
    {
     "name": "stdout",
     "output_type": "stream",
     "text": [
      "i will purchase\n",
      "okayy price\n"
     ]
    }
   ],
   "source": [
    "price=int(input(\"enter price: \"))\n",
    "if price>1000:\n",
    "    print(\"i will purchase\")\n",
    "    if price>5000:\n",
    "        print(\"price is very much\")\n",
    "    elif price>2000:\n",
    "        print(\"okayy price\")\n",
    "else:\n",
    "    print(\"i will not purchase\")"
   ]
  },
  {
   "cell_type": "markdown",
   "id": "5b2c8891-8a11-4181-856a-3032b4ac690f",
   "metadata": {},
   "source": [
    "# LOOPS"
   ]
  },
  {
   "cell_type": "markdown",
   "id": "0bb8b0b8-259a-4023-b806-82e6241f509b",
   "metadata": {},
   "source": [
    "#### copy one list elements to other"
   ]
  },
  {
   "cell_type": "code",
   "execution_count": 17,
   "id": "a4b28598-5aa0-40ed-bffa-7075c19a9981",
   "metadata": {
    "tags": []
   },
   "outputs": [
    {
     "name": "stdout",
     "output_type": "stream",
     "text": [
      "1\n",
      "2\n",
      "3\n",
      "4\n",
      "5\n",
      "6\n",
      "[1, 2, 3, 4, 5, 6]\n"
     ]
    }
   ],
   "source": [
    "\n",
    "l=[1,2,3,4,5,6]\n",
    "l1=[]\n",
    "for i in l:\n",
    "    print(i)\n",
    "    l1.append(i)\n",
    "print(l1)"
   ]
  },
  {
   "cell_type": "code",
   "execution_count": 18,
   "id": "0f7ea6da-3ce2-4078-a02e-6555366c0126",
   "metadata": {},
   "outputs": [],
   "source": [
    "l=['sudh','kumar','pwskills','course']"
   ]
  },
  {
   "cell_type": "markdown",
   "id": "6e07840c-2970-42d7-b376-c727c634fad5",
   "metadata": {},
   "source": [
    "#### convert to upper case string"
   ]
  },
  {
   "cell_type": "code",
   "execution_count": 21,
   "id": "5685591b-b519-4bfe-94fa-5581716199a0",
   "metadata": {},
   "outputs": [
    {
     "name": "stdout",
     "output_type": "stream",
     "text": [
      "sudh\n",
      "kumar\n",
      "pwskills\n",
      "course\n",
      "['SUDH', 'KUMAR', 'PWSKILLS', 'COURSE']\n"
     ]
    }
   ],
   "source": [
    "\n",
    "l1=[]\n",
    "for i in l:\n",
    "    print(i)\n",
    "    l1.append(i.upper())\n",
    "print(l1)"
   ]
  },
  {
   "cell_type": "code",
   "execution_count": 3,
   "id": "c94a3d06-ba8c-4563-a12b-8fb919bf1e06",
   "metadata": {},
   "outputs": [],
   "source": [
    "l=[1,2,3,4,4,'sudh','kumar',123,'abc']"
   ]
  },
  {
   "cell_type": "code",
   "execution_count": 4,
   "id": "cf9fc0e2-64dc-4688-8911-602360a4956e",
   "metadata": {},
   "outputs": [
    {
     "data": {
      "text/plain": [
       "[1, 2, 3, 4, 4, 'sudh', 'kumar', 123, 'abc']"
      ]
     },
     "execution_count": 4,
     "metadata": {},
     "output_type": "execute_result"
    }
   ],
   "source": [
    "l"
   ]
  },
  {
   "cell_type": "markdown",
   "id": "3c7f4915-6f5d-4279-b750-9b5cb6684b01",
   "metadata": {},
   "source": [
    "#### seperate integer and string in a list"
   ]
  },
  {
   "cell_type": "code",
   "execution_count": 5,
   "id": "9cea71fb-29b9-4531-9922-3c4f77e0bcb6",
   "metadata": {},
   "outputs": [],
   "source": [
    "l1_num=[]\n",
    "l2_str=[]\n",
    "for i in l:\n",
    "    if type(i) ==int or type(i)==float:\n",
    "        l1_num.append(i)\n",
    "    else:\n",
    "        l2_str.append(i)"
   ]
  },
  {
   "cell_type": "code",
   "execution_count": 7,
   "id": "8ac522dc-dc1b-40bc-90d1-9c6ee96c6385",
   "metadata": {},
   "outputs": [
    {
     "data": {
      "text/plain": [
       "[1, 2, 3, 4, 4, 123]"
      ]
     },
     "execution_count": 7,
     "metadata": {},
     "output_type": "execute_result"
    }
   ],
   "source": [
    "l1_num"
   ]
  },
  {
   "cell_type": "code",
   "execution_count": 8,
   "id": "cca91c93-e493-482f-b628-8aeb577fca05",
   "metadata": {},
   "outputs": [
    {
     "data": {
      "text/plain": [
       "['sudh', 'kumar', 'abc']"
      ]
     },
     "execution_count": 8,
     "metadata": {},
     "output_type": "execute_result"
    }
   ],
   "source": [
    "l2_str"
   ]
  },
  {
   "cell_type": "code",
   "execution_count": 9,
   "id": "9af3e9a2-d3a8-43a4-a808-f07fb6046443",
   "metadata": {},
   "outputs": [],
   "source": [
    "#-----------class work------------#"
   ]
  },
  {
   "cell_type": "code",
   "execution_count": null,
   "id": "9ecca01b-8cfb-4fee-9f79-e354c05708af",
   "metadata": {},
   "outputs": [],
   "source": []
  }
 ],
 "metadata": {
  "kernelspec": {
   "display_name": "Python 3 (ipykernel)",
   "language": "python",
   "name": "python3"
  },
  "language_info": {
   "codemirror_mode": {
    "name": "ipython",
    "version": 3
   },
   "file_extension": ".py",
   "mimetype": "text/x-python",
   "name": "python",
   "nbconvert_exporter": "python",
   "pygments_lexer": "ipython3",
   "version": "3.10.8"
  }
 },
 "nbformat": 4,
 "nbformat_minor": 5
}
