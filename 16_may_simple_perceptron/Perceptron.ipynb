{
 "cells": [
  {
   "cell_type": "code",
   "execution_count": 1,
   "id": "614dd455-bf20-4479-bb60-bb46401babe8",
   "metadata": {},
   "outputs": [],
   "source": [
    "import numpy as np\n",
    "import pandas as pd"
   ]
  },
  {
   "cell_type": "code",
   "execution_count": 40,
   "id": "19181eec-4e64-49f5-8d3c-8912ad39e6d8",
   "metadata": {},
   "outputs": [],
   "source": [
    "class perceptron:\n",
    "    def __init__(self,eta,epochs):\n",
    "        self.weights=np.random.rand(3) * 1e-4\n",
    "        print(f\"self.weights :{self.weights}\")\n",
    "        self.eta=eta\n",
    "        self.epochs=epochs\n",
    "        \n",
    "    def activationFunction(self,inputs,weights):\n",
    "        z=np.dot(inputs,weights)\n",
    "        return np.where(z>0,1,0)\n",
    "    \n",
    "    def fit(self,X,y):\n",
    "        self.X=X\n",
    "        self.y=y\n",
    "        \n",
    "        X_with_bias=np.c_[self.X,np.ones((len(self.X),1))]\n",
    "        print(f\"X_with_bias : \\n{X_with_bias}\")\n",
    "        \n",
    "        for epochs in range(self.epochs):\n",
    "            print(f\"for epoch: {epochs}\")\n",
    "            y_hat=self.activationFunction(X_with_bias,self.weights)\n",
    "            print(f\"predicted value: \\n {y_hat}\")\n",
    "            error=self.y - y_hat\n",
    "            print(f\"error: \\n {error}\")\n",
    "            self.weights= self.weights+self.eta*np.dot(X_with_bias.T,error)\n",
    "            print(f\"updated_weigths: \\n {self.weights}\")\n",
    "            \n",
    "    def predict(self,X):\n",
    "        X_with_bias=np.c_[X,np.ones((len(self.X),1))]\n",
    "        return self.activationFunction(X_with_bias,self.weights)\n",
    "        \n",
    "        \n",
    "                 "
   ]
  },
  {
   "cell_type": "markdown",
   "id": "3053cc49-379e-48d5-b409-9ce1fb02166d",
   "metadata": {},
   "source": [
    "AND OPERATION"
   ]
  },
  {
   "cell_type": "code",
   "execution_count": 37,
   "id": "bc041979-bd3b-4cbe-8bb2-3398f24cca81",
   "metadata": {},
   "outputs": [
    {
     "data": {
      "text/html": [
       "<div>\n",
       "<style scoped>\n",
       "    .dataframe tbody tr th:only-of-type {\n",
       "        vertical-align: middle;\n",
       "    }\n",
       "\n",
       "    .dataframe tbody tr th {\n",
       "        vertical-align: top;\n",
       "    }\n",
       "\n",
       "    .dataframe thead th {\n",
       "        text-align: right;\n",
       "    }\n",
       "</style>\n",
       "<table border=\"1\" class=\"dataframe\">\n",
       "  <thead>\n",
       "    <tr style=\"text-align: right;\">\n",
       "      <th></th>\n",
       "      <th>x1</th>\n",
       "      <th>x2</th>\n",
       "      <th>y</th>\n",
       "    </tr>\n",
       "  </thead>\n",
       "  <tbody>\n",
       "    <tr>\n",
       "      <th>0</th>\n",
       "      <td>1</td>\n",
       "      <td>0</td>\n",
       "      <td>0</td>\n",
       "    </tr>\n",
       "    <tr>\n",
       "      <th>1</th>\n",
       "      <td>0</td>\n",
       "      <td>0</td>\n",
       "      <td>0</td>\n",
       "    </tr>\n",
       "    <tr>\n",
       "      <th>2</th>\n",
       "      <td>1</td>\n",
       "      <td>1</td>\n",
       "      <td>1</td>\n",
       "    </tr>\n",
       "    <tr>\n",
       "      <th>3</th>\n",
       "      <td>0</td>\n",
       "      <td>1</td>\n",
       "      <td>0</td>\n",
       "    </tr>\n",
       "  </tbody>\n",
       "</table>\n",
       "</div>"
      ],
      "text/plain": [
       "   x1  x2  y\n",
       "0   1   0  0\n",
       "1   0   0  0\n",
       "2   1   1  1\n",
       "3   0   1  0"
      ]
     },
     "execution_count": 37,
     "metadata": {},
     "output_type": "execute_result"
    }
   ],
   "source": [
    "data={\"x1\":[1,0,1,0],\"x2\":[0,0,1,1],\"y\":[0,0,1,0]}\n",
    "AND=pd.DataFrame(data)\n",
    "AND"
   ]
  },
  {
   "cell_type": "code",
   "execution_count": 22,
   "id": "36f99724-d6d1-47d6-8660-25927e3ce787",
   "metadata": {},
   "outputs": [],
   "source": [
    "X=AND.drop(\"y\",axis=1)"
   ]
  },
  {
   "cell_type": "code",
   "execution_count": 23,
   "id": "5d29783d-0a36-4b57-8c2d-c0ac853cd9f3",
   "metadata": {},
   "outputs": [
    {
     "data": {
      "text/html": [
       "<div>\n",
       "<style scoped>\n",
       "    .dataframe tbody tr th:only-of-type {\n",
       "        vertical-align: middle;\n",
       "    }\n",
       "\n",
       "    .dataframe tbody tr th {\n",
       "        vertical-align: top;\n",
       "    }\n",
       "\n",
       "    .dataframe thead th {\n",
       "        text-align: right;\n",
       "    }\n",
       "</style>\n",
       "<table border=\"1\" class=\"dataframe\">\n",
       "  <thead>\n",
       "    <tr style=\"text-align: right;\">\n",
       "      <th></th>\n",
       "      <th>x1</th>\n",
       "      <th>x2</th>\n",
       "    </tr>\n",
       "  </thead>\n",
       "  <tbody>\n",
       "    <tr>\n",
       "      <th>0</th>\n",
       "      <td>1</td>\n",
       "      <td>0</td>\n",
       "    </tr>\n",
       "    <tr>\n",
       "      <th>1</th>\n",
       "      <td>0</td>\n",
       "      <td>0</td>\n",
       "    </tr>\n",
       "    <tr>\n",
       "      <th>2</th>\n",
       "      <td>1</td>\n",
       "      <td>1</td>\n",
       "    </tr>\n",
       "    <tr>\n",
       "      <th>3</th>\n",
       "      <td>0</td>\n",
       "      <td>1</td>\n",
       "    </tr>\n",
       "  </tbody>\n",
       "</table>\n",
       "</div>"
      ],
      "text/plain": [
       "   x1  x2\n",
       "0   1   0\n",
       "1   0   0\n",
       "2   1   1\n",
       "3   0   1"
      ]
     },
     "execution_count": 23,
     "metadata": {},
     "output_type": "execute_result"
    }
   ],
   "source": [
    "X"
   ]
  },
  {
   "cell_type": "code",
   "execution_count": 25,
   "id": "4ca0161a-ed78-4e13-a284-38c80cddcda2",
   "metadata": {},
   "outputs": [
    {
     "data": {
      "text/html": [
       "<div>\n",
       "<style scoped>\n",
       "    .dataframe tbody tr th:only-of-type {\n",
       "        vertical-align: middle;\n",
       "    }\n",
       "\n",
       "    .dataframe tbody tr th {\n",
       "        vertical-align: top;\n",
       "    }\n",
       "\n",
       "    .dataframe thead th {\n",
       "        text-align: right;\n",
       "    }\n",
       "</style>\n",
       "<table border=\"1\" class=\"dataframe\">\n",
       "  <thead>\n",
       "    <tr style=\"text-align: right;\">\n",
       "      <th></th>\n",
       "      <th>y</th>\n",
       "    </tr>\n",
       "  </thead>\n",
       "  <tbody>\n",
       "    <tr>\n",
       "      <th>0</th>\n",
       "      <td>0</td>\n",
       "    </tr>\n",
       "    <tr>\n",
       "      <th>1</th>\n",
       "      <td>0</td>\n",
       "    </tr>\n",
       "    <tr>\n",
       "      <th>2</th>\n",
       "      <td>1</td>\n",
       "    </tr>\n",
       "    <tr>\n",
       "      <th>3</th>\n",
       "      <td>0</td>\n",
       "    </tr>\n",
       "  </tbody>\n",
       "</table>\n",
       "</div>"
      ],
      "text/plain": [
       "   y\n",
       "0  0\n",
       "1  0\n",
       "2  1\n",
       "3  0"
      ]
     },
     "execution_count": 25,
     "metadata": {},
     "output_type": "execute_result"
    }
   ],
   "source": [
    "y=AND[\"y\"]\n",
    "y.to_frame()"
   ]
  },
  {
   "cell_type": "code",
   "execution_count": 41,
   "id": "6de6886d-5cad-4332-abd7-e30bc3466dfc",
   "metadata": {},
   "outputs": [
    {
     "name": "stdout",
     "output_type": "stream",
     "text": [
      "self.weights :[7.95752269e-05 9.43292172e-05 9.42070534e-05]\n",
      "X_with_bias : \n",
      "[[1. 0. 1.]\n",
      " [0. 0. 1.]\n",
      " [1. 1. 1.]\n",
      " [0. 1. 1.]]\n",
      "for epoch: 0\n",
      "predicted value: \n",
      " [1 1 1 1]\n",
      "error: \n",
      " 0   -1\n",
      "1   -1\n",
      "2    0\n",
      "3   -1\n",
      "Name: y, dtype: int64\n",
      "updated_weigths: \n",
      " [-0.49992042 -0.49990567 -1.49990579]\n",
      "for epoch: 1\n",
      "predicted value: \n",
      " [0 0 0 0]\n",
      "error: \n",
      " 0    0\n",
      "1    0\n",
      "2    1\n",
      "3    0\n",
      "Name: y, dtype: int64\n",
      "updated_weigths: \n",
      " [ 7.95752269e-05  9.43292172e-05 -9.99905793e-01]\n",
      "for epoch: 2\n",
      "predicted value: \n",
      " [0 0 0 0]\n",
      "error: \n",
      " 0    0\n",
      "1    0\n",
      "2    1\n",
      "3    0\n",
      "Name: y, dtype: int64\n",
      "updated_weigths: \n",
      " [ 0.50007958  0.50009433 -0.49990579]\n",
      "for epoch: 3\n",
      "predicted value: \n",
      " [1 0 1 1]\n",
      "error: \n",
      " 0   -1\n",
      "1    0\n",
      "2    0\n",
      "3   -1\n",
      "Name: y, dtype: int64\n",
      "updated_weigths: \n",
      " [ 7.95752269e-05  9.43292172e-05 -1.49990579e+00]\n",
      "for epoch: 4\n",
      "predicted value: \n",
      " [0 0 0 0]\n",
      "error: \n",
      " 0    0\n",
      "1    0\n",
      "2    1\n",
      "3    0\n",
      "Name: y, dtype: int64\n",
      "updated_weigths: \n",
      " [ 0.50007958  0.50009433 -0.99990579]\n"
     ]
    }
   ],
   "source": [
    "model=perceptron(eta=0.5,epochs=5)\n",
    "model.fit(X,y)"
   ]
  },
  {
   "cell_type": "code",
   "execution_count": 42,
   "id": "f945bd3c-5ccb-49ff-9600-0f383ea8677e",
   "metadata": {},
   "outputs": [
    {
     "data": {
      "text/plain": [
       "array([0, 0, 1, 0])"
      ]
     },
     "execution_count": 42,
     "metadata": {},
     "output_type": "execute_result"
    }
   ],
   "source": [
    "model.predict(X)"
   ]
  },
  {
   "cell_type": "code",
   "execution_count": null,
   "id": "a583b09a-f2e8-4eac-b134-719465e367a7",
   "metadata": {},
   "outputs": [],
   "source": []
  }
 ],
 "metadata": {
  "kernelspec": {
   "display_name": "Python 3 (ipykernel)",
   "language": "python",
   "name": "python3"
  },
  "language_info": {
   "codemirror_mode": {
    "name": "ipython",
    "version": 3
   },
   "file_extension": ".py",
   "mimetype": "text/x-python",
   "name": "python",
   "nbconvert_exporter": "python",
   "pygments_lexer": "ipython3",
   "version": "3.10.8"
  }
 },
 "nbformat": 4,
 "nbformat_minor": 5
}
