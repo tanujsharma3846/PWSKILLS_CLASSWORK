{
 "cells": [
  {
   "cell_type": "markdown",
   "id": "6448a9d5-6281-45e2-90d5-da378100bbbd",
   "metadata": {},
   "source": [
    "# generator funcion"
   ]
  },
  {
   "cell_type": "code",
   "execution_count": 1,
   "id": "d01ecb0b-b36a-4755-8e48-94cb5e8cd5b3",
   "metadata": {},
   "outputs": [
    {
     "data": {
      "text/plain": [
       "range(1, 10)"
      ]
     },
     "execution_count": 1,
     "metadata": {},
     "output_type": "execute_result"
    }
   ],
   "source": [
    "range(1,10)"
   ]
  },
  {
   "cell_type": "code",
   "execution_count": 2,
   "id": "c1840783-6978-4586-8804-dbb940ca17f3",
   "metadata": {},
   "outputs": [
    {
     "name": "stdout",
     "output_type": "stream",
     "text": [
      "0\n",
      "1\n",
      "2\n",
      "3\n",
      "4\n",
      "5\n",
      "6\n",
      "7\n",
      "8\n",
      "9\n"
     ]
    }
   ],
   "source": [
    "for i in range(10):\n",
    "    print(i)"
   ]
  },
  {
   "cell_type": "code",
   "execution_count": 3,
   "id": "bc05acbf-20e4-4240-8942-24fa5455f0e8",
   "metadata": {},
   "outputs": [],
   "source": [
    "def test_fib(n):\n",
    "    a,b,=0,1\n",
    "    for i in range(n):\n",
    "        yield a\n",
    "        a,b =b,a+b"
   ]
  },
  {
   "cell_type": "code",
   "execution_count": 4,
   "id": "ef569f01-4ec5-48e4-b0c2-c85f5ed4a27c",
   "metadata": {},
   "outputs": [
    {
     "data": {
      "text/plain": [
       "<generator object test_fib at 0x7efeebf55850>"
      ]
     },
     "execution_count": 4,
     "metadata": {},
     "output_type": "execute_result"
    }
   ],
   "source": [
    "test_fib(10)"
   ]
  },
  {
   "cell_type": "code",
   "execution_count": 6,
   "id": "c7e9c557-0dd8-41d0-971a-25dfbd1f804b",
   "metadata": {},
   "outputs": [
    {
     "name": "stdout",
     "output_type": "stream",
     "text": [
      "0\n",
      "1\n",
      "1\n",
      "2\n",
      "3\n",
      "5\n",
      "8\n",
      "13\n",
      "21\n",
      "34\n"
     ]
    }
   ],
   "source": [
    "for i in test_fib(10):\n",
    "    print(i)"
   ]
  },
  {
   "cell_type": "code",
   "execution_count": 11,
   "id": "ca7495d9-efb8-4c6a-94fa-a798d3c1013d",
   "metadata": {},
   "outputs": [],
   "source": [
    "def test_fib1():\n",
    "    a,b,=0,1\n",
    "    while True:\n",
    "        yield a\n",
    "        a,b =b,a+b"
   ]
  },
  {
   "cell_type": "code",
   "execution_count": 12,
   "id": "9012156b-da44-4db4-a43e-5784d68d626c",
   "metadata": {},
   "outputs": [],
   "source": [
    "fib=test_fib1()"
   ]
  },
  {
   "cell_type": "code",
   "execution_count": 29,
   "id": "c563f8f5-c3eb-484e-a46a-cdc144a47f26",
   "metadata": {},
   "outputs": [
    {
     "data": {
      "text/plain": [
       "generator"
      ]
     },
     "execution_count": 29,
     "metadata": {},
     "output_type": "execute_result"
    }
   ],
   "source": [
    "type(fib)"
   ]
  },
  {
   "cell_type": "code",
   "execution_count": 13,
   "id": "0c389404-e1b5-4458-98c9-e7c0a0ebc54b",
   "metadata": {},
   "outputs": [
    {
     "name": "stdout",
     "output_type": "stream",
     "text": [
      "0\n",
      "1\n",
      "1\n",
      "2\n",
      "3\n",
      "5\n",
      "8\n",
      "13\n",
      "21\n",
      "34\n"
     ]
    }
   ],
   "source": [
    "for i in range(10):\n",
    "    print(next(fib))"
   ]
  },
  {
   "cell_type": "code",
   "execution_count": 14,
   "id": "a4b95878-f519-4dfb-9773-90ff5f7fff88",
   "metadata": {},
   "outputs": [],
   "source": [
    "s=\"sudh\""
   ]
  },
  {
   "cell_type": "code",
   "execution_count": 16,
   "id": "2e71a8a3-582c-44b7-80c8-2d2955814706",
   "metadata": {},
   "outputs": [
    {
     "name": "stdout",
     "output_type": "stream",
     "text": [
      "s\n",
      "u\n",
      "d\n",
      "h\n"
     ]
    }
   ],
   "source": [
    "for i in s:\n",
    "    print(i)"
   ]
  },
  {
   "cell_type": "code",
   "execution_count": 17,
   "id": "a4d00f4a-d21f-4eb4-b668-ba9cec74e35f",
   "metadata": {},
   "outputs": [
    {
     "data": {
      "text/plain": [
       "'sudh'"
      ]
     },
     "execution_count": 17,
     "metadata": {},
     "output_type": "execute_result"
    }
   ],
   "source": [
    "s"
   ]
  },
  {
   "cell_type": "code",
   "execution_count": 18,
   "id": "68afbaac-e096-448e-b91b-b1800bd92aa1",
   "metadata": {},
   "outputs": [
    {
     "ename": "TypeError",
     "evalue": "'str' object is not an iterator",
     "output_type": "error",
     "traceback": [
      "\u001b[0;31m---------------------------------------------------------------------------\u001b[0m",
      "\u001b[0;31mTypeError\u001b[0m                                 Traceback (most recent call last)",
      "Cell \u001b[0;32mIn[18], line 1\u001b[0m\n\u001b[0;32m----> 1\u001b[0m \u001b[38;5;28;43mnext\u001b[39;49m\u001b[43m(\u001b[49m\u001b[43ms\u001b[49m\u001b[43m)\u001b[49m\n",
      "\u001b[0;31mTypeError\u001b[0m: 'str' object is not an iterator"
     ]
    }
   ],
   "source": [
    "next(s)"
   ]
  },
  {
   "cell_type": "code",
   "execution_count": 19,
   "id": "094e1977-db83-4ced-aa95-9285afd3fa98",
   "metadata": {},
   "outputs": [],
   "source": [
    "s1=iter(s)"
   ]
  },
  {
   "cell_type": "code",
   "execution_count": 24,
   "id": "045a1b82-a005-43c0-bc95-ce74fe7e37ba",
   "metadata": {},
   "outputs": [
    {
     "data": {
      "text/plain": [
       "str_iterator"
      ]
     },
     "execution_count": 24,
     "metadata": {},
     "output_type": "execute_result"
    }
   ],
   "source": [
    "type(s1)"
   ]
  },
  {
   "cell_type": "code",
   "execution_count": 20,
   "id": "251c1ba1-2835-400e-8c4e-7abce4c91e13",
   "metadata": {},
   "outputs": [
    {
     "data": {
      "text/plain": [
       "'s'"
      ]
     },
     "execution_count": 20,
     "metadata": {},
     "output_type": "execute_result"
    }
   ],
   "source": [
    "next(s1)"
   ]
  },
  {
   "cell_type": "code",
   "execution_count": 21,
   "id": "e7f0afd2-c972-4e68-a08b-228ca30671af",
   "metadata": {},
   "outputs": [
    {
     "data": {
      "text/plain": [
       "'u'"
      ]
     },
     "execution_count": 21,
     "metadata": {},
     "output_type": "execute_result"
    }
   ],
   "source": [
    "next(s1)"
   ]
  },
  {
   "cell_type": "code",
   "execution_count": 22,
   "id": "a7404a0c-1be5-4077-af2a-1045e2e752b7",
   "metadata": {},
   "outputs": [
    {
     "data": {
      "text/plain": [
       "'d'"
      ]
     },
     "execution_count": 22,
     "metadata": {},
     "output_type": "execute_result"
    }
   ],
   "source": [
    "next(s1)"
   ]
  },
  {
   "cell_type": "code",
   "execution_count": 23,
   "id": "e014f5ab-124b-4022-b275-0c6e598c3782",
   "metadata": {},
   "outputs": [
    {
     "data": {
      "text/plain": [
       "'h'"
      ]
     },
     "execution_count": 23,
     "metadata": {},
     "output_type": "execute_result"
    }
   ],
   "source": [
    "next(s1)"
   ]
  },
  {
   "cell_type": "code",
   "execution_count": 25,
   "id": "f2f8db71-be8c-44b7-a813-c57751720d80",
   "metadata": {},
   "outputs": [
    {
     "ename": "TypeError",
     "evalue": "'int' object is not an iterator",
     "output_type": "error",
     "traceback": [
      "\u001b[0;31m---------------------------------------------------------------------------\u001b[0m",
      "\u001b[0;31mTypeError\u001b[0m                                 Traceback (most recent call last)",
      "Cell \u001b[0;32mIn[25], line 1\u001b[0m\n\u001b[0;32m----> 1\u001b[0m \u001b[38;5;28;43mnext\u001b[39;49m\u001b[43m(\u001b[49m\u001b[38;5;241;43m45\u001b[39;49m\u001b[43m)\u001b[49m\n",
      "\u001b[0;31mTypeError\u001b[0m: 'int' object is not an iterator"
     ]
    }
   ],
   "source": [
    "next(45)"
   ]
  },
  {
   "cell_type": "code",
   "execution_count": 26,
   "id": "feb005f0-a766-4fcf-9212-cd1e14ff608a",
   "metadata": {},
   "outputs": [
    {
     "ename": "TypeError",
     "evalue": "'int' object is not iterable",
     "output_type": "error",
     "traceback": [
      "\u001b[0;31m---------------------------------------------------------------------------\u001b[0m",
      "\u001b[0;31mTypeError\u001b[0m                                 Traceback (most recent call last)",
      "Cell \u001b[0;32mIn[26], line 1\u001b[0m\n\u001b[0;32m----> 1\u001b[0m \u001b[38;5;28;43miter\u001b[39;49m\u001b[43m(\u001b[49m\u001b[38;5;241;43m45\u001b[39;49m\u001b[43m)\u001b[49m\n",
      "\u001b[0;31mTypeError\u001b[0m: 'int' object is not iterable"
     ]
    }
   ],
   "source": [
    "iter(45)"
   ]
  },
  {
   "cell_type": "code",
   "execution_count": 27,
   "id": "4c46f4da-1247-4b93-9593-a2dbfeca55aa",
   "metadata": {},
   "outputs": [],
   "source": [
    "# only string can be converted to iterable\n",
    "# integer,float,double can not be iterated"
   ]
  },
  {
   "cell_type": "code",
   "execution_count": 28,
   "id": "bc774438-ba26-4476-b5eb-b4053013dcab",
   "metadata": {},
   "outputs": [],
   "source": [
    "# iterator -->object/data jiske ek-ek element ko seperate kiya ja sake"
   ]
  },
  {
   "cell_type": "code",
   "execution_count": 30,
   "id": "bdebbcb6-944c-4b27-b062-ca4ef8b7573a",
   "metadata": {},
   "outputs": [],
   "source": [
    "# generator function --> jo  generate karte jayega ,ek ek karkek data dete jayega"
   ]
  },
  {
   "cell_type": "code",
   "execution_count": 31,
   "id": "b33202b2-e88e-4324-9fec-63ef3d7b8668",
   "metadata": {},
   "outputs": [],
   "source": [
    "# iterable-->which can be converted to interator"
   ]
  },
  {
   "cell_type": "code",
   "execution_count": 32,
   "id": "955b7287-eca9-4f26-9100-5bfff3edcbfd",
   "metadata": {},
   "outputs": [],
   "source": [
    "def count_test(n):\n",
    "    count=1\n",
    "    while count<n:\n",
    "        yield count\n",
    "        count=count+1"
   ]
  },
  {
   "cell_type": "code",
   "execution_count": 33,
   "id": "4211ad4e-9a8f-4df7-8d94-e3bdd69c592d",
   "metadata": {},
   "outputs": [],
   "source": [
    "# creating object\n",
    "c=count_test(5)"
   ]
  },
  {
   "cell_type": "code",
   "execution_count": 34,
   "id": "55a48267-ed8b-413c-8940-2f55e36ce6a4",
   "metadata": {},
   "outputs": [
    {
     "name": "stdout",
     "output_type": "stream",
     "text": [
      "1\n",
      "2\n",
      "3\n",
      "4\n"
     ]
    }
   ],
   "source": [
    "for i in c:\n",
    "    print(i)"
   ]
  },
  {
   "cell_type": "code",
   "execution_count": 35,
   "id": "c8500e0e-094d-46f2-a8a3-2d8b59c2fcea",
   "metadata": {},
   "outputs": [],
   "source": [
    "# return -->return one time\n",
    "# yield -->continuously give output"
   ]
  },
  {
   "cell_type": "markdown",
   "id": "2baadc71-6391-4648-8a86-7480e16f8776",
   "metadata": {},
   "source": [
    "# LAMBDA FUNCTION"
   ]
  },
  {
   "cell_type": "code",
   "execution_count": 36,
   "id": "728158cb-bad8-4b18-988d-41e55105908f",
   "metadata": {},
   "outputs": [],
   "source": [
    "n=3\n",
    "p=2"
   ]
  },
  {
   "cell_type": "code",
   "execution_count": 38,
   "id": "825b46ad-81a1-4ba6-afe5-745d229b99e1",
   "metadata": {},
   "outputs": [],
   "source": [
    "def test(n,p):\n",
    "    return n**p"
   ]
  },
  {
   "cell_type": "code",
   "execution_count": 39,
   "id": "2467d488-e613-4741-95ee-a5d0a9ddfe85",
   "metadata": {},
   "outputs": [
    {
     "data": {
      "text/plain": [
       "8"
      ]
     },
     "execution_count": 39,
     "metadata": {},
     "output_type": "execute_result"
    }
   ],
   "source": [
    "test(2,3)"
   ]
  },
  {
   "cell_type": "code",
   "execution_count": 40,
   "id": "ec22b705-4f8e-4b69-8095-c2091e37cd0f",
   "metadata": {},
   "outputs": [],
   "source": [
    "# lanbda -->reserved keyword"
   ]
  },
  {
   "cell_type": "code",
   "execution_count": 42,
   "id": "411bc54c-fef7-4b09-89a7-abc1dfb8e7a8",
   "metadata": {},
   "outputs": [],
   "source": [
    "a=lambda n,p:n**p"
   ]
  },
  {
   "cell_type": "code",
   "execution_count": 43,
   "id": "284387ae-1570-4058-b9ce-3c1300ccda2b",
   "metadata": {},
   "outputs": [
    {
     "data": {
      "text/plain": [
       "9"
      ]
     },
     "execution_count": 43,
     "metadata": {},
     "output_type": "execute_result"
    }
   ],
   "source": [
    "a(3,2)"
   ]
  },
  {
   "cell_type": "code",
   "execution_count": 44,
   "id": "e3d38295-92cf-415e-8c8a-776cc533d877",
   "metadata": {},
   "outputs": [],
   "source": [
    "# one liner/ anonanymous/ labda function"
   ]
  },
  {
   "cell_type": "code",
   "execution_count": 47,
   "id": "79a1f0d4-bd39-45de-9c54-0207632f7103",
   "metadata": {},
   "outputs": [],
   "source": [
    "# addition lambda function"
   ]
  },
  {
   "cell_type": "code",
   "execution_count": 45,
   "id": "c4f74aeb-76a4-4bd4-9620-67af82c37e0a",
   "metadata": {},
   "outputs": [],
   "source": [
    "add= lambda x,y:x+y"
   ]
  },
  {
   "cell_type": "code",
   "execution_count": 46,
   "id": "374bfa22-0d4e-4457-825e-8d9ccffc6fb7",
   "metadata": {},
   "outputs": [
    {
     "data": {
      "text/plain": [
       "3"
      ]
     },
     "execution_count": 46,
     "metadata": {},
     "output_type": "execute_result"
    }
   ],
   "source": [
    "add(1,2)"
   ]
  },
  {
   "cell_type": "code",
   "execution_count": 48,
   "id": "c3759830-2ee3-4ee4-abbf-e0e572e78d3a",
   "metadata": {},
   "outputs": [],
   "source": [
    "# cel to farenhite"
   ]
  },
  {
   "cell_type": "code",
   "execution_count": 49,
   "id": "4dbb81df-e90a-405d-b620-35a683fed97a",
   "metadata": {},
   "outputs": [],
   "source": [
    "c_to_f =lambda c:(9/5)*c+32"
   ]
  },
  {
   "cell_type": "code",
   "execution_count": 50,
   "id": "f991edd2-be75-4e45-ad0b-f76438383d89",
   "metadata": {},
   "outputs": [
    {
     "data": {
      "text/plain": [
       "113.0"
      ]
     },
     "execution_count": 50,
     "metadata": {},
     "output_type": "execute_result"
    }
   ],
   "source": [
    "c_to_f(45)"
   ]
  },
  {
   "cell_type": "code",
   "execution_count": 51,
   "id": "bd0af4c0-5358-47f5-9e1f-f556d6778715",
   "metadata": {},
   "outputs": [],
   "source": [
    "# finding max"
   ]
  },
  {
   "cell_type": "code",
   "execution_count": 52,
   "id": "382127e1-9065-424b-ad70-3dcb26ac7dd3",
   "metadata": {},
   "outputs": [],
   "source": [
    "finding_max=lambda x,y:x if x>y else y"
   ]
  },
  {
   "cell_type": "code",
   "execution_count": 54,
   "id": "1bdd7116-63a0-4f1c-a884-eef89c4e97d9",
   "metadata": {},
   "outputs": [
    {
     "data": {
      "text/plain": [
       "69.69"
      ]
     },
     "execution_count": 54,
     "metadata": {},
     "output_type": "execute_result"
    }
   ],
   "source": [
    "finding_max(69,69.69)"
   ]
  },
  {
   "cell_type": "code",
   "execution_count": 55,
   "id": "9812e329-271f-4505-a826-7eabaa702e82",
   "metadata": {},
   "outputs": [],
   "source": [
    "s=\"pwskills\""
   ]
  },
  {
   "cell_type": "code",
   "execution_count": 58,
   "id": "0b422b3d-e7ac-49a0-aee9-b2dc9d00e145",
   "metadata": {},
   "outputs": [],
   "source": [
    "find_len=lambda s:len(s)"
   ]
  },
  {
   "cell_type": "code",
   "execution_count": 60,
   "id": "b22cd77b-6755-47bb-9fee-1764ca1da08b",
   "metadata": {},
   "outputs": [
    {
     "data": {
      "text/plain": [
       "8"
      ]
     },
     "execution_count": 60,
     "metadata": {},
     "output_type": "execute_result"
    }
   ],
   "source": [
    "find_len(s)"
   ]
  },
  {
   "cell_type": "markdown",
   "id": "dc96a410-9b78-47df-8734-abc65401ce0e",
   "metadata": {},
   "source": [
    "# MAP REDUCE AND FILTER FUNCTION"
   ]
  },
  {
   "cell_type": "code",
   "execution_count": 61,
   "id": "ce9ffb5e-a8b3-4727-aaa2-bdef20e09428",
   "metadata": {},
   "outputs": [],
   "source": [
    "l=[2,3,4,5,6]"
   ]
  },
  {
   "cell_type": "code",
   "execution_count": 68,
   "id": "64c64158-e3e1-4ab5-808c-22e586260fc4",
   "metadata": {},
   "outputs": [],
   "source": [
    "# square all elements in a list"
   ]
  },
  {
   "cell_type": "code",
   "execution_count": 62,
   "id": "31bbdf8d-1ea0-44af-9a2f-4e5a4778f574",
   "metadata": {},
   "outputs": [
    {
     "data": {
      "text/plain": [
       "[2, 3, 4, 5, 6]"
      ]
     },
     "execution_count": 62,
     "metadata": {},
     "output_type": "execute_result"
    }
   ],
   "source": [
    "l"
   ]
  },
  {
   "cell_type": "code",
   "execution_count": 66,
   "id": "02acaf86-6f85-4c5f-88e9-7a39d26f628a",
   "metadata": {},
   "outputs": [],
   "source": [
    "def test(l):\n",
    "    l2=[]\n",
    "    for i in l:\n",
    "        l2.append(i**2)\n",
    "    return l2\n",
    "        "
   ]
  },
  {
   "cell_type": "code",
   "execution_count": 67,
   "id": "94538bfa-6afa-42f5-98e8-a608d7a228e3",
   "metadata": {},
   "outputs": [
    {
     "data": {
      "text/plain": [
       "[4, 9, 16, 25, 36]"
      ]
     },
     "execution_count": 67,
     "metadata": {},
     "output_type": "execute_result"
    }
   ],
   "source": [
    "test(l)"
   ]
  },
  {
   "cell_type": "code",
   "execution_count": 69,
   "id": "5e6a9398-3ff7-4675-95fd-601a11e17072",
   "metadata": {},
   "outputs": [],
   "source": [
    "# map() function -->take 2 arguments,iterate them"
   ]
  },
  {
   "cell_type": "code",
   "execution_count": 70,
   "id": "08507f8f-f401-41b9-a97f-0a48e43e1bb5",
   "metadata": {},
   "outputs": [],
   "source": [
    "# function input doge, usko one by one map karega"
   ]
  },
  {
   "cell_type": "code",
   "execution_count": 71,
   "id": "d42f9afa-cdf1-4c7e-944f-e585ba6b2699",
   "metadata": {},
   "outputs": [],
   "source": [
    "def sq(x):\n",
    "    return x**2"
   ]
  },
  {
   "cell_type": "code",
   "execution_count": 72,
   "id": "fa41a432-2ff0-4463-a48e-f5c16c0cab1e",
   "metadata": {},
   "outputs": [
    {
     "data": {
      "text/plain": [
       "<map at 0x7efee8716e30>"
      ]
     },
     "execution_count": 72,
     "metadata": {},
     "output_type": "execute_result"
    }
   ],
   "source": [
    "map(s1,l)"
   ]
  },
  {
   "cell_type": "code",
   "execution_count": 74,
   "id": "835932e6-60b4-42f1-b0dd-0ca61b79fd40",
   "metadata": {},
   "outputs": [
    {
     "data": {
      "text/plain": [
       "[4, 9, 16, 25, 36]"
      ]
     },
     "execution_count": 74,
     "metadata": {},
     "output_type": "execute_result"
    }
   ],
   "source": [
    "list(map(sq,l))"
   ]
  },
  {
   "cell_type": "code",
   "execution_count": 76,
   "id": "b11a195a-e9ab-4e79-9026-9da80cddefb5",
   "metadata": {},
   "outputs": [
    {
     "data": {
      "text/plain": [
       "[4, 9, 16, 25, 36]"
      ]
     },
     "execution_count": 76,
     "metadata": {},
     "output_type": "execute_result"
    }
   ],
   "source": [
    "list(map(lambda x: x**2,l))"
   ]
  },
  {
   "cell_type": "code",
   "execution_count": 77,
   "id": "239acc08-809a-45a7-8d37-615fc9fd996b",
   "metadata": {},
   "outputs": [],
   "source": [
    "l1=[1,2,3,4,5]\n",
    "l2=[6,7,8,9,10]"
   ]
  },
  {
   "cell_type": "code",
   "execution_count": 78,
   "id": "d51e7fbc-d1cd-46a3-8c3f-40dca15cefdb",
   "metadata": {},
   "outputs": [
    {
     "data": {
      "text/plain": [
       "[7, 9, 11, 13, 15]"
      ]
     },
     "execution_count": 78,
     "metadata": {},
     "output_type": "execute_result"
    }
   ],
   "source": [
    "list(map(lambda x,y:x+y,l1,l2))"
   ]
  },
  {
   "cell_type": "code",
   "execution_count": 79,
   "id": "954e0360-729a-4a7e-af0e-34b187cfee4f",
   "metadata": {},
   "outputs": [],
   "source": [
    "def add(x,y):\n",
    "    return x+y"
   ]
  },
  {
   "cell_type": "code",
   "execution_count": 80,
   "id": "ac7a3274-3264-4e51-b3a1-88d4d82f3b33",
   "metadata": {},
   "outputs": [
    {
     "data": {
      "text/plain": [
       "<map at 0x7efee8716290>"
      ]
     },
     "execution_count": 80,
     "metadata": {},
     "output_type": "execute_result"
    }
   ],
   "source": [
    "map(l1,l2)"
   ]
  },
  {
   "cell_type": "code",
   "execution_count": 82,
   "id": "b91d1d33-80b3-4450-a7c7-19e346f49c0e",
   "metadata": {},
   "outputs": [
    {
     "data": {
      "text/plain": [
       "[7, 9, 11, 13, 15]"
      ]
     },
     "execution_count": 82,
     "metadata": {},
     "output_type": "execute_result"
    }
   ],
   "source": [
    "list(map(add,l1,l2))"
   ]
  },
  {
   "cell_type": "code",
   "execution_count": 83,
   "id": "89f39814-f34c-4dd3-8973-7bbc085d214f",
   "metadata": {},
   "outputs": [
    {
     "data": {
      "text/plain": [
       "['P', 'W', 'S', 'K', 'I', 'L', 'L', 'S']"
      ]
     },
     "execution_count": 83,
     "metadata": {},
     "output_type": "execute_result"
    }
   ],
   "source": [
    "s=\"pwskills\"\n",
    "list(map(lambda s:s.upper(),s))"
   ]
  },
  {
   "cell_type": "markdown",
   "id": "1f2526da-9a6d-4f82-9304-9149f2c79e62",
   "metadata": {},
   "source": [
    "# reduce "
   ]
  },
  {
   "cell_type": "code",
   "execution_count": 84,
   "id": "92c717fd-cf8a-4194-a320-b5dc461e2573",
   "metadata": {},
   "outputs": [],
   "source": [
    "from functools import reduce"
   ]
  },
  {
   "cell_type": "code",
   "execution_count": 85,
   "id": "b5d2cce6-5517-4d00-ab4d-3aae78aa7914",
   "metadata": {},
   "outputs": [],
   "source": [
    "l=[1,2,3,4,5]"
   ]
  },
  {
   "cell_type": "code",
   "execution_count": 86,
   "id": "802c9f0b-c787-4826-9cdb-433a8c14e0cd",
   "metadata": {},
   "outputs": [
    {
     "data": {
      "text/plain": [
       "[1, 2, 3, 4, 5]"
      ]
     },
     "execution_count": 86,
     "metadata": {},
     "output_type": "execute_result"
    }
   ],
   "source": [
    "l"
   ]
  },
  {
   "cell_type": "code",
   "execution_count": 89,
   "id": "950d4109-bf9d-4455-89e7-b0df0801c3ae",
   "metadata": {},
   "outputs": [
    {
     "data": {
      "text/plain": [
       "15"
      ]
     },
     "execution_count": 89,
     "metadata": {},
     "output_type": "execute_result"
    }
   ],
   "source": [
    "reduce(lambda x,y: x+y,l)"
   ]
  },
  {
   "cell_type": "code",
   "execution_count": 90,
   "id": "14bb9042-3ecd-41cb-8468-e822c5015af6",
   "metadata": {},
   "outputs": [
    {
     "ename": "TypeError",
     "evalue": "reduce() arg 2 must support iteration",
     "output_type": "error",
     "traceback": [
      "\u001b[0;31m---------------------------------------------------------------------------\u001b[0m",
      "\u001b[0;31mTypeError\u001b[0m                                 Traceback (most recent call last)",
      "Cell \u001b[0;32mIn[90], line 1\u001b[0m\n\u001b[0;32m----> 1\u001b[0m \u001b[43mreduce\u001b[49m\u001b[43m(\u001b[49m\u001b[38;5;28;43;01mlambda\u001b[39;49;00m\u001b[43m \u001b[49m\u001b[43mx\u001b[49m\u001b[43m,\u001b[49m\u001b[43my\u001b[49m\u001b[43m,\u001b[49m\u001b[43mz\u001b[49m\u001b[43m:\u001b[49m\u001b[43mx\u001b[49m\u001b[38;5;241;43m+\u001b[39;49m\u001b[43my\u001b[49m\u001b[38;5;241;43m+\u001b[39;49m\u001b[43mz\u001b[49m\u001b[43m,\u001b[49m\u001b[38;5;241;43m1\u001b[39;49m\u001b[43m)\u001b[49m\n",
      "\u001b[0;31mTypeError\u001b[0m: reduce() arg 2 must support iteration"
     ]
    }
   ],
   "source": [
    "reduce(lambda x,y,z:x+y+z,1)"
   ]
  },
  {
   "cell_type": "code",
   "execution_count": 91,
   "id": "47802d11-21d9-4ae5-843a-19d36786da28",
   "metadata": {},
   "outputs": [],
   "source": [
    "# take only 2 parameters for reduce func --x,y"
   ]
  },
  {
   "cell_type": "code",
   "execution_count": 92,
   "id": "9e50ae96-d047-4438-a19d-670a4798757e",
   "metadata": {},
   "outputs": [
    {
     "data": {
      "text/plain": [
       "1"
      ]
     },
     "execution_count": 92,
     "metadata": {},
     "output_type": "execute_result"
    }
   ],
   "source": [
    "reduce(lambda x,y:x+y, [1])"
   ]
  },
  {
   "cell_type": "code",
   "execution_count": 94,
   "id": "bf531345-35a6-46cd-880f-25ebdb7f6661",
   "metadata": {},
   "outputs": [
    {
     "data": {
      "text/plain": [
       "120"
      ]
     },
     "execution_count": 94,
     "metadata": {},
     "output_type": "execute_result"
    }
   ],
   "source": [
    "reduce(lambda x,y:x*y,l)"
   ]
  },
  {
   "cell_type": "code",
   "execution_count": 95,
   "id": "808a23fc-5241-43e2-bef1-ca6dcd5df5f0",
   "metadata": {},
   "outputs": [
    {
     "data": {
      "text/plain": [
       "[1, 2, 3, 4, 5]"
      ]
     },
     "execution_count": 95,
     "metadata": {},
     "output_type": "execute_result"
    }
   ],
   "source": [
    "l"
   ]
  },
  {
   "cell_type": "code",
   "execution_count": 96,
   "id": "59b7487f-1c6e-4133-9589-e04bfce745cb",
   "metadata": {},
   "outputs": [
    {
     "data": {
      "text/plain": [
       "5"
      ]
     },
     "execution_count": 96,
     "metadata": {},
     "output_type": "execute_result"
    }
   ],
   "source": [
    "reduce(lambda x,y: x if x>y else y,l)"
   ]
  },
  {
   "cell_type": "markdown",
   "id": "89f947f2-a86a-4005-ab2c-acff471c217e",
   "metadata": {},
   "source": [
    "# FILTER"
   ]
  },
  {
   "cell_type": "code",
   "execution_count": 97,
   "id": "faca9dd0-f109-4c9c-874c-7bdfcc274678",
   "metadata": {},
   "outputs": [
    {
     "data": {
      "text/plain": [
       "[1, 2, 3, 4, 5]"
      ]
     },
     "execution_count": 97,
     "metadata": {},
     "output_type": "execute_result"
    }
   ],
   "source": [
    "l"
   ]
  },
  {
   "cell_type": "code",
   "execution_count": 100,
   "id": "737fb1f8-4a11-47a9-9b4b-8d6c183c1371",
   "metadata": {},
   "outputs": [
    {
     "data": {
      "text/plain": [
       "[2, 4]"
      ]
     },
     "execution_count": 100,
     "metadata": {},
     "output_type": "execute_result"
    }
   ],
   "source": [
    "list(filter(lambda x:x%2==0,l))"
   ]
  },
  {
   "cell_type": "code",
   "execution_count": 101,
   "id": "40b140a2-22b7-4ae3-aadc-2ff50bcf3424",
   "metadata": {},
   "outputs": [
    {
     "data": {
      "text/plain": [
       "[1, 3, 5]"
      ]
     },
     "execution_count": 101,
     "metadata": {},
     "output_type": "execute_result"
    }
   ],
   "source": [
    "list(filter(lambda x:x%2!=0,l))"
   ]
  },
  {
   "cell_type": "code",
   "execution_count": 105,
   "id": "7df1f28d-6606-4693-9fc3-36eb33791b0e",
   "metadata": {},
   "outputs": [],
   "source": [
    "l1=[-3,4,5,6,-1,-69]"
   ]
  },
  {
   "cell_type": "code",
   "execution_count": 106,
   "id": "c2f988a7-d582-48f1-99cd-43443e2043bf",
   "metadata": {},
   "outputs": [
    {
     "data": {
      "text/plain": [
       "[-3, -1, -69]"
      ]
     },
     "execution_count": 106,
     "metadata": {},
     "output_type": "execute_result"
    }
   ],
   "source": [
    "list(filter(lambda x:x<0,l1))"
   ]
  },
  {
   "cell_type": "code",
   "execution_count": 107,
   "id": "fa55505a-570a-4983-8077-d986f4f30354",
   "metadata": {},
   "outputs": [
    {
     "data": {
      "text/plain": [
       "<filter at 0x7efee851d450>"
      ]
     },
     "execution_count": 107,
     "metadata": {},
     "output_type": "execute_result"
    }
   ],
   "source": [
    "filter(lambda x:x<0,l1)"
   ]
  },
  {
   "cell_type": "code",
   "execution_count": 108,
   "id": "078abaa5-f531-41c5-8d50-c18fdf976ee3",
   "metadata": {},
   "outputs": [],
   "source": [
    "l2=[\"sudh\",\"pwskills\",\"kumar\",\"bangalore\",\"krish\"]"
   ]
  },
  {
   "cell_type": "code",
   "execution_count": 109,
   "id": "776c6ccc-d041-45ae-9657-e045ac0a7dfd",
   "metadata": {},
   "outputs": [
    {
     "data": {
      "text/plain": [
       "['sudh', 'pwskills', 'kumar', 'bangalore', 'krish']"
      ]
     },
     "execution_count": 109,
     "metadata": {},
     "output_type": "execute_result"
    }
   ],
   "source": [
    "l2"
   ]
  },
  {
   "cell_type": "code",
   "execution_count": 110,
   "id": "c25e36f8-c324-4a07-9a39-e585066f539b",
   "metadata": {},
   "outputs": [
    {
     "data": {
      "text/plain": [
       "<filter at 0x7efee851ecb0>"
      ]
     },
     "execution_count": 110,
     "metadata": {},
     "output_type": "execute_result"
    }
   ],
   "source": [
    "filter(lambda x:len(x)<6,l2)"
   ]
  },
  {
   "cell_type": "code",
   "execution_count": 111,
   "id": "22962285-a515-4dfb-8609-4c5b7432843e",
   "metadata": {},
   "outputs": [
    {
     "data": {
      "text/plain": [
       "['sudh', 'kumar', 'krish']"
      ]
     },
     "execution_count": 111,
     "metadata": {},
     "output_type": "execute_result"
    }
   ],
   "source": [
    "list(filter(lambda x:len(x)<6,l2))"
   ]
  },
  {
   "cell_type": "code",
   "execution_count": null,
   "id": "06d2e4d1-8c52-48a7-bd06-3226afb52085",
   "metadata": {},
   "outputs": [],
   "source": []
  }
 ],
 "metadata": {
  "kernelspec": {
   "display_name": "Python 3 (ipykernel)",
   "language": "python",
   "name": "python3"
  },
  "language_info": {
   "codemirror_mode": {
    "name": "ipython",
    "version": 3
   },
   "file_extension": ".py",
   "mimetype": "text/x-python",
   "name": "python",
   "nbconvert_exporter": "python",
   "pygments_lexer": "ipython3",
   "version": "3.10.8"
  }
 },
 "nbformat": 4,
 "nbformat_minor": 5
}
